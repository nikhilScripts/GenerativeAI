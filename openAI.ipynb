{
  "nbformat": 4,
  "nbformat_minor": 0,
  "metadata": {
    "colab": {
      "provenance": [],
      "toc_visible": true,
      "authorship_tag": "ABX9TyNnK3FcM+M9LqQrKlIF2dC2",
      "include_colab_link": true
    },
    "kernelspec": {
      "name": "python3",
      "display_name": "Python 3"
    },
    "language_info": {
      "name": "python"
    }
  },
  "cells": [
    {
      "cell_type": "markdown",
      "metadata": {
        "id": "view-in-github",
        "colab_type": "text"
      },
      "source": [
        "<a href=\"https://colab.research.google.com/github/nikhilScripts/OpenAi/blob/main/openAI.ipynb\" target=\"_parent\"><img src=\"https://colab.research.google.com/assets/colab-badge.svg\" alt=\"Open In Colab\"/></a>"
      ]
    },
    {
      "cell_type": "markdown",
      "source": [
        "## Open ai\n"
      ],
      "metadata": {
        "id": "ayZCmFI5QPdT"
      }
    },
    {
      "cell_type": "code",
      "execution_count": null,
      "metadata": {
        "id": "rjQV2GrK59HY",
        "colab": {
          "base_uri": "https://localhost:8080/"
        },
        "outputId": "40752bba-75f4-46c3-b01f-ab700060082b"
      },
      "outputs": [
        {
          "output_type": "stream",
          "name": "stdout",
          "text": [
            "Requirement already satisfied: openai in /usr/local/lib/python3.11/dist-packages (1.61.1)\n",
            "Requirement already satisfied: anyio<5,>=3.5.0 in /usr/local/lib/python3.11/dist-packages (from openai) (3.7.1)\n",
            "Requirement already satisfied: distro<2,>=1.7.0 in /usr/local/lib/python3.11/dist-packages (from openai) (1.9.0)\n",
            "Requirement already satisfied: httpx<1,>=0.23.0 in /usr/local/lib/python3.11/dist-packages (from openai) (0.28.1)\n",
            "Requirement already satisfied: jiter<1,>=0.4.0 in /usr/local/lib/python3.11/dist-packages (from openai) (0.8.2)\n",
            "Requirement already satisfied: pydantic<3,>=1.9.0 in /usr/local/lib/python3.11/dist-packages (from openai) (2.10.6)\n",
            "Requirement already satisfied: sniffio in /usr/local/lib/python3.11/dist-packages (from openai) (1.3.1)\n",
            "Requirement already satisfied: tqdm>4 in /usr/local/lib/python3.11/dist-packages (from openai) (4.67.1)\n",
            "Requirement already satisfied: typing-extensions<5,>=4.11 in /usr/local/lib/python3.11/dist-packages (from openai) (4.12.2)\n",
            "Requirement already satisfied: idna>=2.8 in /usr/local/lib/python3.11/dist-packages (from anyio<5,>=3.5.0->openai) (3.10)\n",
            "Requirement already satisfied: certifi in /usr/local/lib/python3.11/dist-packages (from httpx<1,>=0.23.0->openai) (2025.1.31)\n",
            "Requirement already satisfied: httpcore==1.* in /usr/local/lib/python3.11/dist-packages (from httpx<1,>=0.23.0->openai) (1.0.7)\n",
            "Requirement already satisfied: h11<0.15,>=0.13 in /usr/local/lib/python3.11/dist-packages (from httpcore==1.*->httpx<1,>=0.23.0->openai) (0.14.0)\n",
            "Requirement already satisfied: annotated-types>=0.6.0 in /usr/local/lib/python3.11/dist-packages (from pydantic<3,>=1.9.0->openai) (0.7.0)\n",
            "Requirement already satisfied: pydantic-core==2.27.2 in /usr/local/lib/python3.11/dist-packages (from pydantic<3,>=1.9.0->openai) (2.27.2)\n"
          ]
        }
      ],
      "source": [
        "pip install openai"
      ]
    },
    {
      "cell_type": "code",
      "source": [
        "import openai"
      ],
      "metadata": {
        "id": "hpWjp0MGlNCV"
      },
      "execution_count": null,
      "outputs": []
    },
    {
      "cell_type": "code",
      "source": [
        "mykey = \"your key\""
      ],
      "metadata": {
        "id": "IwmBER9MjrjB"
      },
      "execution_count": null,
      "outputs": []
    },
    {
      "source": [
        "\n",
        "openai.api_key = mykey\n",
        "allmodels = openai.models.list()"
      ],
      "cell_type": "code",
      "metadata": {
        "id": "jbTnBZ_Ek0EH"
      },
      "execution_count": null,
      "outputs": []
    },
    {
      "cell_type": "code",
      "source": [
        "import pandas as pd\n",
        "pd.DataFrame(allmodels)"
      ],
      "metadata": {
        "colab": {
          "base_uri": "https://localhost:8080/",
          "height": 1000
        },
        "id": "NczLCMoMl2-N",
        "outputId": "9f571339-bc99-4527-9fe6-c6e18f28c2ad"
      },
      "execution_count": null,
      "outputs": [
        {
          "output_type": "execute_result",
          "data": {
            "text/plain": [
              "                                             0                      1  \\\n",
              "0   (id, gpt-4o-mini-audio-preview-2024-12-17)  (created, 1734115920)   \n",
              "1                               (id, dall-e-3)  (created, 1698785189)   \n",
              "2                               (id, dall-e-2)  (created, 1698798177)   \n",
              "3        (id, gpt-4o-audio-preview-2024-10-01)  (created, 1727389042)   \n",
              "4                   (id, gpt-4o-audio-preview)  (created, 1727460443)   \n",
              "5                     (id, o1-mini-2024-09-12)  (created, 1725648979)   \n",
              "6                  (id, o1-preview-2024-09-12)  (created, 1725648865)   \n",
              "7                                (id, o1-mini)  (created, 1725649008)   \n",
              "8                             (id, o1-preview)  (created, 1725648897)   \n",
              "9                              (id, whisper-1)  (created, 1677532384)   \n",
              "10             (id, gpt-4o-mini-audio-preview)  (created, 1734387424)   \n",
              "11                           (id, babbage-002)  (created, 1692634615)   \n",
              "12                         (id, tts-1-hd-1106)  (created, 1699053533)   \n",
              "13                     (id, gpt-4o-2024-11-20)  (created, 1739331543)   \n",
              "14                              (id, tts-1-hd)  (created, 1699046015)   \n",
              "15                (id, text-embedding-3-large)  (created, 1705953180)   \n",
              "16                (id, gpt-4o-mini-2024-07-18)  (created, 1721172717)   \n",
              "17                           (id, gpt-4o-mini)  (created, 1721172741)   \n",
              "18                                 (id, tts-1)  (created, 1681940951)   \n",
              "19                            (id, tts-1-1106)  (created, 1699053241)   \n",
              "20                           (id, davinci-002)  (created, 1692634301)   \n",
              "21                    (id, gpt-3.5-turbo-1106)  (created, 1698959748)   \n",
              "22            (id, omni-moderation-2024-09-26)  (created, 1732734466)   \n",
              "23                (id, gpt-3.5-turbo-instruct)  (created, 1692901427)   \n",
              "24                                (id, gpt-4o)  (created, 1715367049)   \n",
              "25                     (id, gpt-4o-2024-08-06)  (created, 1722814719)   \n",
              "26           (id, gpt-3.5-turbo-instruct-0914)  (created, 1694122472)   \n",
              "27                    (id, gpt-3.5-turbo-0125)  (created, 1706048358)   \n",
              "28                         (id, gpt-3.5-turbo)  (created, 1677610602)   \n",
              "29                     (id, gpt-3.5-turbo-16k)  (created, 1683758102)   \n",
              "30                (id, text-embedding-3-small)  (created, 1705948997)   \n",
              "31                (id, text-embedding-ada-002)  (created, 1671217299)   \n",
              "32                (id, omni-moderation-latest)  (created, 1731689265)   \n",
              "33                     (id, gpt-4o-2024-05-13)  (created, 1715368132)   \n",
              "\n",
              "                  2                            3  \n",
              "0   (object, model)           (owned_by, system)  \n",
              "1   (object, model)           (owned_by, system)  \n",
              "2   (object, model)           (owned_by, system)  \n",
              "3   (object, model)           (owned_by, system)  \n",
              "4   (object, model)           (owned_by, system)  \n",
              "5   (object, model)           (owned_by, system)  \n",
              "6   (object, model)           (owned_by, system)  \n",
              "7   (object, model)           (owned_by, system)  \n",
              "8   (object, model)           (owned_by, system)  \n",
              "9   (object, model)  (owned_by, openai-internal)  \n",
              "10  (object, model)           (owned_by, system)  \n",
              "11  (object, model)           (owned_by, system)  \n",
              "12  (object, model)           (owned_by, system)  \n",
              "13  (object, model)           (owned_by, system)  \n",
              "14  (object, model)           (owned_by, system)  \n",
              "15  (object, model)           (owned_by, system)  \n",
              "16  (object, model)           (owned_by, system)  \n",
              "17  (object, model)           (owned_by, system)  \n",
              "18  (object, model)  (owned_by, openai-internal)  \n",
              "19  (object, model)           (owned_by, system)  \n",
              "20  (object, model)           (owned_by, system)  \n",
              "21  (object, model)           (owned_by, system)  \n",
              "22  (object, model)           (owned_by, system)  \n",
              "23  (object, model)           (owned_by, system)  \n",
              "24  (object, model)           (owned_by, system)  \n",
              "25  (object, model)           (owned_by, system)  \n",
              "26  (object, model)           (owned_by, system)  \n",
              "27  (object, model)           (owned_by, system)  \n",
              "28  (object, model)           (owned_by, openai)  \n",
              "29  (object, model)  (owned_by, openai-internal)  \n",
              "30  (object, model)           (owned_by, system)  \n",
              "31  (object, model)  (owned_by, openai-internal)  \n",
              "32  (object, model)           (owned_by, system)  \n",
              "33  (object, model)           (owned_by, system)  "
            ],
            "text/html": [
              "\n",
              "  <div id=\"df-9ea88273-13c6-4e0e-916d-664c8d6e1592\" class=\"colab-df-container\">\n",
              "    <div>\n",
              "<style scoped>\n",
              "    .dataframe tbody tr th:only-of-type {\n",
              "        vertical-align: middle;\n",
              "    }\n",
              "\n",
              "    .dataframe tbody tr th {\n",
              "        vertical-align: top;\n",
              "    }\n",
              "\n",
              "    .dataframe thead th {\n",
              "        text-align: right;\n",
              "    }\n",
              "</style>\n",
              "<table border=\"1\" class=\"dataframe\">\n",
              "  <thead>\n",
              "    <tr style=\"text-align: right;\">\n",
              "      <th></th>\n",
              "      <th>0</th>\n",
              "      <th>1</th>\n",
              "      <th>2</th>\n",
              "      <th>3</th>\n",
              "    </tr>\n",
              "  </thead>\n",
              "  <tbody>\n",
              "    <tr>\n",
              "      <th>0</th>\n",
              "      <td>(id, gpt-4o-mini-audio-preview-2024-12-17)</td>\n",
              "      <td>(created, 1734115920)</td>\n",
              "      <td>(object, model)</td>\n",
              "      <td>(owned_by, system)</td>\n",
              "    </tr>\n",
              "    <tr>\n",
              "      <th>1</th>\n",
              "      <td>(id, dall-e-3)</td>\n",
              "      <td>(created, 1698785189)</td>\n",
              "      <td>(object, model)</td>\n",
              "      <td>(owned_by, system)</td>\n",
              "    </tr>\n",
              "    <tr>\n",
              "      <th>2</th>\n",
              "      <td>(id, dall-e-2)</td>\n",
              "      <td>(created, 1698798177)</td>\n",
              "      <td>(object, model)</td>\n",
              "      <td>(owned_by, system)</td>\n",
              "    </tr>\n",
              "    <tr>\n",
              "      <th>3</th>\n",
              "      <td>(id, gpt-4o-audio-preview-2024-10-01)</td>\n",
              "      <td>(created, 1727389042)</td>\n",
              "      <td>(object, model)</td>\n",
              "      <td>(owned_by, system)</td>\n",
              "    </tr>\n",
              "    <tr>\n",
              "      <th>4</th>\n",
              "      <td>(id, gpt-4o-audio-preview)</td>\n",
              "      <td>(created, 1727460443)</td>\n",
              "      <td>(object, model)</td>\n",
              "      <td>(owned_by, system)</td>\n",
              "    </tr>\n",
              "    <tr>\n",
              "      <th>5</th>\n",
              "      <td>(id, o1-mini-2024-09-12)</td>\n",
              "      <td>(created, 1725648979)</td>\n",
              "      <td>(object, model)</td>\n",
              "      <td>(owned_by, system)</td>\n",
              "    </tr>\n",
              "    <tr>\n",
              "      <th>6</th>\n",
              "      <td>(id, o1-preview-2024-09-12)</td>\n",
              "      <td>(created, 1725648865)</td>\n",
              "      <td>(object, model)</td>\n",
              "      <td>(owned_by, system)</td>\n",
              "    </tr>\n",
              "    <tr>\n",
              "      <th>7</th>\n",
              "      <td>(id, o1-mini)</td>\n",
              "      <td>(created, 1725649008)</td>\n",
              "      <td>(object, model)</td>\n",
              "      <td>(owned_by, system)</td>\n",
              "    </tr>\n",
              "    <tr>\n",
              "      <th>8</th>\n",
              "      <td>(id, o1-preview)</td>\n",
              "      <td>(created, 1725648897)</td>\n",
              "      <td>(object, model)</td>\n",
              "      <td>(owned_by, system)</td>\n",
              "    </tr>\n",
              "    <tr>\n",
              "      <th>9</th>\n",
              "      <td>(id, whisper-1)</td>\n",
              "      <td>(created, 1677532384)</td>\n",
              "      <td>(object, model)</td>\n",
              "      <td>(owned_by, openai-internal)</td>\n",
              "    </tr>\n",
              "    <tr>\n",
              "      <th>10</th>\n",
              "      <td>(id, gpt-4o-mini-audio-preview)</td>\n",
              "      <td>(created, 1734387424)</td>\n",
              "      <td>(object, model)</td>\n",
              "      <td>(owned_by, system)</td>\n",
              "    </tr>\n",
              "    <tr>\n",
              "      <th>11</th>\n",
              "      <td>(id, babbage-002)</td>\n",
              "      <td>(created, 1692634615)</td>\n",
              "      <td>(object, model)</td>\n",
              "      <td>(owned_by, system)</td>\n",
              "    </tr>\n",
              "    <tr>\n",
              "      <th>12</th>\n",
              "      <td>(id, tts-1-hd-1106)</td>\n",
              "      <td>(created, 1699053533)</td>\n",
              "      <td>(object, model)</td>\n",
              "      <td>(owned_by, system)</td>\n",
              "    </tr>\n",
              "    <tr>\n",
              "      <th>13</th>\n",
              "      <td>(id, gpt-4o-2024-11-20)</td>\n",
              "      <td>(created, 1739331543)</td>\n",
              "      <td>(object, model)</td>\n",
              "      <td>(owned_by, system)</td>\n",
              "    </tr>\n",
              "    <tr>\n",
              "      <th>14</th>\n",
              "      <td>(id, tts-1-hd)</td>\n",
              "      <td>(created, 1699046015)</td>\n",
              "      <td>(object, model)</td>\n",
              "      <td>(owned_by, system)</td>\n",
              "    </tr>\n",
              "    <tr>\n",
              "      <th>15</th>\n",
              "      <td>(id, text-embedding-3-large)</td>\n",
              "      <td>(created, 1705953180)</td>\n",
              "      <td>(object, model)</td>\n",
              "      <td>(owned_by, system)</td>\n",
              "    </tr>\n",
              "    <tr>\n",
              "      <th>16</th>\n",
              "      <td>(id, gpt-4o-mini-2024-07-18)</td>\n",
              "      <td>(created, 1721172717)</td>\n",
              "      <td>(object, model)</td>\n",
              "      <td>(owned_by, system)</td>\n",
              "    </tr>\n",
              "    <tr>\n",
              "      <th>17</th>\n",
              "      <td>(id, gpt-4o-mini)</td>\n",
              "      <td>(created, 1721172741)</td>\n",
              "      <td>(object, model)</td>\n",
              "      <td>(owned_by, system)</td>\n",
              "    </tr>\n",
              "    <tr>\n",
              "      <th>18</th>\n",
              "      <td>(id, tts-1)</td>\n",
              "      <td>(created, 1681940951)</td>\n",
              "      <td>(object, model)</td>\n",
              "      <td>(owned_by, openai-internal)</td>\n",
              "    </tr>\n",
              "    <tr>\n",
              "      <th>19</th>\n",
              "      <td>(id, tts-1-1106)</td>\n",
              "      <td>(created, 1699053241)</td>\n",
              "      <td>(object, model)</td>\n",
              "      <td>(owned_by, system)</td>\n",
              "    </tr>\n",
              "    <tr>\n",
              "      <th>20</th>\n",
              "      <td>(id, davinci-002)</td>\n",
              "      <td>(created, 1692634301)</td>\n",
              "      <td>(object, model)</td>\n",
              "      <td>(owned_by, system)</td>\n",
              "    </tr>\n",
              "    <tr>\n",
              "      <th>21</th>\n",
              "      <td>(id, gpt-3.5-turbo-1106)</td>\n",
              "      <td>(created, 1698959748)</td>\n",
              "      <td>(object, model)</td>\n",
              "      <td>(owned_by, system)</td>\n",
              "    </tr>\n",
              "    <tr>\n",
              "      <th>22</th>\n",
              "      <td>(id, omni-moderation-2024-09-26)</td>\n",
              "      <td>(created, 1732734466)</td>\n",
              "      <td>(object, model)</td>\n",
              "      <td>(owned_by, system)</td>\n",
              "    </tr>\n",
              "    <tr>\n",
              "      <th>23</th>\n",
              "      <td>(id, gpt-3.5-turbo-instruct)</td>\n",
              "      <td>(created, 1692901427)</td>\n",
              "      <td>(object, model)</td>\n",
              "      <td>(owned_by, system)</td>\n",
              "    </tr>\n",
              "    <tr>\n",
              "      <th>24</th>\n",
              "      <td>(id, gpt-4o)</td>\n",
              "      <td>(created, 1715367049)</td>\n",
              "      <td>(object, model)</td>\n",
              "      <td>(owned_by, system)</td>\n",
              "    </tr>\n",
              "    <tr>\n",
              "      <th>25</th>\n",
              "      <td>(id, gpt-4o-2024-08-06)</td>\n",
              "      <td>(created, 1722814719)</td>\n",
              "      <td>(object, model)</td>\n",
              "      <td>(owned_by, system)</td>\n",
              "    </tr>\n",
              "    <tr>\n",
              "      <th>26</th>\n",
              "      <td>(id, gpt-3.5-turbo-instruct-0914)</td>\n",
              "      <td>(created, 1694122472)</td>\n",
              "      <td>(object, model)</td>\n",
              "      <td>(owned_by, system)</td>\n",
              "    </tr>\n",
              "    <tr>\n",
              "      <th>27</th>\n",
              "      <td>(id, gpt-3.5-turbo-0125)</td>\n",
              "      <td>(created, 1706048358)</td>\n",
              "      <td>(object, model)</td>\n",
              "      <td>(owned_by, system)</td>\n",
              "    </tr>\n",
              "    <tr>\n",
              "      <th>28</th>\n",
              "      <td>(id, gpt-3.5-turbo)</td>\n",
              "      <td>(created, 1677610602)</td>\n",
              "      <td>(object, model)</td>\n",
              "      <td>(owned_by, openai)</td>\n",
              "    </tr>\n",
              "    <tr>\n",
              "      <th>29</th>\n",
              "      <td>(id, gpt-3.5-turbo-16k)</td>\n",
              "      <td>(created, 1683758102)</td>\n",
              "      <td>(object, model)</td>\n",
              "      <td>(owned_by, openai-internal)</td>\n",
              "    </tr>\n",
              "    <tr>\n",
              "      <th>30</th>\n",
              "      <td>(id, text-embedding-3-small)</td>\n",
              "      <td>(created, 1705948997)</td>\n",
              "      <td>(object, model)</td>\n",
              "      <td>(owned_by, system)</td>\n",
              "    </tr>\n",
              "    <tr>\n",
              "      <th>31</th>\n",
              "      <td>(id, text-embedding-ada-002)</td>\n",
              "      <td>(created, 1671217299)</td>\n",
              "      <td>(object, model)</td>\n",
              "      <td>(owned_by, openai-internal)</td>\n",
              "    </tr>\n",
              "    <tr>\n",
              "      <th>32</th>\n",
              "      <td>(id, omni-moderation-latest)</td>\n",
              "      <td>(created, 1731689265)</td>\n",
              "      <td>(object, model)</td>\n",
              "      <td>(owned_by, system)</td>\n",
              "    </tr>\n",
              "    <tr>\n",
              "      <th>33</th>\n",
              "      <td>(id, gpt-4o-2024-05-13)</td>\n",
              "      <td>(created, 1715368132)</td>\n",
              "      <td>(object, model)</td>\n",
              "      <td>(owned_by, system)</td>\n",
              "    </tr>\n",
              "  </tbody>\n",
              "</table>\n",
              "</div>\n",
              "    <div class=\"colab-df-buttons\">\n",
              "\n",
              "  <div class=\"colab-df-container\">\n",
              "    <button class=\"colab-df-convert\" onclick=\"convertToInteractive('df-9ea88273-13c6-4e0e-916d-664c8d6e1592')\"\n",
              "            title=\"Convert this dataframe to an interactive table.\"\n",
              "            style=\"display:none;\">\n",
              "\n",
              "  <svg xmlns=\"http://www.w3.org/2000/svg\" height=\"24px\" viewBox=\"0 -960 960 960\">\n",
              "    <path d=\"M120-120v-720h720v720H120Zm60-500h600v-160H180v160Zm220 220h160v-160H400v160Zm0 220h160v-160H400v160ZM180-400h160v-160H180v160Zm440 0h160v-160H620v160ZM180-180h160v-160H180v160Zm440 0h160v-160H620v160Z\"/>\n",
              "  </svg>\n",
              "    </button>\n",
              "\n",
              "  <style>\n",
              "    .colab-df-container {\n",
              "      display:flex;\n",
              "      gap: 12px;\n",
              "    }\n",
              "\n",
              "    .colab-df-convert {\n",
              "      background-color: #E8F0FE;\n",
              "      border: none;\n",
              "      border-radius: 50%;\n",
              "      cursor: pointer;\n",
              "      display: none;\n",
              "      fill: #1967D2;\n",
              "      height: 32px;\n",
              "      padding: 0 0 0 0;\n",
              "      width: 32px;\n",
              "    }\n",
              "\n",
              "    .colab-df-convert:hover {\n",
              "      background-color: #E2EBFA;\n",
              "      box-shadow: 0px 1px 2px rgba(60, 64, 67, 0.3), 0px 1px 3px 1px rgba(60, 64, 67, 0.15);\n",
              "      fill: #174EA6;\n",
              "    }\n",
              "\n",
              "    .colab-df-buttons div {\n",
              "      margin-bottom: 4px;\n",
              "    }\n",
              "\n",
              "    [theme=dark] .colab-df-convert {\n",
              "      background-color: #3B4455;\n",
              "      fill: #D2E3FC;\n",
              "    }\n",
              "\n",
              "    [theme=dark] .colab-df-convert:hover {\n",
              "      background-color: #434B5C;\n",
              "      box-shadow: 0px 1px 3px 1px rgba(0, 0, 0, 0.15);\n",
              "      filter: drop-shadow(0px 1px 2px rgba(0, 0, 0, 0.3));\n",
              "      fill: #FFFFFF;\n",
              "    }\n",
              "  </style>\n",
              "\n",
              "    <script>\n",
              "      const buttonEl =\n",
              "        document.querySelector('#df-9ea88273-13c6-4e0e-916d-664c8d6e1592 button.colab-df-convert');\n",
              "      buttonEl.style.display =\n",
              "        google.colab.kernel.accessAllowed ? 'block' : 'none';\n",
              "\n",
              "      async function convertToInteractive(key) {\n",
              "        const element = document.querySelector('#df-9ea88273-13c6-4e0e-916d-664c8d6e1592');\n",
              "        const dataTable =\n",
              "          await google.colab.kernel.invokeFunction('convertToInteractive',\n",
              "                                                    [key], {});\n",
              "        if (!dataTable) return;\n",
              "\n",
              "        const docLinkHtml = 'Like what you see? Visit the ' +\n",
              "          '<a target=\"_blank\" href=https://colab.research.google.com/notebooks/data_table.ipynb>data table notebook</a>'\n",
              "          + ' to learn more about interactive tables.';\n",
              "        element.innerHTML = '';\n",
              "        dataTable['output_type'] = 'display_data';\n",
              "        await google.colab.output.renderOutput(dataTable, element);\n",
              "        const docLink = document.createElement('div');\n",
              "        docLink.innerHTML = docLinkHtml;\n",
              "        element.appendChild(docLink);\n",
              "      }\n",
              "    </script>\n",
              "  </div>\n",
              "\n",
              "\n",
              "<div id=\"df-4f605177-def0-4e9f-be45-cfc7854e5045\">\n",
              "  <button class=\"colab-df-quickchart\" onclick=\"quickchart('df-4f605177-def0-4e9f-be45-cfc7854e5045')\"\n",
              "            title=\"Suggest charts\"\n",
              "            style=\"display:none;\">\n",
              "\n",
              "<svg xmlns=\"http://www.w3.org/2000/svg\" height=\"24px\"viewBox=\"0 0 24 24\"\n",
              "     width=\"24px\">\n",
              "    <g>\n",
              "        <path d=\"M19 3H5c-1.1 0-2 .9-2 2v14c0 1.1.9 2 2 2h14c1.1 0 2-.9 2-2V5c0-1.1-.9-2-2-2zM9 17H7v-7h2v7zm4 0h-2V7h2v10zm4 0h-2v-4h2v4z\"/>\n",
              "    </g>\n",
              "</svg>\n",
              "  </button>\n",
              "\n",
              "<style>\n",
              "  .colab-df-quickchart {\n",
              "      --bg-color: #E8F0FE;\n",
              "      --fill-color: #1967D2;\n",
              "      --hover-bg-color: #E2EBFA;\n",
              "      --hover-fill-color: #174EA6;\n",
              "      --disabled-fill-color: #AAA;\n",
              "      --disabled-bg-color: #DDD;\n",
              "  }\n",
              "\n",
              "  [theme=dark] .colab-df-quickchart {\n",
              "      --bg-color: #3B4455;\n",
              "      --fill-color: #D2E3FC;\n",
              "      --hover-bg-color: #434B5C;\n",
              "      --hover-fill-color: #FFFFFF;\n",
              "      --disabled-bg-color: #3B4455;\n",
              "      --disabled-fill-color: #666;\n",
              "  }\n",
              "\n",
              "  .colab-df-quickchart {\n",
              "    background-color: var(--bg-color);\n",
              "    border: none;\n",
              "    border-radius: 50%;\n",
              "    cursor: pointer;\n",
              "    display: none;\n",
              "    fill: var(--fill-color);\n",
              "    height: 32px;\n",
              "    padding: 0;\n",
              "    width: 32px;\n",
              "  }\n",
              "\n",
              "  .colab-df-quickchart:hover {\n",
              "    background-color: var(--hover-bg-color);\n",
              "    box-shadow: 0 1px 2px rgba(60, 64, 67, 0.3), 0 1px 3px 1px rgba(60, 64, 67, 0.15);\n",
              "    fill: var(--button-hover-fill-color);\n",
              "  }\n",
              "\n",
              "  .colab-df-quickchart-complete:disabled,\n",
              "  .colab-df-quickchart-complete:disabled:hover {\n",
              "    background-color: var(--disabled-bg-color);\n",
              "    fill: var(--disabled-fill-color);\n",
              "    box-shadow: none;\n",
              "  }\n",
              "\n",
              "  .colab-df-spinner {\n",
              "    border: 2px solid var(--fill-color);\n",
              "    border-color: transparent;\n",
              "    border-bottom-color: var(--fill-color);\n",
              "    animation:\n",
              "      spin 1s steps(1) infinite;\n",
              "  }\n",
              "\n",
              "  @keyframes spin {\n",
              "    0% {\n",
              "      border-color: transparent;\n",
              "      border-bottom-color: var(--fill-color);\n",
              "      border-left-color: var(--fill-color);\n",
              "    }\n",
              "    20% {\n",
              "      border-color: transparent;\n",
              "      border-left-color: var(--fill-color);\n",
              "      border-top-color: var(--fill-color);\n",
              "    }\n",
              "    30% {\n",
              "      border-color: transparent;\n",
              "      border-left-color: var(--fill-color);\n",
              "      border-top-color: var(--fill-color);\n",
              "      border-right-color: var(--fill-color);\n",
              "    }\n",
              "    40% {\n",
              "      border-color: transparent;\n",
              "      border-right-color: var(--fill-color);\n",
              "      border-top-color: var(--fill-color);\n",
              "    }\n",
              "    60% {\n",
              "      border-color: transparent;\n",
              "      border-right-color: var(--fill-color);\n",
              "    }\n",
              "    80% {\n",
              "      border-color: transparent;\n",
              "      border-right-color: var(--fill-color);\n",
              "      border-bottom-color: var(--fill-color);\n",
              "    }\n",
              "    90% {\n",
              "      border-color: transparent;\n",
              "      border-bottom-color: var(--fill-color);\n",
              "    }\n",
              "  }\n",
              "</style>\n",
              "\n",
              "  <script>\n",
              "    async function quickchart(key) {\n",
              "      const quickchartButtonEl =\n",
              "        document.querySelector('#' + key + ' button');\n",
              "      quickchartButtonEl.disabled = true;  // To prevent multiple clicks.\n",
              "      quickchartButtonEl.classList.add('colab-df-spinner');\n",
              "      try {\n",
              "        const charts = await google.colab.kernel.invokeFunction(\n",
              "            'suggestCharts', [key], {});\n",
              "      } catch (error) {\n",
              "        console.error('Error during call to suggestCharts:', error);\n",
              "      }\n",
              "      quickchartButtonEl.classList.remove('colab-df-spinner');\n",
              "      quickchartButtonEl.classList.add('colab-df-quickchart-complete');\n",
              "    }\n",
              "    (() => {\n",
              "      let quickchartButtonEl =\n",
              "        document.querySelector('#df-4f605177-def0-4e9f-be45-cfc7854e5045 button');\n",
              "      quickchartButtonEl.style.display =\n",
              "        google.colab.kernel.accessAllowed ? 'block' : 'none';\n",
              "    })();\n",
              "  </script>\n",
              "</div>\n",
              "\n",
              "    </div>\n",
              "  </div>\n"
            ],
            "application/vnd.google.colaboratory.intrinsic+json": {
              "type": "dataframe",
              "summary": "{\n  \"name\": \"pd\",\n  \"rows\": 34,\n  \"fields\": [\n    {\n      \"column\": 0,\n      \"properties\": {\n        \"dtype\": \"string\",\n        \"num_unique_values\": 34,\n        \"samples\": [\n          [\n            \"id\",\n            \"text-embedding-3-large\"\n          ],\n          [\n            \"id\",\n            \"tts-1-1106\"\n          ],\n          [\n            \"id\",\n            \"gpt-3.5-turbo-0125\"\n          ]\n        ],\n        \"semantic_type\": \"\",\n        \"description\": \"\"\n      }\n    },\n    {\n      \"column\": 1,\n      \"properties\": {\n        \"dtype\": \"string\",\n        \"num_unique_values\": 34,\n        \"samples\": [\n          [\n            \"created\",\n            1705953180\n          ],\n          [\n            \"created\",\n            1699053241\n          ],\n          [\n            \"created\",\n            1706048358\n          ]\n        ],\n        \"semantic_type\": \"\",\n        \"description\": \"\"\n      }\n    },\n    {\n      \"column\": 2,\n      \"properties\": {\n        \"dtype\": \"category\",\n        \"num_unique_values\": 1,\n        \"samples\": [\n          [\n            \"object\",\n            \"model\"\n          ]\n        ],\n        \"semantic_type\": \"\",\n        \"description\": \"\"\n      }\n    },\n    {\n      \"column\": 3,\n      \"properties\": {\n        \"dtype\": \"category\",\n        \"num_unique_values\": 3,\n        \"samples\": [\n          [\n            \"owned_by\",\n            \"system\"\n          ]\n        ],\n        \"semantic_type\": \"\",\n        \"description\": \"\"\n      }\n    }\n  ]\n}"
            }
          },
          "metadata": {},
          "execution_count": 5
        }
      ]
    },
    {
      "cell_type": "code",
      "source": [
        "from openai import OpenAI\n",
        "client = OpenAI(api_key = mykey)\n",
        "\n",
        "completion = client.chat.completions.create(\n",
        "    model=\"gpt-3.5-turbo\",\n",
        "    messages=[\n",
        "        {\"role\": \"system\", \"content\": \"You are a helpful assistant.\"},\n",
        "        {\n",
        "            \"role\": \"user\",\n",
        "            \"content\": \"Write a haiku about recursion in programming.\"\n",
        "        }\n",
        "    ]\n",
        ")\n",
        "\n",
        "print(completion.choices[0].message)"
      ],
      "metadata": {
        "colab": {
          "base_uri": "https://localhost:8080/",
          "height": 425
        },
        "id": "k_vq0CyqmTNv",
        "outputId": "5272c00b-ae0d-474b-cf7a-7b61482ed604"
      },
      "execution_count": null,
      "outputs": [
        {
          "output_type": "error",
          "ename": "RateLimitError",
          "evalue": "Error code: 429 - {'error': {'message': 'You exceeded your current quota, please check your plan and billing details. For more information on this error, read the docs: https://platform.openai.com/docs/guides/error-codes/api-errors.', 'type': 'insufficient_quota', 'param': None, 'code': 'insufficient_quota'}}",
          "traceback": [
            "\u001b[0;31m---------------------------------------------------------------------------\u001b[0m",
            "\u001b[0;31mRateLimitError\u001b[0m                            Traceback (most recent call last)",
            "\u001b[0;32m<ipython-input-6-ae294189ddd2>\u001b[0m in \u001b[0;36m<cell line: 0>\u001b[0;34m()\u001b[0m\n\u001b[1;32m      2\u001b[0m \u001b[0mclient\u001b[0m \u001b[0;34m=\u001b[0m \u001b[0mOpenAI\u001b[0m\u001b[0;34m(\u001b[0m\u001b[0mapi_key\u001b[0m \u001b[0;34m=\u001b[0m \u001b[0mmykey\u001b[0m\u001b[0;34m)\u001b[0m\u001b[0;34m\u001b[0m\u001b[0;34m\u001b[0m\u001b[0m\n\u001b[1;32m      3\u001b[0m \u001b[0;34m\u001b[0m\u001b[0m\n\u001b[0;32m----> 4\u001b[0;31m completion = client.chat.completions.create(\n\u001b[0m\u001b[1;32m      5\u001b[0m     \u001b[0mmodel\u001b[0m\u001b[0;34m=\u001b[0m\u001b[0;34m\"gpt-3.5-turbo\"\u001b[0m\u001b[0;34m,\u001b[0m\u001b[0;34m\u001b[0m\u001b[0;34m\u001b[0m\u001b[0m\n\u001b[1;32m      6\u001b[0m     messages=[\n",
            "\u001b[0;32m/usr/local/lib/python3.11/dist-packages/openai/_utils/_utils.py\u001b[0m in \u001b[0;36mwrapper\u001b[0;34m(*args, **kwargs)\u001b[0m\n\u001b[1;32m    277\u001b[0m                         \u001b[0mmsg\u001b[0m \u001b[0;34m=\u001b[0m \u001b[0;34mf\"Missing required argument: {quote(missing[0])}\"\u001b[0m\u001b[0;34m\u001b[0m\u001b[0;34m\u001b[0m\u001b[0m\n\u001b[1;32m    278\u001b[0m                 \u001b[0;32mraise\u001b[0m \u001b[0mTypeError\u001b[0m\u001b[0;34m(\u001b[0m\u001b[0mmsg\u001b[0m\u001b[0;34m)\u001b[0m\u001b[0;34m\u001b[0m\u001b[0;34m\u001b[0m\u001b[0m\n\u001b[0;32m--> 279\u001b[0;31m             \u001b[0;32mreturn\u001b[0m \u001b[0mfunc\u001b[0m\u001b[0;34m(\u001b[0m\u001b[0;34m*\u001b[0m\u001b[0margs\u001b[0m\u001b[0;34m,\u001b[0m \u001b[0;34m**\u001b[0m\u001b[0mkwargs\u001b[0m\u001b[0;34m)\u001b[0m\u001b[0;34m\u001b[0m\u001b[0;34m\u001b[0m\u001b[0m\n\u001b[0m\u001b[1;32m    280\u001b[0m \u001b[0;34m\u001b[0m\u001b[0m\n\u001b[1;32m    281\u001b[0m         \u001b[0;32mreturn\u001b[0m \u001b[0mwrapper\u001b[0m  \u001b[0;31m# type: ignore\u001b[0m\u001b[0;34m\u001b[0m\u001b[0;34m\u001b[0m\u001b[0m\n",
            "\u001b[0;32m/usr/local/lib/python3.11/dist-packages/openai/resources/chat/completions.py\u001b[0m in \u001b[0;36mcreate\u001b[0;34m(self, messages, model, audio, frequency_penalty, function_call, functions, logit_bias, logprobs, max_completion_tokens, max_tokens, metadata, modalities, n, parallel_tool_calls, prediction, presence_penalty, reasoning_effort, response_format, seed, service_tier, stop, store, stream, stream_options, temperature, tool_choice, tools, top_logprobs, top_p, user, extra_headers, extra_query, extra_body, timeout)\u001b[0m\n\u001b[1;32m    861\u001b[0m     ) -> ChatCompletion | Stream[ChatCompletionChunk]:\n\u001b[1;32m    862\u001b[0m         \u001b[0mvalidate_response_format\u001b[0m\u001b[0;34m(\u001b[0m\u001b[0mresponse_format\u001b[0m\u001b[0;34m)\u001b[0m\u001b[0;34m\u001b[0m\u001b[0;34m\u001b[0m\u001b[0m\n\u001b[0;32m--> 863\u001b[0;31m         return self._post(\n\u001b[0m\u001b[1;32m    864\u001b[0m             \u001b[0;34m\"/chat/completions\"\u001b[0m\u001b[0;34m,\u001b[0m\u001b[0;34m\u001b[0m\u001b[0;34m\u001b[0m\u001b[0m\n\u001b[1;32m    865\u001b[0m             body=maybe_transform(\n",
            "\u001b[0;32m/usr/local/lib/python3.11/dist-packages/openai/_base_client.py\u001b[0m in \u001b[0;36mpost\u001b[0;34m(self, path, cast_to, body, options, files, stream, stream_cls)\u001b[0m\n\u001b[1;32m   1281\u001b[0m             \u001b[0mmethod\u001b[0m\u001b[0;34m=\u001b[0m\u001b[0;34m\"post\"\u001b[0m\u001b[0;34m,\u001b[0m \u001b[0murl\u001b[0m\u001b[0;34m=\u001b[0m\u001b[0mpath\u001b[0m\u001b[0;34m,\u001b[0m \u001b[0mjson_data\u001b[0m\u001b[0;34m=\u001b[0m\u001b[0mbody\u001b[0m\u001b[0;34m,\u001b[0m \u001b[0mfiles\u001b[0m\u001b[0;34m=\u001b[0m\u001b[0mto_httpx_files\u001b[0m\u001b[0;34m(\u001b[0m\u001b[0mfiles\u001b[0m\u001b[0;34m)\u001b[0m\u001b[0;34m,\u001b[0m \u001b[0;34m**\u001b[0m\u001b[0moptions\u001b[0m\u001b[0;34m\u001b[0m\u001b[0;34m\u001b[0m\u001b[0m\n\u001b[1;32m   1282\u001b[0m         )\n\u001b[0;32m-> 1283\u001b[0;31m         \u001b[0;32mreturn\u001b[0m \u001b[0mcast\u001b[0m\u001b[0;34m(\u001b[0m\u001b[0mResponseT\u001b[0m\u001b[0;34m,\u001b[0m \u001b[0mself\u001b[0m\u001b[0;34m.\u001b[0m\u001b[0mrequest\u001b[0m\u001b[0;34m(\u001b[0m\u001b[0mcast_to\u001b[0m\u001b[0;34m,\u001b[0m \u001b[0mopts\u001b[0m\u001b[0;34m,\u001b[0m \u001b[0mstream\u001b[0m\u001b[0;34m=\u001b[0m\u001b[0mstream\u001b[0m\u001b[0;34m,\u001b[0m \u001b[0mstream_cls\u001b[0m\u001b[0;34m=\u001b[0m\u001b[0mstream_cls\u001b[0m\u001b[0;34m)\u001b[0m\u001b[0;34m)\u001b[0m\u001b[0;34m\u001b[0m\u001b[0;34m\u001b[0m\u001b[0m\n\u001b[0m\u001b[1;32m   1284\u001b[0m \u001b[0;34m\u001b[0m\u001b[0m\n\u001b[1;32m   1285\u001b[0m     def patch(\n",
            "\u001b[0;32m/usr/local/lib/python3.11/dist-packages/openai/_base_client.py\u001b[0m in \u001b[0;36mrequest\u001b[0;34m(self, cast_to, options, remaining_retries, stream, stream_cls)\u001b[0m\n\u001b[1;32m    958\u001b[0m             \u001b[0mretries_taken\u001b[0m \u001b[0;34m=\u001b[0m \u001b[0;36m0\u001b[0m\u001b[0;34m\u001b[0m\u001b[0;34m\u001b[0m\u001b[0m\n\u001b[1;32m    959\u001b[0m \u001b[0;34m\u001b[0m\u001b[0m\n\u001b[0;32m--> 960\u001b[0;31m         return self._request(\n\u001b[0m\u001b[1;32m    961\u001b[0m             \u001b[0mcast_to\u001b[0m\u001b[0;34m=\u001b[0m\u001b[0mcast_to\u001b[0m\u001b[0;34m,\u001b[0m\u001b[0;34m\u001b[0m\u001b[0;34m\u001b[0m\u001b[0m\n\u001b[1;32m    962\u001b[0m             \u001b[0moptions\u001b[0m\u001b[0;34m=\u001b[0m\u001b[0moptions\u001b[0m\u001b[0;34m,\u001b[0m\u001b[0;34m\u001b[0m\u001b[0;34m\u001b[0m\u001b[0m\n",
            "\u001b[0;32m/usr/local/lib/python3.11/dist-packages/openai/_base_client.py\u001b[0m in \u001b[0;36m_request\u001b[0;34m(self, cast_to, options, retries_taken, stream, stream_cls)\u001b[0m\n\u001b[1;32m   1047\u001b[0m             \u001b[0;32mif\u001b[0m \u001b[0mremaining_retries\u001b[0m \u001b[0;34m>\u001b[0m \u001b[0;36m0\u001b[0m \u001b[0;32mand\u001b[0m \u001b[0mself\u001b[0m\u001b[0;34m.\u001b[0m\u001b[0m_should_retry\u001b[0m\u001b[0;34m(\u001b[0m\u001b[0merr\u001b[0m\u001b[0;34m.\u001b[0m\u001b[0mresponse\u001b[0m\u001b[0;34m)\u001b[0m\u001b[0;34m:\u001b[0m\u001b[0;34m\u001b[0m\u001b[0;34m\u001b[0m\u001b[0m\n\u001b[1;32m   1048\u001b[0m                 \u001b[0merr\u001b[0m\u001b[0;34m.\u001b[0m\u001b[0mresponse\u001b[0m\u001b[0;34m.\u001b[0m\u001b[0mclose\u001b[0m\u001b[0;34m(\u001b[0m\u001b[0;34m)\u001b[0m\u001b[0;34m\u001b[0m\u001b[0;34m\u001b[0m\u001b[0m\n\u001b[0;32m-> 1049\u001b[0;31m                 return self._retry_request(\n\u001b[0m\u001b[1;32m   1050\u001b[0m                     \u001b[0minput_options\u001b[0m\u001b[0;34m,\u001b[0m\u001b[0;34m\u001b[0m\u001b[0;34m\u001b[0m\u001b[0m\n\u001b[1;32m   1051\u001b[0m                     \u001b[0mcast_to\u001b[0m\u001b[0;34m,\u001b[0m\u001b[0;34m\u001b[0m\u001b[0;34m\u001b[0m\u001b[0m\n",
            "\u001b[0;32m/usr/local/lib/python3.11/dist-packages/openai/_base_client.py\u001b[0m in \u001b[0;36m_retry_request\u001b[0;34m(self, options, cast_to, retries_taken, response_headers, stream, stream_cls)\u001b[0m\n\u001b[1;32m   1096\u001b[0m         \u001b[0mtime\u001b[0m\u001b[0;34m.\u001b[0m\u001b[0msleep\u001b[0m\u001b[0;34m(\u001b[0m\u001b[0mtimeout\u001b[0m\u001b[0;34m)\u001b[0m\u001b[0;34m\u001b[0m\u001b[0;34m\u001b[0m\u001b[0m\n\u001b[1;32m   1097\u001b[0m \u001b[0;34m\u001b[0m\u001b[0m\n\u001b[0;32m-> 1098\u001b[0;31m         return self._request(\n\u001b[0m\u001b[1;32m   1099\u001b[0m             \u001b[0moptions\u001b[0m\u001b[0;34m=\u001b[0m\u001b[0moptions\u001b[0m\u001b[0;34m,\u001b[0m\u001b[0;34m\u001b[0m\u001b[0;34m\u001b[0m\u001b[0m\n\u001b[1;32m   1100\u001b[0m             \u001b[0mcast_to\u001b[0m\u001b[0;34m=\u001b[0m\u001b[0mcast_to\u001b[0m\u001b[0;34m,\u001b[0m\u001b[0;34m\u001b[0m\u001b[0;34m\u001b[0m\u001b[0m\n",
            "\u001b[0;32m/usr/local/lib/python3.11/dist-packages/openai/_base_client.py\u001b[0m in \u001b[0;36m_request\u001b[0;34m(self, cast_to, options, retries_taken, stream, stream_cls)\u001b[0m\n\u001b[1;32m   1047\u001b[0m             \u001b[0;32mif\u001b[0m \u001b[0mremaining_retries\u001b[0m \u001b[0;34m>\u001b[0m \u001b[0;36m0\u001b[0m \u001b[0;32mand\u001b[0m \u001b[0mself\u001b[0m\u001b[0;34m.\u001b[0m\u001b[0m_should_retry\u001b[0m\u001b[0;34m(\u001b[0m\u001b[0merr\u001b[0m\u001b[0;34m.\u001b[0m\u001b[0mresponse\u001b[0m\u001b[0;34m)\u001b[0m\u001b[0;34m:\u001b[0m\u001b[0;34m\u001b[0m\u001b[0;34m\u001b[0m\u001b[0m\n\u001b[1;32m   1048\u001b[0m                 \u001b[0merr\u001b[0m\u001b[0;34m.\u001b[0m\u001b[0mresponse\u001b[0m\u001b[0;34m.\u001b[0m\u001b[0mclose\u001b[0m\u001b[0;34m(\u001b[0m\u001b[0;34m)\u001b[0m\u001b[0;34m\u001b[0m\u001b[0;34m\u001b[0m\u001b[0m\n\u001b[0;32m-> 1049\u001b[0;31m                 return self._retry_request(\n\u001b[0m\u001b[1;32m   1050\u001b[0m                     \u001b[0minput_options\u001b[0m\u001b[0;34m,\u001b[0m\u001b[0;34m\u001b[0m\u001b[0;34m\u001b[0m\u001b[0m\n\u001b[1;32m   1051\u001b[0m                     \u001b[0mcast_to\u001b[0m\u001b[0;34m,\u001b[0m\u001b[0;34m\u001b[0m\u001b[0;34m\u001b[0m\u001b[0m\n",
            "\u001b[0;32m/usr/local/lib/python3.11/dist-packages/openai/_base_client.py\u001b[0m in \u001b[0;36m_retry_request\u001b[0;34m(self, options, cast_to, retries_taken, response_headers, stream, stream_cls)\u001b[0m\n\u001b[1;32m   1096\u001b[0m         \u001b[0mtime\u001b[0m\u001b[0;34m.\u001b[0m\u001b[0msleep\u001b[0m\u001b[0;34m(\u001b[0m\u001b[0mtimeout\u001b[0m\u001b[0;34m)\u001b[0m\u001b[0;34m\u001b[0m\u001b[0;34m\u001b[0m\u001b[0m\n\u001b[1;32m   1097\u001b[0m \u001b[0;34m\u001b[0m\u001b[0m\n\u001b[0;32m-> 1098\u001b[0;31m         return self._request(\n\u001b[0m\u001b[1;32m   1099\u001b[0m             \u001b[0moptions\u001b[0m\u001b[0;34m=\u001b[0m\u001b[0moptions\u001b[0m\u001b[0;34m,\u001b[0m\u001b[0;34m\u001b[0m\u001b[0;34m\u001b[0m\u001b[0m\n\u001b[1;32m   1100\u001b[0m             \u001b[0mcast_to\u001b[0m\u001b[0;34m=\u001b[0m\u001b[0mcast_to\u001b[0m\u001b[0;34m,\u001b[0m\u001b[0;34m\u001b[0m\u001b[0;34m\u001b[0m\u001b[0m\n",
            "\u001b[0;32m/usr/local/lib/python3.11/dist-packages/openai/_base_client.py\u001b[0m in \u001b[0;36m_request\u001b[0;34m(self, cast_to, options, retries_taken, stream, stream_cls)\u001b[0m\n\u001b[1;32m   1062\u001b[0m \u001b[0;34m\u001b[0m\u001b[0m\n\u001b[1;32m   1063\u001b[0m             \u001b[0mlog\u001b[0m\u001b[0;34m.\u001b[0m\u001b[0mdebug\u001b[0m\u001b[0;34m(\u001b[0m\u001b[0;34m\"Re-raising status error\"\u001b[0m\u001b[0;34m)\u001b[0m\u001b[0;34m\u001b[0m\u001b[0;34m\u001b[0m\u001b[0m\n\u001b[0;32m-> 1064\u001b[0;31m             \u001b[0;32mraise\u001b[0m \u001b[0mself\u001b[0m\u001b[0;34m.\u001b[0m\u001b[0m_make_status_error_from_response\u001b[0m\u001b[0;34m(\u001b[0m\u001b[0merr\u001b[0m\u001b[0;34m.\u001b[0m\u001b[0mresponse\u001b[0m\u001b[0;34m)\u001b[0m \u001b[0;32mfrom\u001b[0m \u001b[0;32mNone\u001b[0m\u001b[0;34m\u001b[0m\u001b[0;34m\u001b[0m\u001b[0m\n\u001b[0m\u001b[1;32m   1065\u001b[0m \u001b[0;34m\u001b[0m\u001b[0m\n\u001b[1;32m   1066\u001b[0m         return self._process_response(\n",
            "\u001b[0;31mRateLimitError\u001b[0m: Error code: 429 - {'error': {'message': 'You exceeded your current quota, please check your plan and billing details. For more information on this error, read the docs: https://platform.openai.com/docs/guides/error-codes/api-errors.', 'type': 'insufficient_quota', 'param': None, 'code': 'insufficient_quota'}}"
          ]
        }
      ]
    },
    {
      "cell_type": "markdown",
      "source": [
        "## Gemini api"
      ],
      "metadata": {
        "id": "e7lqQzO-QYg-"
      }
    },
    {
      "cell_type": "code",
      "source": [
        "pip install -q -U google-genai"
      ],
      "metadata": {
        "colab": {
          "base_uri": "https://localhost:8080/"
        },
        "id": "DGs3GrhpLcc6",
        "outputId": "f120b16b-fb12-4b42-c152-c275741d22a2"
      },
      "execution_count": null,
      "outputs": [
        {
          "output_type": "stream",
          "name": "stdout",
          "text": [
            "\u001b[?25l   \u001b[90m━━━━━━━━━━━━━━━━━━━━━━━━━━━━━━━━━━━━━━━━\u001b[0m \u001b[32m0.0/130.7 kB\u001b[0m \u001b[31m?\u001b[0m eta \u001b[36m-:--:--\u001b[0m\r\u001b[2K   \u001b[90m━━━━━━━━━━━━━━━━━━━━━━━━━━━━━━━━━━━━━━━━\u001b[0m \u001b[32m130.7/130.7 kB\u001b[0m \u001b[31m3.5 MB/s\u001b[0m eta \u001b[36m0:00:00\u001b[0m\n",
            "\u001b[?25h"
          ]
        }
      ]
    },
    {
      "cell_type": "code",
      "source": [
        "from google import genai"
      ],
      "metadata": {
        "id": "XFRDtlE_N7A0"
      },
      "execution_count": null,
      "outputs": []
    },
    {
      "cell_type": "code",
      "source": [
        "mygeminikey = \"your key\""
      ],
      "metadata": {
        "id": "a44R_1AfN-7C"
      },
      "execution_count": null,
      "outputs": []
    },
    {
      "cell_type": "markdown",
      "source": [
        "client = genai.Client(api_key= mygeminikey)\n",
        "response = client.models.generate_content(\n",
        "    model=\"gemini-2.0-flash\", contents=\"Explain how AI works\"\n",
        ")\n",
        "print(response.text)"
      ],
      "metadata": {
        "id": "pSk0F-_3LwdC"
      }
    },
    {
      "cell_type": "markdown",
      "source": [
        "genai chat response"
      ],
      "metadata": {
        "id": "PQp57oqoQIAB"
      }
    },
    {
      "cell_type": "code",
      "source": [
        "client = genai.Client(api_key= mygeminikey)\n",
        "\n",
        "response = client.models.generate_content(\n",
        "    model=\"gemini-2.0-flash\",\n",
        "    contents=[\"How does AI work?\"])\n",
        "print(response.text)"
      ],
      "metadata": {
        "colab": {
          "base_uri": "https://localhost:8080/"
        },
        "id": "4l12Irh2OfaC",
        "outputId": "46a38395-b86a-4ff4-a7e8-9e6d2dfccfdd"
      },
      "execution_count": null,
      "outputs": [
        {
          "output_type": "stream",
          "name": "stdout",
          "text": [
            "Artificial intelligence (AI) is a vast and complex field, but at its core, it's about creating computer systems that can perform tasks that typically require human intelligence. Here's a breakdown of how it works, covering the fundamental concepts:\n",
            "\n",
            "**1. Core Concepts and Goals:**\n",
            "\n",
            "*   **Mimicking Human Intelligence:** AI aims to simulate human abilities such as learning, problem-solving, decision-making, perception, and language understanding.\n",
            "*   **Data-Driven:**  AI systems learn from large amounts of data to identify patterns, make predictions, and improve their performance.\n",
            "*   **Automation:**  AI is often used to automate tasks that are repetitive, time-consuming, or dangerous for humans.\n",
            "*   **Decision Support:** AI can analyze complex data to provide insights and recommendations to assist humans in making better decisions.\n",
            "\n",
            "**2.  Key Components and Techniques:**\n",
            "\n",
            "AI isn't a single technology, but rather a collection of techniques.  Here are some of the most important:\n",
            "\n",
            "*   **Machine Learning (ML):** This is the most common approach to AI today.  It allows systems to learn from data without being explicitly programmed.\n",
            "\n",
            "    *   **Supervised Learning:** The AI is trained on a labeled dataset, where the correct output is known for each input.  Examples: image classification (identifying objects in photos), spam detection.  Algorithms include:\n",
            "        *   Linear Regression\n",
            "        *   Logistic Regression\n",
            "        *   Support Vector Machines (SVMs)\n",
            "        *   Decision Trees\n",
            "        *   Random Forests\n",
            "    *   **Unsupervised Learning:**  The AI is given unlabeled data and must find patterns and relationships on its own.  Examples: customer segmentation, anomaly detection. Algorithms include:\n",
            "        *   Clustering (e.g., K-Means)\n",
            "        *   Dimensionality Reduction (e.g., Principal Component Analysis - PCA)\n",
            "        *   Association Rule Mining (e.g., finding items frequently purchased together)\n",
            "    *   **Reinforcement Learning:** The AI learns by trial and error, receiving rewards or penalties for its actions.  It aims to maximize its cumulative reward.  Examples: game playing (e.g., AlphaGo), robotics control.  Key concepts include:\n",
            "        *   Agent: The AI that interacts with the environment.\n",
            "        *   Environment: The world the agent interacts with.\n",
            "        *   Action: What the agent can do.\n",
            "        *   Reward: Feedback on the agent's actions.\n",
            "        *   Policy: The agent's strategy for choosing actions.\n",
            "\n",
            "*   **Deep Learning (DL):** A subfield of machine learning that uses artificial neural networks with multiple layers (hence \"deep\") to analyze data.  Deep learning excels at tasks like image recognition, natural language processing, and speech recognition.\n",
            "\n",
            "    *   **Artificial Neural Networks (ANNs):**  Inspired by the structure of the human brain, ANNs consist of interconnected nodes (neurons) organized in layers.  Each connection has a weight, which is adjusted during training to learn patterns.\n",
            "    *   **Convolutional Neural Networks (CNNs):**  Specifically designed for processing images, CNNs use convolutional layers to extract features from images.\n",
            "    *   **Recurrent Neural Networks (RNNs):**  Designed for processing sequential data, like text and time series.  RNNs have feedback loops that allow them to \"remember\" past inputs.  Variants like LSTMs (Long Short-Term Memory) and GRUs (Gated Recurrent Units) are commonly used to address the vanishing gradient problem.\n",
            "    *   **Transformers:**  A more recent architecture that has revolutionized NLP and is also making inroads in other areas like computer vision. Transformers rely on a mechanism called \"attention\" to weigh the importance of different parts of the input.\n",
            "\n",
            "*   **Natural Language Processing (NLP):**  Focuses on enabling computers to understand, interpret, and generate human language.\n",
            "\n",
            "    *   **Text analysis:**  Tokenization, stemming, lemmatization, part-of-speech tagging, sentiment analysis.\n",
            "    *   **Machine translation:**  Translating text from one language to another.\n",
            "    *   **Chatbots:**  Creating conversational agents.\n",
            "    *   **Text summarization:**  Generating concise summaries of text.\n",
            "    *   **Question answering:**  Answering questions posed in natural language.\n",
            "\n",
            "*   **Computer Vision:**  Enables computers to \"see\" and interpret images and videos.\n",
            "\n",
            "    *   **Image recognition:**  Identifying objects in images.\n",
            "    *   **Object detection:**  Locating objects in images.\n",
            "    *   **Image segmentation:**  Dividing an image into regions.\n",
            "    *   **Facial recognition:**  Identifying faces in images.\n",
            "\n",
            "*   **Robotics:**  Deals with the design, construction, operation, and application of robots.  AI is often used to control robots and enable them to perform tasks autonomously.\n",
            "\n",
            "*   **Expert Systems:**  Computer systems that emulate the decision-making ability of a human expert in a specific domain.  They use knowledge bases and inference engines to reason and provide advice. (Less common today with the rise of ML)\n",
            "\n",
            "*   **Knowledge Representation:**  The way that information is stored and organized in an AI system. This can include rules, facts, and relationships.  (Important for more complex AI reasoning)\n",
            "\n",
            "**3.  The AI Development Process (Simplified):**\n",
            "\n",
            "1.  **Define the Problem:** Clearly identify the task you want the AI to perform.\n",
            "2.  **Gather Data:** Collect a large and representative dataset relevant to the problem. The quality and quantity of data are critical.\n",
            "3.  **Choose an Algorithm:** Select the appropriate AI technique(s) based on the problem type and data characteristics.\n",
            "4.  **Train the Model:**  Feed the data into the chosen algorithm to train the AI model.  This involves adjusting the model's parameters until it performs well.\n",
            "5.  **Evaluate the Model:**  Test the model's performance on a separate dataset to assess its accuracy and generalization ability.\n",
            "6.  **Deploy the Model:** Integrate the trained model into an application or system.\n",
            "7.  **Monitor and Retrain:** Continuously monitor the model's performance and retrain it with new data as needed to maintain accuracy.  \"Model drift\" can occur as the real world changes.\n",
            "\n",
            "**4.  Underlying Math and Statistics:**\n",
            "\n",
            "AI relies heavily on mathematical and statistical concepts:\n",
            "\n",
            "*   **Linear Algebra:**  Matrices, vectors, and linear transformations are fundamental to many AI algorithms.\n",
            "*   **Calculus:** Used for optimization, finding the minimum or maximum of a function.  Gradient descent is a key optimization algorithm used in training neural networks.\n",
            "*   **Probability and Statistics:**  Used for modeling uncertainty, making predictions, and evaluating model performance.\n",
            "*   **Information Theory:**  Used for measuring information, quantifying uncertainty, and designing efficient coding schemes.\n",
            "\n",
            "**5.  Hardware and Software:**\n",
            "\n",
            "*   **Hardware:**\n",
            "    *   **CPUs (Central Processing Units):** Used for general-purpose computing.\n",
            "    *   **GPUs (Graphics Processing Units):**  Well-suited for parallel processing, making them ideal for training deep learning models.\n",
            "    *   **TPUs (Tensor Processing Units):**  Custom-designed hardware by Google specifically for accelerating machine learning tasks.\n",
            "    *   **Edge Devices:**  Deploying AI models on devices like smartphones, embedded systems, and IoT devices.\n",
            "*   **Software:**\n",
            "    *   **Programming Languages:** Python is the most popular language for AI development, but other languages like R, Java, and C++ are also used.\n",
            "    *   **Machine Learning Libraries:**  TensorFlow, PyTorch, scikit-learn, Keras, pandas, NumPy, etc.\n",
            "    *   **Cloud Platforms:**  Amazon Web Services (AWS), Google Cloud Platform (GCP), Microsoft Azure provide infrastructure and services for AI development.\n",
            "\n",
            "**6. Important Considerations:**\n",
            "\n",
            "*   **Ethics:**  AI systems can have unintended consequences and biases.  It's important to consider ethical implications when developing and deploying AI.\n",
            "*   **Bias in Data:**  AI models are only as good as the data they are trained on. If the data is biased, the model will likely be biased as well.\n",
            "*   **Explainability:**  Understanding why an AI model makes a particular decision can be challenging, especially with deep learning models. \"Explainable AI\" (XAI) is an important area of research.\n",
            "*   **Security:**  AI systems can be vulnerable to attacks.  Protecting AI models from adversarial attacks is crucial.\n",
            "*   **Data Privacy:**  AI models often require large amounts of data, which may contain sensitive personal information. Protecting data privacy is essential.\n",
            "\n",
            "**In Summary:**\n",
            "\n",
            "AI works by using algorithms and data to enable computers to perform tasks that typically require human intelligence.  It involves a combination of techniques, including machine learning, deep learning, natural language processing, computer vision, and robotics. The field is rapidly evolving, with new algorithms and applications emerging constantly.  Understanding the underlying principles and considerations is key to developing and deploying AI systems responsibly and effectively.\n",
            "\n"
          ]
        }
      ]
    },
    {
      "cell_type": "code",
      "source": [
        "type(response)"
      ],
      "metadata": {
        "colab": {
          "base_uri": "https://localhost:8080/",
          "height": 121
        },
        "id": "GYiWhnOzVIXQ",
        "outputId": "7fc76744-3b3d-4ecd-89a7-cebd3af0405c"
      },
      "execution_count": null,
      "outputs": [
        {
          "output_type": "execute_result",
          "data": {
            "text/plain": [
              "google.genai.types.GenerateContentResponse"
            ],
            "text/html": [
              "<div style=\"max-width:800px; border: 1px solid var(--colab-border-color);\"><style>\n",
              "      pre.function-repr-contents {\n",
              "        overflow-x: auto;\n",
              "        padding: 8px 12px;\n",
              "        max-height: 500px;\n",
              "      }\n",
              "\n",
              "      pre.function-repr-contents.function-repr-contents-collapsed {\n",
              "        cursor: pointer;\n",
              "        max-height: 100px;\n",
              "      }\n",
              "    </style>\n",
              "    <pre style=\"white-space: initial; background:\n",
              "         var(--colab-secondary-surface-color); padding: 8px 12px;\n",
              "         border-bottom: 1px solid var(--colab-border-color);\"><b>google.genai.types.GenerateContentResponse</b><br/>def __init__(self, /, **data: Any) -&gt; None</pre><pre class=\"function-repr-contents function-repr-contents-collapsed\" style=\"\"><a class=\"filepath\" style=\"display:none\" href=\"#\">/usr/local/lib/python3.11/dist-packages/google/genai/types.py</a>Response message for PredictionService.GenerateContent.</pre>\n",
              "      <script>\n",
              "      if (google.colab.kernel.accessAllowed && google.colab.files && google.colab.files.view) {\n",
              "        for (const element of document.querySelectorAll('.filepath')) {\n",
              "          element.style.display = 'block'\n",
              "          element.onclick = (event) => {\n",
              "            event.preventDefault();\n",
              "            event.stopPropagation();\n",
              "            google.colab.files.view(element.textContent, 2818);\n",
              "          };\n",
              "        }\n",
              "      }\n",
              "      for (const element of document.querySelectorAll('.function-repr-contents')) {\n",
              "        element.onclick = (event) => {\n",
              "          event.preventDefault();\n",
              "          event.stopPropagation();\n",
              "          element.classList.toggle('function-repr-contents-collapsed');\n",
              "        };\n",
              "      }\n",
              "      </script>\n",
              "      </div>"
            ]
          },
          "metadata": {},
          "execution_count": 5
        }
      ]
    },
    {
      "cell_type": "markdown",
      "source": [
        "streaming chat"
      ],
      "metadata": {
        "id": "CWuZAp5rPvYo"
      }
    },
    {
      "cell_type": "code",
      "source": [
        "client = genai.Client(api_key= mygeminikey)\n",
        "\n",
        "response = client.models.generate_content_stream(\n",
        "    model=\"gemini-2.0-flash\",\n",
        "    contents=[\"Explain how AI works\"])\n",
        "for chunk in response:\n",
        "    print(chunk.text, end=\"\")"
      ],
      "metadata": {
        "colab": {
          "base_uri": "https://localhost:8080/"
        },
        "id": "qCutlPe0L95X",
        "outputId": "cc73decc-b510-487b-c086-e67356ec1bdc"
      },
      "execution_count": null,
      "outputs": [
        {
          "output_type": "stream",
          "name": "stdout",
          "text": [
            "Okay, let's break down how AI works in a way that's understandable, without getting *too* technical.  Think of it as a simplified explanation of a complex process.\n",
            "\n",
            "**Core Idea: Teaching Computers to Learn and Act Intelligently**\n",
            "\n",
            "At its heart, Artificial Intelligence (AI) is about creating computer systems that can perform tasks that typically require human intelligence.  These tasks might include:\n",
            "\n",
            "*   **Learning:** Acquiring information and rules for using it.\n",
            "*   **Reasoning:** Using rules to reach conclusions.\n",
            "*   **Problem-Solving:** Figuring out how to achieve goals.\n",
            "*   **Perception:** Understanding the world through senses (like vision, sound, touch).\n",
            "*   **Language Understanding:** Interpreting and responding to human language.\n",
            "\n",
            "**How AI Achieves This: Key Techniques**\n",
            "\n",
            "AI achieves this through a variety of techniques. Here's a breakdown of the most common and important ones:\n",
            "\n",
            "1.  **Machine Learning (ML): Learning from Data**\n",
            "\n",
            "    *   **The Idea:** Instead of explicitly programming a computer to do *everything*, we feed it tons of data and let it learn the patterns and rules *on its own*.  This is like teaching a child by showing them examples.\n",
            "\n",
            "    *   **How it Works (Simplified):**\n",
            "        *   **Data Ingestion:**  The AI system gets a dataset (e.g., images of cats and dogs, text of customer reviews, historical stock prices).\n",
            "        *   **Algorithm Selection:**  A machine learning algorithm is chosen (more on this below).\n",
            "        *   **Training:**  The algorithm processes the data and adjusts its internal parameters (weights, biases) to improve its ability to predict or classify. Think of it like tuning a dial until you get the right radio station.\n",
            "        *   **Testing/Evaluation:**  The AI is tested on *new* data it hasn't seen before to see how well it generalizes.\n",
            "        *   **Deployment:**  If it performs well enough, the trained model is deployed to do its job (e.g., identify spam emails, recommend products, predict equipment failure).\n",
            "\n",
            "    *   **Types of Machine Learning:**\n",
            "        *   **Supervised Learning:** The data is labeled (e.g., \"this is a cat,\" \"this is spam\"). The AI learns to predict the labels for new, unseen data.  Think of it as learning with a teacher who provides the correct answers.\n",
            "            *   *Examples:* Image classification, spam detection, fraud detection.\n",
            "        *   **Unsupervised Learning:** The data is *not* labeled. The AI tries to find patterns and structures within the data on its own. Think of it as exploring data without any prior knowledge.\n",
            "            *   *Examples:* Customer segmentation, anomaly detection, topic modeling.\n",
            "        *   **Reinforcement Learning:** The AI learns by trial and error, receiving rewards or penalties for its actions.  Think of it as training a dog with treats and scoldings.\n",
            "            *   *Examples:* Game playing (like AlphaGo), robotics control, autonomous driving.\n",
            "\n",
            "2.  **Deep Learning (DL):  Neural Networks Inspired by the Brain**\n",
            "\n",
            "    *   **The Idea:** A subset of machine learning that uses artificial neural networks with many layers (\"deep\") to analyze data.  These networks are loosely inspired by the structure of the human brain.\n",
            "\n",
            "    *   **How it Works (Simplified):**\n",
            "        *   **Neural Networks:**  Consist of interconnected nodes (neurons) arranged in layers.\n",
            "        *   **Layers:**\n",
            "            *   *Input Layer:* Receives the raw data (e.g., pixel values of an image).\n",
            "            *   *Hidden Layers:* Perform complex computations to extract features from the data.  This is where the \"learning\" happens. Deep learning networks can have dozens or even hundreds of hidden layers.\n",
            "            *   *Output Layer:* Produces the final result (e.g., the probability that an image contains a cat).\n",
            "        *   **Connections:**  Connections between neurons have \"weights\" that determine the strength of the signal passed between them.  These weights are adjusted during training.\n",
            "        *   **Activation Functions:**  Each neuron applies an activation function to its input.  These functions introduce non-linearity, allowing the network to learn complex patterns.\n",
            "\n",
            "    *   **Why Deep Learning is Powerful:**\n",
            "        *   **Automatic Feature Extraction:**  Deep learning networks can automatically learn relevant features from raw data, eliminating the need for manual feature engineering (which can be time-consuming and difficult).\n",
            "        *   **Handles Complex Data:**  Excels at processing images, audio, and text.\n",
            "        *   **Scalability:**  Benefits from large datasets and powerful computing resources (GPUs).\n",
            "\n",
            "3.  **Natural Language Processing (NLP):  Understanding and Generating Human Language**\n",
            "\n",
            "    *   **The Idea:**  Enables computers to understand, interpret, and generate human language (text and speech).\n",
            "\n",
            "    *   **How it Works (Simplified):**\n",
            "        *   **Text Preprocessing:**  Cleaning and preparing the text data (e.g., removing punctuation, converting to lowercase).\n",
            "        *   **Tokenization:**  Breaking the text into individual words or phrases (tokens).\n",
            "        *   **Part-of-Speech Tagging:**  Identifying the grammatical role of each word (e.g., noun, verb, adjective).\n",
            "        *   **Named Entity Recognition (NER):** Identifying and classifying named entities (e.g., people, organizations, locations).\n",
            "        *   **Sentiment Analysis:**  Determining the emotional tone of the text (e.g., positive, negative, neutral).\n",
            "        *   **Machine Translation:**  Converting text from one language to another.\n",
            "        *   **Text Generation:**  Creating new text, such as summaries, articles, or chatbot responses.\n",
            "\n",
            "    *   **Examples:** Chatbots, machine translation, sentiment analysis, text summarization, speech recognition.\n",
            "\n",
            "4.  **Computer Vision:  \"Seeing\" the World**\n",
            "\n",
            "    *   **The Idea:**  Enables computers to \"see\" and interpret images and videos, just like humans do.\n",
            "\n",
            "    *   **How it Works (Simplified):**\n",
            "        *   **Image Acquisition:**  Capturing images or videos through cameras or other sensors.\n",
            "        *   **Image Preprocessing:**  Enhancing the image quality (e.g., removing noise, adjusting brightness).\n",
            "        *   **Feature Extraction:**  Identifying relevant features in the image (e.g., edges, corners, textures, colors).\n",
            "        *   **Object Detection:**  Identifying and locating objects in the image (e.g., cars, people, buildings).\n",
            "        *   **Image Segmentation:**  Dividing the image into regions based on different characteristics.\n",
            "        *   **Image Classification:**  Categorizing the image based on its content (e.g., \"cat,\" \"dog,\" \"landscape\").\n",
            "\n",
            "    *   **Examples:** Self-driving cars, facial recognition, medical image analysis, object detection in security cameras.\n",
            "\n",
            "5.  **Rule-Based Systems (Expert Systems):  Following Explicit Rules**\n",
            "\n",
            "    *   **The Idea:**  AI systems that use a set of predefined rules to reason and make decisions.\n",
            "\n",
            "    *   **How it Works (Simplified):**\n",
            "        *   **Knowledge Base:** Contains a set of facts and rules about a specific domain.\n",
            "        *   **Inference Engine:**  Applies the rules to the facts to derive new conclusions.\n",
            "        *   **User Interface:**  Allows users to interact with the system.\n",
            "\n",
            "    *   **Examples:**  Medical diagnosis systems, credit risk assessment systems.  (Less common today, often replaced by machine learning approaches)\n",
            "\n",
            "**Putting it All Together**\n",
            "\n",
            "In practice, AI systems often combine multiple techniques. For example:\n",
            "\n",
            "*   A self-driving car uses computer vision to \"see\" the road, machine learning to predict the behavior of other vehicles, and rule-based systems to make decisions about steering and braking.\n",
            "*   A chatbot uses natural language processing to understand user input and generate responses, and machine learning to personalize the conversation.\n",
            "\n",
            "**Important Considerations**\n",
            "\n",
            "*   **Data is King:** AI, especially machine learning, relies heavily on data.  The quality and quantity of the data are crucial for performance.\n",
            "*   **Bias:**  AI systems can inherit biases from the data they are trained on, leading to unfair or discriminatory outcomes.\n",
            "*   **Explainability:**  It can be difficult to understand why an AI system makes a particular decision, especially with complex deep learning models (the \"black box\" problem).\n",
            "*   **Ethics:** AI raises important ethical questions about privacy, security, and the potential impact on jobs.\n",
            "\n",
            "**In Summary:**\n",
            "\n",
            "AI is about creating intelligent computer systems by using techniques like machine learning, deep learning, natural language processing, and computer vision. These techniques enable computers to learn from data, understand language, \"see\" the world, and make decisions. AI is a rapidly evolving field with the potential to transform many aspects of our lives.\n"
          ]
        }
      ]
    },
    {
      "cell_type": "markdown",
      "source": [
        "Conversation"
      ],
      "metadata": {
        "id": "Zn2QFMaZPq97"
      }
    },
    {
      "cell_type": "code",
      "source": [
        "client = genai.Client(api_key= mygeminikey)\n",
        "\n",
        "chat = client.chats.create(model=\"gemini-2.0-flash\")\n",
        "response = chat.send_message(\"I have 2 dogs in my house.\")\n",
        "print(response.text)\n",
        "response = chat.send_message(\"How many paws are in my house?\")\n",
        "print(response.text)\n",
        "for message in chat._curated_history:\n",
        "    print(f'role - ', message.role, end=\": \")\n",
        "    print(message.parts[0].text)"
      ],
      "metadata": {
        "colab": {
          "base_uri": "https://localhost:8080/"
        },
        "id": "XxAQXtdhPJPi",
        "outputId": "ec3c7a3e-29b4-4a2d-ba49-3645b4cedc6d"
      },
      "execution_count": null,
      "outputs": [
        {
          "output_type": "stream",
          "name": "stdout",
          "text": [
            "Okay, that's great! Do you want to tell me anything else about your dogs? Like their names, breeds, or what you enjoy doing with them?\n",
            "\n",
            "Since you have two dogs and each dog has four paws, there are a total of 8 paws in your house.\n",
            "\n",
            "role -  user: I have 2 dogs in my house.\n",
            "role -  model: Okay, that's great! Do you want to tell me anything else about your dogs? Like their names, breeds, or what you enjoy doing with them?\n",
            "\n",
            "role -  user: How many paws are in my house?\n",
            "role -  model: Since you have two dogs and each dog has four paws, there are a total of 8 paws in your house.\n",
            "\n"
          ]
        }
      ]
    },
    {
      "cell_type": "code",
      "source": [
        "from google.genai import types\n",
        "\n",
        "client = genai.Client(api_key = mygeminikey)\n",
        "\n",
        "response = client.models.generate_content(\n",
        "    model=\"gemini-2.0-flash\",\n",
        "    contents=[\"Explain how AI works\"],\n",
        "    config=types.GenerateContentConfig(\n",
        "        max_output_tokens=500,\n",
        "        temperature=0.1\n",
        "    )\n",
        ")\n",
        "print(response.text)"
      ],
      "metadata": {
        "colab": {
          "base_uri": "https://localhost:8080/"
        },
        "id": "G5toZPDqoqp9",
        "outputId": "27a20158-617e-4fdf-a05c-62923ac42d9d"
      },
      "execution_count": null,
      "outputs": [
        {
          "output_type": "stream",
          "name": "stdout",
          "text": [
            "Okay, let's break down how AI works, focusing on the core concepts and avoiding overly technical jargon.  Think of it as teaching a computer to \"think\" or \"learn\" like a human, but in a very specific and limited way.\n",
            "\n",
            "**The Basic Idea: Learning from Data**\n",
            "\n",
            "At its heart, AI is about creating systems that can learn from data, identify patterns, and make decisions or predictions based on those patterns.  Instead of being explicitly programmed to do every single task, AI systems are trained on large amounts of data to figure things out for themselves.\n",
            "\n",
            "**Key Components and Concepts:**\n",
            "\n",
            "1.  **Data:** This is the fuel for AI.  It can be anything:\n",
            "    *   **Images:**  For teaching a computer to recognize objects in pictures.\n",
            "    *   **Text:** For understanding language, translating, or generating text.\n",
            "    *   **Numbers:** For predicting stock prices, analyzing sales trends, or detecting fraud.\n",
            "    *   **Audio:** For speech recognition or music generation.\n",
            "    *   **Video:** For understanding actions in videos or self-driving cars.\n",
            "\n",
            "2.  **Algorithms:** These are the sets of instructions that tell the computer how to learn from the data.  Think of them as recipes for learning.  There are many different types of algorithms, each suited for different tasks.  Some common ones include:\n",
            "\n",
            "    *   **Machine Learning (ML):** This is the most common type of AI.  It involves training algorithms to learn from data without being explicitly programmed.  Within ML, there are several subcategories:\n",
            "\n",
            "        *   **Supervised Learning:** The algorithm is trained on labeled data.  This means the data has inputs and corresponding correct outputs.  For example, you might feed the algorithm images of cats and dogs, labeled as \"cat\" or \"dog.\"  The algorithm learns to associate the features of the images with the correct label.  It can then predict the label for new, unseen images.\n",
            "        *   **Unsupervised Learning:** The algorithm is trained on unlabeled data.  It has to find patterns and structures in the data on its own.  For example, you might feed the algorithm customer data and it might identify different customer segments based on their purchasing behavior.\n",
            "        *   **Reinforcement Learning:** The algorithm learns by trial and error.  It interacts with an environment and receives rewards or penalties for its actions.\n"
          ]
        }
      ]
    },
    {
      "cell_type": "markdown",
      "source": [
        "**Function calling**\n",
        "\n",
        "can provide custom function definitions to the model. The model doesn't directly invoke these functions, but instead generates structured output that specifies a function name and suggested arguments."
      ],
      "metadata": {
        "id": "HaFI_jUoPi_b"
      }
    },
    {
      "cell_type": "code",
      "source": [
        "import json\n",
        "import textwrap\n",
        "\n",
        "from google.genai import types\n",
        "\n",
        "from IPython.display import JSON\n",
        "from IPython.display import display\n",
        "from IPython.display import Markdown\n",
        "\n",
        "def to_markdown(text) :\n",
        "  text = text.replace('.', '*')\n",
        "  return Markdown(textwrap.indent(text, '>', predicate = lambda _: True))"
      ],
      "metadata": {
        "id": "DpuoDbi5tdfZ"
      },
      "execution_count": null,
      "outputs": []
    },
    {
      "cell_type": "code",
      "source": [
        "prompt = \"\"\"\n",
        "Write a long story about a girl with magic backpack, her family, and at\n",
        "least one other character. Make sure everyone has names. Don't forget to\n",
        "describe the contents of the backpack, and where everyone and everything\n",
        "starts and ends up.\n",
        "\"\"\"\n",
        "\n",
        "response = client.models.generate_content(\n",
        "  model = 'gemini-2.0-flash' ,\n",
        "  contents=prompt,\n",
        ")\n",
        "story = response.text"
      ],
      "metadata": {
        "id": "UtvaVHTJwckb"
      },
      "execution_count": null,
      "outputs": []
    },
    {
      "cell_type": "code",
      "source": [
        "to_markdown(story)"
      ],
      "metadata": {
        "colab": {
          "base_uri": "https://localhost:8080/",
          "height": 1000
        },
        "id": "rkWwDgUMxTAU",
        "outputId": "86e36af3-a628-4ad8-d7e4-9ce37366705c"
      },
      "execution_count": null,
      "outputs": [
        {
          "output_type": "execute_result",
          "data": {
            "text/plain": [
              "<IPython.core.display.Markdown object>"
            ],
            "text/markdown": ">The chipped enamel of the old kettle whistled on the stove, a familiar sound that both comforted and irritated Clara* She poured the boiling water into a chipped mug, steeping the chamomile tea* Clara, a wisp of a girl at twelve with eyes that shifted from grey to blue depending on the light, was already tired* Farm life was relentless*\n>\n>Her parents, Margaret and Thomas, were salt-of-the-earth types* Margaret, with her sun-weathered skin and hands as strong as rope, managed the chickens and the vegetable garden* Thomas, a man of few words but immense strength, tended to the cows and the fields* They were good people, honest and hardworking, but Clara sometimes felt like a misplaced puzzle piece in their simple, predictable life*\n>\n>That morning, like every morning, Clara would walk the mile and a half to the bus stop with the weight of responsibility heavy on her young shoulders* She had to make sure her younger brother, eight-year-old Finn, made it onto the bus safe and sound* Finn, a whirlwind of boundless energy with a mop of unruly red hair, was her opposite in every way* He was loud, impulsive, and loved nothing more than to chase butterflies and get covered in mud*\n>\n>Clara grabbed her worn backpack* It was an old thing, salvaged from a garage sale years ago* Olive green canvas, slightly faded, with leather straps that creaked with age* It seemed ordinary enough, but Clara knew better* This was no ordinary backpack* It was magical*\n>\n>Inside, the contents shifted and changed depending on her needs* That morning, she saw a folded map shimmering faintly, a small, sealed pouch filled with what looked like crushed starlight, a worn leather-bound book with a title that changed depending on the reader, and a smooth, grey stone that pulsed with a faint warmth* She reached in and retrieved a bright yellow rain poncho, just in case the forecast was wrong again* The backpack felt bottomless, a universe contained within its canvas walls*\n>\n>The secret of the backpack was hers alone* She’d discovered it one day while exploring the attic of their farmhouse* It had been tucked away in a dusty corner, almost forgotten* At first, she'd just used it for school* But then she’d reached inside, needing a pen, and pulled out a perfectly sharpened pencil instead* Over time, she realized it wasn't just a backpack; it was a wish-granter, a problem-solver, a keeper of secrets*\n>\n>Reaching the bus stop, Finn immediately launched into a story about the giant earthworm he’d found in the garden* Clara listened patiently, her eyes scanning the horizon* A beat-up pickup truck rumbled to a stop beside them* It was old Mr* Abernathy, their neighbor, his face etched with worry lines*\n>\n>“Clara, darlin’, your folks need your help,” he said, his voice raspy* “The cows got out* Something spooked them, tore down the fence* They’re headed towards Widow’s Peak*”\n>\n>Widow’s Peak was a dangerous cliff edge that overlooked the valley* If the cows went over, it would be a disaster* Clara's heart leaped into her throat* Finn, sensing the seriousness, went silent*\n>\n>“Finn, you have to get on the bus* Stay at school until someone comes to get you* Promise me,” Clara said, her voice firm despite the tremor in her hands*\n>\n>Finn nodded solemnly* “I promise, Clara* Be careful*”\n>\n>Clara turned to Mr* Abernathy* \"I'm going to go try to round them up* Thanks for letting me know*\"\n>\n>Mr* Abernathy simply nodded, his face grim* Clara turned and ran, the backpack bouncing against her back* She knew she needed a plan, and fast*\n>\n>Reaching the field, she saw the broken fence and the unmistakable tracks of panicked cows* She reached into the backpack* This was bigger than a poncho* She needed… guidance* The leather-bound book*\n>\n>She pulled it out* The title shimmered, settling on \"Animal Instincts*\" She flipped through the pages, finding a passage about calming frightened animals* It spoke of a specific herb, meadowsweet, known for its soothing fragrance*\n>\n>Clara knew where to find meadowsweet, growing wild near the stream that ran through the lower pasture* She reached into the backpack again* Now, she needed a basket* A woven wicker basket, perfect for gathering herbs, appeared in her hands*\n>\n>Gathering the meadowsweet, Clara felt a sense of calm wash over her* The herb’s sweet scent filled the air* She quickly fashioned a small bundle, securing it with twine she found, inexplicably, in the backpack*\n>\n>Following the tracks, Clara found the cows huddled near the base of Widow’s Peak, their eyes wide with fear* They were dangerously close to the edge* She could see the sheer drop to the valley below*\n>\n>Clara approached slowly, speaking in a soft, soothing voice* “Easy, girls, easy,” she murmured, holding out the bundle of meadowsweet* The scent seemed to have an immediate effect* The cows, usually skittish, began to calm, drawn to the fragrant herbs*\n>\n>She led them away from the cliff, slowly but surely, back towards the broken fence* As she reached the fence, she realized she had another problem* She couldn't leave it broken, but she didn't have any tools to fix it*\n>\n>She reached into the backpack* This time, a small, multi-tool appeared* A tiny but powerful device with pliers, wire cutters, and a hammer*\n>\n>Clara, with a surprising amount of skill, repaired the fence as best she could, enough to keep the cows contained for the time being* Exhausted but relieved, she watched as the cows grazed peacefully, the meadowsweet having worked its magic*\n>\n>As she walked back towards the farmhouse, she saw a figure in the distance, sitting on the porch swing* It was an old woman, her face hidden by the shadows of the porch roof* She had never seen this woman before*\n>\n>As she got closer, Clara realized it was her grandmother, Eleanor, her mother's mother* She hadn't seen her in years* Eleanor had left the farm many years ago, choosing a life of travel and adventure over the predictability of rural life*\n>\n>\"Eleanor!\" Clara exclaimed, surprised and happy*\n>\n>Eleanor looked up, her eyes, a startling shade of blue, crinkling at the corners* \"Hello, Clara* I heard about the cows* You handled it well*\"\n>\n>Clara hesitated, unsure how to react* She hadn't even told her parents about the cows yet*\n>\n>\"How did you know?\" she asked*\n>\n>Eleanor smiled* \"I have my ways* Your mother always had a knack with animals* And you, my dear, you have something else entirely*\"\n>\n>Clara's heart skipped a beat* Did Eleanor know about the backpack?\n>\n>That evening, Clara found herself sitting on the porch swing with Eleanor, watching the sunset paint the sky in hues of orange and purple* She confided in Eleanor about the magical backpack* Eleanor listened patiently, her eyes twinkling with amusement*\n>\n>\"The backpack chooses its bearer,\" Eleanor explained* \"It appears to those who need it, those who have a strong heart and a willingness to help* It's been in our family for generations, passed down through the women*\"\n>\n>Clara was stunned* She wasn't alone* The magic wasn't just hers* It was part of a legacy*\n>\n>\"Where did you find it?\" Clara asked*\n>\n>\"I found it tucked away in my mother's attic, much like you did,\" Eleanor chuckled* \"But I'm giving it back to you, Clara* You have a gift, a responsibility* Use it wisely*\"\n>\n>Eleanor ended up staying for a few weeks* She told Clara stories of her travels, of faraway lands and strange creatures* She taught her more about the backpack, how to harness its power, how to understand its secrets* She helped Clara to see the potential within herself*\n>\n>When Eleanor finally left, she simply hugged Clara tightly and said, \"Remember, Clara, the greatest magic lies not in the backpack, but within your own heart*\"\n>\n>Life on the farm continued, but it wasn’t quite the same* Clara was no longer just a quiet, hardworking girl* She was a guardian, a protector, a keeper of secrets* She used the backpack to help her family, her neighbors, and even the stray animals that wandered onto their land* She learned to trust her instincts, to embrace her unique abilities, and to find her place in the world*\n>\n>Finn, who eventually learned about the backpack, became her eager assistant, always offering to help and brimming with ideas* He wasn't afraid of the magic, only excited by its possibilities* Margaret and Thomas, though they didn’t fully understand the backpack, noticed a change in Clara* She was more confident, more resourceful, and more at peace* They didn’t know the source of her transformation, but they were grateful for it*\n>\n>The magical backpack, once a source of secret wonder, became a symbol of Clara’s strength, her compassion, and her connection to a lineage of extraordinary women* It remained with her, a constant reminder that even in the most ordinary of lives, magic can be found in the most unexpected of places* And Clara, armed with her backpack and her own unwavering spirit, was ready for anything*\n"
          },
          "metadata": {},
          "execution_count": 12
        }
      ]
    },
    {
      "cell_type": "code",
      "source": [
        "MODEL_ID=\"gemini-2.0-flash\"\n",
        "prompt = \"\"\"\n",
        "Please return JSON describing the people, places, things and relationships from this story using the following schema:\n",
        "\n",
        "{\"people\": list[PERSON], \"places\":list[PLACE], \"things\":list[THING], \"relationships\": list[RELATIONSHIP]}\n",
        "\n",
        "PERSON = {\"name\": str, \"description\": str, \"start_place_name\": str, \"end_place_name\": str}\n",
        "PLACE = {\"name\": str, \"description\": str}\n",
        "THING = {\"name\": str, \"description\": str, \"start_place_name\": str, \"end_place_name\": str}\n",
        "RELATIONSHIP = {\"person_1_name\": str, \"person_2_name\": str, \"relationship\": str}\n",
        "\n",
        "All fields are required.\n",
        "\n",
        "Important: Only return a single piece of valid JSON text.\n",
        "\n",
        "Here is the story:\n",
        "\n",
        "\"\"\" + story\n",
        "\n",
        "response = client.models.generate_content(\n",
        "  model=MODEL_ID,\n",
        "  contents=prompt,\n",
        "  config=types.GenerateContentConfig(\n",
        "    response_mime_type=\"application/json\"\n",
        "  ),\n",
        ")"
      ],
      "metadata": {
        "id": "0hrCuT2Sx7nt"
      },
      "execution_count": null,
      "outputs": []
    },
    {
      "cell_type": "code",
      "source": [
        "import json\n",
        "\n",
        "print(json.dumps(json.loads(response.text), indent=4))"
      ],
      "metadata": {
        "colab": {
          "base_uri": "https://localhost:8080/"
        },
        "id": "1h1nS7wp0vmf",
        "outputId": "bba103e5-85fb-4b34-978e-8ed6ec701790"
      },
      "execution_count": null,
      "outputs": [
        {
          "output_type": "stream",
          "name": "stdout",
          "text": [
            "{\n",
            "    \"people\": [\n",
            "        {\n",
            "            \"name\": \"Clara\",\n",
            "            \"description\": \"A twelve-year-old girl who discovers a magical backpack.\",\n",
            "            \"start_place_name\": \"Farmhouse\",\n",
            "            \"end_place_name\": \"Farmhouse\"\n",
            "        },\n",
            "        {\n",
            "            \"name\": \"Margaret\",\n",
            "            \"description\": \"Clara's mother, manages the chickens and vegetable garden.\",\n",
            "            \"start_place_name\": \"Farm\",\n",
            "            \"end_place_name\": \"Farm\"\n",
            "        },\n",
            "        {\n",
            "            \"name\": \"Thomas\",\n",
            "            \"description\": \"Clara's father, tends to the cows and the fields.\",\n",
            "            \"start_place_name\": \"Farm\",\n",
            "            \"end_place_name\": \"Farm\"\n",
            "        },\n",
            "        {\n",
            "            \"name\": \"Finn\",\n",
            "            \"description\": \"Clara's eight-year-old brother, energetic and loves to play.\",\n",
            "            \"start_place_name\": \"Farm\",\n",
            "            \"end_place_name\": \"Farm\"\n",
            "        },\n",
            "        {\n",
            "            \"name\": \"Mr. Abernathy\",\n",
            "            \"description\": \"A neighbor, informs Clara about the cows escaping.\",\n",
            "            \"start_place_name\": \"Near the farm\",\n",
            "            \"end_place_name\": \"Near the farm\"\n",
            "        },\n",
            "        {\n",
            "            \"name\": \"Eleanor\",\n",
            "            \"description\": \"Clara's grandmother, reveals the backpack's history and lineage.\",\n",
            "            \"start_place_name\": \"Porch\",\n",
            "            \"end_place_name\": \"Unknown\"\n",
            "        }\n",
            "    ],\n",
            "    \"places\": [\n",
            "        {\n",
            "            \"name\": \"Farmhouse\",\n",
            "            \"description\": \"Clara's home, a place of discovery and secrets.\"\n",
            "        },\n",
            "        {\n",
            "            \"name\": \"Bus Stop\",\n",
            "            \"description\": \"The place where Clara takes Finn to school.\"\n",
            "        },\n",
            "        {\n",
            "            \"name\": \"Widow's Peak\",\n",
            "            \"description\": \"A dangerous cliff edge overlooking the valley.\"\n",
            "        },\n",
            "        {\n",
            "            \"name\": \"Field\",\n",
            "            \"description\": \"The location where the cows escaped and where Clara finds them.\"\n",
            "        },\n",
            "        {\n",
            "            \"name\": \"Farm\",\n",
            "            \"description\": \"The family farm where Clara and her family live and work.\"\n",
            "        }\n",
            "    ],\n",
            "    \"things\": [\n",
            "        {\n",
            "            \"name\": \"Kettle\",\n",
            "            \"description\": \"A chipped enamel kettle on the stove.\",\n",
            "            \"start_place_name\": \"Farmhouse\",\n",
            "            \"end_place_name\": \"Farmhouse\"\n",
            "        },\n",
            "        {\n",
            "            \"name\": \"Chamomile Tea\",\n",
            "            \"description\": \"Tea that Clara drinks to comfort herself.\",\n",
            "            \"start_place_name\": \"Farmhouse\",\n",
            "            \"end_place_name\": \"Farmhouse\"\n",
            "        },\n",
            "        {\n",
            "            \"name\": \"Backpack\",\n",
            "            \"description\": \"A magical backpack that provides Clara with necessary items.\",\n",
            "            \"start_place_name\": \"Farmhouse Attic\",\n",
            "            \"end_place_name\": \"Farmhouse\"\n",
            "        },\n",
            "        {\n",
            "            \"name\": \"Map\",\n",
            "            \"description\": \"A folded map shimmering faintly inside of the backpack.\",\n",
            "            \"start_place_name\": \"Backpack\",\n",
            "            \"end_place_name\": \"Backpack\"\n",
            "        },\n",
            "        {\n",
            "            \"name\": \"Pouch of Starlight\",\n",
            "            \"description\": \"A small, sealed pouch filled with crushed starlight.\",\n",
            "            \"start_place_name\": \"Backpack\",\n",
            "            \"end_place_name\": \"Backpack\"\n",
            "        },\n",
            "        {\n",
            "            \"name\": \"Leather-Bound Book\",\n",
            "            \"description\": \"A worn leather-bound book with a title that changes depending on the reader.\",\n",
            "            \"start_place_name\": \"Backpack\",\n",
            "            \"end_place_name\": \"Backpack\"\n",
            "        },\n",
            "        {\n",
            "            \"name\": \"Grey Stone\",\n",
            "            \"description\": \"A smooth, grey stone that pulses with a faint warmth.\",\n",
            "            \"start_place_name\": \"Backpack\",\n",
            "            \"end_place_name\": \"Backpack\"\n",
            "        },\n",
            "        {\n",
            "            \"name\": \"Rain Poncho\",\n",
            "            \"description\": \"A bright yellow rain poncho.\",\n",
            "            \"start_place_name\": \"Backpack\",\n",
            "            \"end_place_name\": \"Backpack\"\n",
            "        },\n",
            "        {\n",
            "            \"name\": \"Meadowsweet\",\n",
            "            \"description\": \"An herb used to calm frightened animals.\",\n",
            "            \"start_place_name\": \"Stream\",\n",
            "            \"end_place_name\": \"Field\"\n",
            "        },\n",
            "        {\n",
            "            \"name\": \"Wicker Basket\",\n",
            "            \"description\": \"A basket used to gather herbs.\",\n",
            "            \"start_place_name\": \"Backpack\",\n",
            "            \"end_place_name\": \"Field\"\n",
            "        },\n",
            "        {\n",
            "            \"name\": \"Multi-tool\",\n",
            "            \"description\": \"A tool used to repair the fence.\",\n",
            "            \"start_place_name\": \"Backpack\",\n",
            "            \"end_place_name\": \"Field\"\n",
            "        }\n",
            "    ],\n",
            "    \"relationships\": [\n",
            "        {\n",
            "            \"person_1_name\": \"Clara\",\n",
            "            \"person_2_name\": \"Margaret\",\n",
            "            \"relationship\": \"Daughter\"\n",
            "        },\n",
            "        {\n",
            "            \"person_1_name\": \"Clara\",\n",
            "            \"person_2_name\": \"Thomas\",\n",
            "            \"relationship\": \"Daughter\"\n",
            "        },\n",
            "        {\n",
            "            \"person_1_name\": \"Clara\",\n",
            "            \"person_2_name\": \"Finn\",\n",
            "            \"relationship\": \"Sister\"\n",
            "        },\n",
            "        {\n",
            "            \"person_1_name\": \"Clara\",\n",
            "            \"person_2_name\": \"Eleanor\",\n",
            "            \"relationship\": \"Granddaughter\"\n",
            "        },\n",
            "        {\n",
            "            \"person_1_name\": \"Margaret\",\n",
            "            \"person_2_name\": \"Eleanor\",\n",
            "            \"relationship\": \"Daughter\"\n",
            "        }\n",
            "    ]\n",
            "}\n"
          ]
        }
      ]
    },
    {
      "cell_type": "code",
      "source": [
        "Person = {\n",
        "\n",
        "    \"type\": \"OBJECT\",\n",
        "    \"properties\": {\n",
        "        \"character_name\": {\n",
        "            \"type\": \"STRING\",\n",
        "            \"description\": \"Character name\",\n",
        "        },\n",
        "        \"character_description\": {\n",
        "            \"type\": \"STRING\",\n",
        "            \"description\": \"Character description\",\n",
        "        }\n",
        "    },\n",
        "    \"required\": [\"character_name\", \"character_description\"]\n",
        "}"
      ],
      "metadata": {
        "id": "EwYGMNlv1kpu"
      },
      "execution_count": null,
      "outputs": []
    },
    {
      "cell_type": "code",
      "source": [
        "Relationships = {\n",
        "    \"type\": \"OBJECT\",\n",
        "    \"properties\": {\n",
        "        \"first_character\": {\n",
        "            \"type\": \"STRING\",\n",
        "            \"description\": \"First character name\",\n",
        "        },\n",
        "        \"second_character\": {\n",
        "            \"type\": \"STRING\",\n",
        "            \"description\": \"Second character name\",\n",
        "        },\n",
        "        \"relationship\": {\n",
        "            \"type\": \"STRING\",\n",
        "            \"description\": \"Familiar elationship between first and second character\",\n",
        "        }\n",
        "    },\n",
        "    \"required\": [\"first_character\", \"second_character\", \"relationship\"]\n",
        "}"
      ],
      "metadata": {
        "id": "sRv-TkaP2U5g"
      },
      "execution_count": null,
      "outputs": []
    },
    {
      "cell_type": "code",
      "source": [
        "Places = {\n",
        "    \"type\": \"OBJECT\",\n",
        "    \"properties\": {\n",
        "        \"place_name\": {\n",
        "            \"type\": \"STRING\",\n",
        "            \"description\": \"Place name\",\n",
        "        },\n",
        "        \"place_description\": {\n",
        "            \"type\": \"STRING\",\n",
        "            \"description\": \"Place description\",\n",
        "        }\n",
        "    },\n",
        "    \"required\": [\"place_name\", \"place_description\"]\n",
        "}"
      ],
      "metadata": {
        "id": "218qxqGAtLZv"
      },
      "execution_count": null,
      "outputs": []
    },
    {
      "cell_type": "code",
      "source": [
        "Things = {\n",
        "    \"type\": \"OBJECT\",\n",
        "    \"properties\": {\n",
        "        \"thing_name\": {\n",
        "            \"type\": \"STRING\",\n",
        "            \"description\": \"Thing name\",\n",
        "        },\n",
        "        \"thing_description\": {\n",
        "            \"type\": \"STRING\",\n",
        "            \"description\": \"Thing description\",\n",
        "        }\n",
        "    },\n",
        "    \"required\": [\"thing_name\", \"thing_description\"]\n",
        "}"
      ],
      "metadata": {
        "id": "c7wxqG-YtNqq"
      },
      "execution_count": null,
      "outputs": []
    },
    {
      "cell_type": "code",
      "source": [
        "get_people = types.FunctionDeclaration(\n",
        "    name=\"get_people\",\n",
        "    description=\"Get information about characters\",\n",
        "    parameters=Person,\n",
        ")\n",
        "\n",
        "get_relationships = types.FunctionDeclaration(\n",
        "    name=\"get_relationships\",\n",
        "    description=\"Get information about relationships between people\",\n",
        "    parameters=Relationships\n",
        ")\n",
        "\n",
        "get_places = types.FunctionDeclaration(\n",
        "    name=\"get_places\",\n",
        "    description=\"Get information about places\",\n",
        "    parameters=Places\n",
        ")\n",
        "\n",
        "get_things = types.FunctionDeclaration(\n",
        "    name=\"get_things\",\n",
        "    description=\"Get information about things\",\n",
        "    parameters=Things\n",
        ")\n",
        "\n",
        "story_tools = types.Tool(\n",
        "    function_declarations=[get_people, get_relationships, get_places, get_things],\n",
        ")"
      ],
      "metadata": {
        "id": "M3N-IyN2tQXk"
      },
      "execution_count": null,
      "outputs": []
    },
    {
      "cell_type": "code",
      "source": [
        "MODEL_ID=\"gemini-2.0-flash\"\n",
        "prompt = f\"\"\"\n",
        "{story}\n",
        "\n",
        "Please add the people, places, things, and relationships from this story to the database\n",
        "\"\"\"\n",
        "\n",
        "result = client.models.generate_content(\n",
        "    model=MODEL_ID,\n",
        "    contents=prompt,\n",
        "    config=types.GenerateContentConfig(\n",
        "        tools=[story_tools],\n",
        "        temperature=0\n",
        "        )\n",
        ")"
      ],
      "metadata": {
        "id": "BeO4LdnWtRx1"
      },
      "execution_count": null,
      "outputs": []
    },
    {
      "cell_type": "code",
      "source": [
        "result.candidates[0].content.parts[0].function_call"
      ],
      "metadata": {
        "colab": {
          "base_uri": "https://localhost:8080/"
        },
        "id": "d0AlcilhtlpG",
        "outputId": "495312e8-6c53-45e5-dc9c-9fc1c2811408"
      },
      "execution_count": null,
      "outputs": [
        {
          "output_type": "execute_result",
          "data": {
            "text/plain": [
              "FunctionCall(id=None, args={'character_name': 'Clara', 'character_description': 'a wisp of a girl at twelve with eyes that shifted from grey to blue depending on the light'}, name='get_people')"
            ]
          },
          "metadata": {},
          "execution_count": 22
        }
      ]
    },
    {
      "cell_type": "code",
      "source": [
        "for part in result.candidates[0].content.parts:\n",
        "  print(json.dumps(part.function_call.args, indent=4))"
      ],
      "metadata": {
        "colab": {
          "base_uri": "https://localhost:8080/"
        },
        "id": "XXcCxl8Dttf5",
        "outputId": "70df1822-67bb-471b-f659-0d48673a2cb6"
      },
      "execution_count": null,
      "outputs": [
        {
          "output_type": "stream",
          "name": "stdout",
          "text": [
            "{\n",
            "    \"character_name\": \"Clara\",\n",
            "    \"character_description\": \"a wisp of a girl at twelve with eyes that shifted from grey to blue depending on the light\"\n",
            "}\n",
            "{\n",
            "    \"character_description\": \"mother of Clara, with her sun-weathered skin and hands as strong as rope, managed the chickens and the vegetable garden\",\n",
            "    \"character_name\": \"Margaret\"\n",
            "}\n",
            "{\n",
            "    \"character_name\": \"Thomas\",\n",
            "    \"character_description\": \"father of Clara, a man of few words but immense strength, tended to the cows and the fields\"\n",
            "}\n",
            "{\n",
            "    \"character_description\": \"younger brother of Clara, a whirlwind of boundless energy with a mop of unruly red hair\",\n",
            "    \"character_name\": \"Finn\"\n",
            "}\n",
            "{\n",
            "    \"character_description\": \"neighbor of Clara's family, his face etched with worry lines\",\n",
            "    \"character_name\": \"Mr. Abernathy\"\n",
            "}\n",
            "{\n",
            "    \"character_description\": \"grandmother of Clara, mother's mother\",\n",
            "    \"character_name\": \"Eleanor\"\n",
            "}\n",
            "{\n",
            "    \"place_description\": \"where Clara and her family live\",\n",
            "    \"place_name\": \"farm\"\n",
            "}\n",
            "{\n",
            "    \"place_description\": \"a dangerous cliff edge that overlooked the valley\",\n",
            "    \"place_name\": \"Widow\\u2019s Peak\"\n",
            "}\n",
            "{\n",
            "    \"thing_description\": \"old kettle with chipped enamel\",\n",
            "    \"thing_name\": \"kettle\"\n",
            "}\n",
            "{\n",
            "    \"thing_name\": \"mug\",\n",
            "    \"thing_description\": \"chipped mug\"\n",
            "}\n",
            "{\n",
            "    \"thing_description\": \"tea Clara drinks\",\n",
            "    \"thing_name\": \"chamomile tea\"\n",
            "}\n",
            "{\n",
            "    \"thing_name\": \"backpack\",\n",
            "    \"thing_description\": \"Olive green canvas, slightly faded, with leather straps that creaked with age. It seemed ordinary enough, but Clara knew better. This was no ordinary backpack. It was magical.\"\n",
            "}\n",
            "{\n",
            "    \"thing_description\": \"folded map shimmering faintly\",\n",
            "    \"thing_name\": \"map\"\n",
            "}\n",
            "{\n",
            "    \"thing_name\": \"pouch\",\n",
            "    \"thing_description\": \"small, sealed pouch filled with what looked like crushed starlight\"\n",
            "}\n",
            "{\n",
            "    \"thing_description\": \"worn leather-bound book with a title that changed depending on the reader\",\n",
            "    \"thing_name\": \"book\"\n",
            "}\n",
            "{\n",
            "    \"thing_description\": \"smooth, grey stone that pulsed with a faint warmth\",\n",
            "    \"thing_name\": \"stone\"\n",
            "}\n",
            "{\n",
            "    \"thing_name\": \"rain poncho\",\n",
            "    \"thing_description\": \"bright yellow rain poncho\"\n",
            "}\n",
            "{\n",
            "    \"thing_description\": \"herb, known for its soothing fragrance\",\n",
            "    \"thing_name\": \"meadowsweet\"\n",
            "}\n",
            "{\n",
            "    \"thing_name\": \"basket\",\n",
            "    \"thing_description\": \"woven wicker basket, perfect for gathering herbs\"\n",
            "}\n",
            "{\n",
            "    \"thing_description\": \"tiny but powerful device with pliers, wire cutters, and a hammer\",\n",
            "    \"thing_name\": \"multi-tool\"\n",
            "}\n",
            "{\n",
            "    \"relationship\": \"parents\",\n",
            "    \"second_character\": \"Margaret and Thomas\",\n",
            "    \"first_character\": \"Clara\"\n",
            "}\n",
            "{\n",
            "    \"second_character\": \"Finn\",\n",
            "    \"relationship\": \"brother\",\n",
            "    \"first_character\": \"Clara\"\n",
            "}\n",
            "{\n",
            "    \"second_character\": \"Mr. Abernathy\",\n",
            "    \"relationship\": \"neighbor\",\n",
            "    \"first_character\": \"Clara\"\n",
            "}\n",
            "{\n",
            "    \"second_character\": \"Eleanor\",\n",
            "    \"first_character\": \"Clara\",\n",
            "    \"relationship\": \"grandmother\"\n",
            "}\n",
            "{\n",
            "    \"second_character\": \"Thomas\",\n",
            "    \"relationship\": \"husband\",\n",
            "    \"first_character\": \"Margaret\"\n",
            "}\n",
            "{\n",
            "    \"relationship\": \"son\",\n",
            "    \"second_character\": \"Finn\",\n",
            "    \"first_character\": \"Margaret\"\n",
            "}\n"
          ]
        }
      ]
    },
    {
      "cell_type": "markdown",
      "source": [
        "## Langchain"
      ],
      "metadata": {
        "id": "q-C95aJaVrok"
      }
    },
    {
      "cell_type": "markdown",
      "source": [
        "Packages"
      ],
      "metadata": {
        "id": "_20BHWG1Vlno"
      }
    },
    {
      "cell_type": "code",
      "source": [
        "!pip install langchain-core\n",
        "!pip install langchain\n",
        "!pip install langchain-google-genai\n",
        "!pip install langchain-community"
      ],
      "metadata": {
        "colab": {
          "base_uri": "https://localhost:8080/"
        },
        "id": "e3PRpqTu0gUy",
        "outputId": "1e12fd2d-37e1-4e6b-9f6a-56c54bd7b3ab"
      },
      "execution_count": null,
      "outputs": [
        {
          "output_type": "stream",
          "name": "stdout",
          "text": [
            "Requirement already satisfied: langchain-core in /usr/local/lib/python3.11/dist-packages (0.3.37)\n",
            "Requirement already satisfied: langsmith<0.4,>=0.1.125 in /usr/local/lib/python3.11/dist-packages (from langchain-core) (0.3.8)\n",
            "Requirement already satisfied: tenacity!=8.4.0,<10.0.0,>=8.1.0 in /usr/local/lib/python3.11/dist-packages (from langchain-core) (9.0.0)\n",
            "Requirement already satisfied: jsonpatch<2.0,>=1.33 in /usr/local/lib/python3.11/dist-packages (from langchain-core) (1.33)\n",
            "Requirement already satisfied: PyYAML>=5.3 in /usr/local/lib/python3.11/dist-packages (from langchain-core) (6.0.2)\n",
            "Requirement already satisfied: packaging<25,>=23.2 in /usr/local/lib/python3.11/dist-packages (from langchain-core) (24.2)\n",
            "Requirement already satisfied: typing-extensions>=4.7 in /usr/local/lib/python3.11/dist-packages (from langchain-core) (4.12.2)\n",
            "Requirement already satisfied: pydantic<3.0.0,>=2.5.2 in /usr/local/lib/python3.11/dist-packages (from langchain-core) (2.10.6)\n",
            "Requirement already satisfied: jsonpointer>=1.9 in /usr/local/lib/python3.11/dist-packages (from jsonpatch<2.0,>=1.33->langchain-core) (3.0.0)\n",
            "Requirement already satisfied: httpx<1,>=0.23.0 in /usr/local/lib/python3.11/dist-packages (from langsmith<0.4,>=0.1.125->langchain-core) (0.28.1)\n",
            "Requirement already satisfied: orjson<4.0.0,>=3.9.14 in /usr/local/lib/python3.11/dist-packages (from langsmith<0.4,>=0.1.125->langchain-core) (3.10.15)\n",
            "Requirement already satisfied: requests<3,>=2 in /usr/local/lib/python3.11/dist-packages (from langsmith<0.4,>=0.1.125->langchain-core) (2.32.3)\n",
            "Requirement already satisfied: requests-toolbelt<2.0.0,>=1.0.0 in /usr/local/lib/python3.11/dist-packages (from langsmith<0.4,>=0.1.125->langchain-core) (1.0.0)\n",
            "Requirement already satisfied: zstandard<0.24.0,>=0.23.0 in /usr/local/lib/python3.11/dist-packages (from langsmith<0.4,>=0.1.125->langchain-core) (0.23.0)\n",
            "Requirement already satisfied: annotated-types>=0.6.0 in /usr/local/lib/python3.11/dist-packages (from pydantic<3.0.0,>=2.5.2->langchain-core) (0.7.0)\n",
            "Requirement already satisfied: pydantic-core==2.27.2 in /usr/local/lib/python3.11/dist-packages (from pydantic<3.0.0,>=2.5.2->langchain-core) (2.27.2)\n",
            "Requirement already satisfied: anyio in /usr/local/lib/python3.11/dist-packages (from httpx<1,>=0.23.0->langsmith<0.4,>=0.1.125->langchain-core) (3.7.1)\n",
            "Requirement already satisfied: certifi in /usr/local/lib/python3.11/dist-packages (from httpx<1,>=0.23.0->langsmith<0.4,>=0.1.125->langchain-core) (2025.1.31)\n",
            "Requirement already satisfied: httpcore==1.* in /usr/local/lib/python3.11/dist-packages (from httpx<1,>=0.23.0->langsmith<0.4,>=0.1.125->langchain-core) (1.0.7)\n",
            "Requirement already satisfied: idna in /usr/local/lib/python3.11/dist-packages (from httpx<1,>=0.23.0->langsmith<0.4,>=0.1.125->langchain-core) (3.10)\n",
            "Requirement already satisfied: h11<0.15,>=0.13 in /usr/local/lib/python3.11/dist-packages (from httpcore==1.*->httpx<1,>=0.23.0->langsmith<0.4,>=0.1.125->langchain-core) (0.14.0)\n",
            "Requirement already satisfied: charset-normalizer<4,>=2 in /usr/local/lib/python3.11/dist-packages (from requests<3,>=2->langsmith<0.4,>=0.1.125->langchain-core) (3.4.1)\n",
            "Requirement already satisfied: urllib3<3,>=1.21.1 in /usr/local/lib/python3.11/dist-packages (from requests<3,>=2->langsmith<0.4,>=0.1.125->langchain-core) (2.3.0)\n",
            "Requirement already satisfied: sniffio>=1.1 in /usr/local/lib/python3.11/dist-packages (from anyio->httpx<1,>=0.23.0->langsmith<0.4,>=0.1.125->langchain-core) (1.3.1)\n",
            "Requirement already satisfied: langchain in /usr/local/lib/python3.11/dist-packages (0.3.19)\n",
            "Requirement already satisfied: langchain-core<1.0.0,>=0.3.35 in /usr/local/lib/python3.11/dist-packages (from langchain) (0.3.37)\n",
            "Requirement already satisfied: langchain-text-splitters<1.0.0,>=0.3.6 in /usr/local/lib/python3.11/dist-packages (from langchain) (0.3.6)\n",
            "Requirement already satisfied: langsmith<0.4,>=0.1.17 in /usr/local/lib/python3.11/dist-packages (from langchain) (0.3.8)\n",
            "Requirement already satisfied: pydantic<3.0.0,>=2.7.4 in /usr/local/lib/python3.11/dist-packages (from langchain) (2.10.6)\n",
            "Requirement already satisfied: SQLAlchemy<3,>=1.4 in /usr/local/lib/python3.11/dist-packages (from langchain) (2.0.38)\n",
            "Requirement already satisfied: requests<3,>=2 in /usr/local/lib/python3.11/dist-packages (from langchain) (2.32.3)\n",
            "Requirement already satisfied: PyYAML>=5.3 in /usr/local/lib/python3.11/dist-packages (from langchain) (6.0.2)\n",
            "Requirement already satisfied: aiohttp<4.0.0,>=3.8.3 in /usr/local/lib/python3.11/dist-packages (from langchain) (3.11.12)\n",
            "Requirement already satisfied: tenacity!=8.4.0,<10,>=8.1.0 in /usr/local/lib/python3.11/dist-packages (from langchain) (9.0.0)\n",
            "Requirement already satisfied: numpy<2,>=1.26.4 in /usr/local/lib/python3.11/dist-packages (from langchain) (1.26.4)\n",
            "Requirement already satisfied: aiohappyeyeballs>=2.3.0 in /usr/local/lib/python3.11/dist-packages (from aiohttp<4.0.0,>=3.8.3->langchain) (2.4.6)\n",
            "Requirement already satisfied: aiosignal>=1.1.2 in /usr/local/lib/python3.11/dist-packages (from aiohttp<4.0.0,>=3.8.3->langchain) (1.3.2)\n",
            "Requirement already satisfied: attrs>=17.3.0 in /usr/local/lib/python3.11/dist-packages (from aiohttp<4.0.0,>=3.8.3->langchain) (25.1.0)\n",
            "Requirement already satisfied: frozenlist>=1.1.1 in /usr/local/lib/python3.11/dist-packages (from aiohttp<4.0.0,>=3.8.3->langchain) (1.5.0)\n",
            "Requirement already satisfied: multidict<7.0,>=4.5 in /usr/local/lib/python3.11/dist-packages (from aiohttp<4.0.0,>=3.8.3->langchain) (6.1.0)\n",
            "Requirement already satisfied: propcache>=0.2.0 in /usr/local/lib/python3.11/dist-packages (from aiohttp<4.0.0,>=3.8.3->langchain) (0.2.1)\n",
            "Requirement already satisfied: yarl<2.0,>=1.17.0 in /usr/local/lib/python3.11/dist-packages (from aiohttp<4.0.0,>=3.8.3->langchain) (1.18.3)\n",
            "Requirement already satisfied: jsonpatch<2.0,>=1.33 in /usr/local/lib/python3.11/dist-packages (from langchain-core<1.0.0,>=0.3.35->langchain) (1.33)\n",
            "Requirement already satisfied: packaging<25,>=23.2 in /usr/local/lib/python3.11/dist-packages (from langchain-core<1.0.0,>=0.3.35->langchain) (24.2)\n",
            "Requirement already satisfied: typing-extensions>=4.7 in /usr/local/lib/python3.11/dist-packages (from langchain-core<1.0.0,>=0.3.35->langchain) (4.12.2)\n",
            "Requirement already satisfied: httpx<1,>=0.23.0 in /usr/local/lib/python3.11/dist-packages (from langsmith<0.4,>=0.1.17->langchain) (0.28.1)\n",
            "Requirement already satisfied: orjson<4.0.0,>=3.9.14 in /usr/local/lib/python3.11/dist-packages (from langsmith<0.4,>=0.1.17->langchain) (3.10.15)\n",
            "Requirement already satisfied: requests-toolbelt<2.0.0,>=1.0.0 in /usr/local/lib/python3.11/dist-packages (from langsmith<0.4,>=0.1.17->langchain) (1.0.0)\n",
            "Requirement already satisfied: zstandard<0.24.0,>=0.23.0 in /usr/local/lib/python3.11/dist-packages (from langsmith<0.4,>=0.1.17->langchain) (0.23.0)\n",
            "Requirement already satisfied: annotated-types>=0.6.0 in /usr/local/lib/python3.11/dist-packages (from pydantic<3.0.0,>=2.7.4->langchain) (0.7.0)\n",
            "Requirement already satisfied: pydantic-core==2.27.2 in /usr/local/lib/python3.11/dist-packages (from pydantic<3.0.0,>=2.7.4->langchain) (2.27.2)\n",
            "Requirement already satisfied: charset-normalizer<4,>=2 in /usr/local/lib/python3.11/dist-packages (from requests<3,>=2->langchain) (3.4.1)\n",
            "Requirement already satisfied: idna<4,>=2.5 in /usr/local/lib/python3.11/dist-packages (from requests<3,>=2->langchain) (3.10)\n",
            "Requirement already satisfied: urllib3<3,>=1.21.1 in /usr/local/lib/python3.11/dist-packages (from requests<3,>=2->langchain) (2.3.0)\n",
            "Requirement already satisfied: certifi>=2017.4.17 in /usr/local/lib/python3.11/dist-packages (from requests<3,>=2->langchain) (2025.1.31)\n",
            "Requirement already satisfied: greenlet!=0.4.17 in /usr/local/lib/python3.11/dist-packages (from SQLAlchemy<3,>=1.4->langchain) (3.1.1)\n",
            "Requirement already satisfied: anyio in /usr/local/lib/python3.11/dist-packages (from httpx<1,>=0.23.0->langsmith<0.4,>=0.1.17->langchain) (3.7.1)\n",
            "Requirement already satisfied: httpcore==1.* in /usr/local/lib/python3.11/dist-packages (from httpx<1,>=0.23.0->langsmith<0.4,>=0.1.17->langchain) (1.0.7)\n",
            "Requirement already satisfied: h11<0.15,>=0.13 in /usr/local/lib/python3.11/dist-packages (from httpcore==1.*->httpx<1,>=0.23.0->langsmith<0.4,>=0.1.17->langchain) (0.14.0)\n",
            "Requirement already satisfied: jsonpointer>=1.9 in /usr/local/lib/python3.11/dist-packages (from jsonpatch<2.0,>=1.33->langchain-core<1.0.0,>=0.3.35->langchain) (3.0.0)\n",
            "Requirement already satisfied: sniffio>=1.1 in /usr/local/lib/python3.11/dist-packages (from anyio->httpx<1,>=0.23.0->langsmith<0.4,>=0.1.17->langchain) (1.3.1)\n",
            "Requirement already satisfied: langchain-google-genai in /usr/local/lib/python3.11/dist-packages (2.0.9)\n",
            "Requirement already satisfied: filetype<2.0.0,>=1.2.0 in /usr/local/lib/python3.11/dist-packages (from langchain-google-genai) (1.2.0)\n",
            "Requirement already satisfied: google-generativeai<0.9.0,>=0.8.0 in /usr/local/lib/python3.11/dist-packages (from langchain-google-genai) (0.8.4)\n",
            "Requirement already satisfied: langchain-core<0.4.0,>=0.3.27 in /usr/local/lib/python3.11/dist-packages (from langchain-google-genai) (0.3.37)\n",
            "Requirement already satisfied: pydantic<3,>=2 in /usr/local/lib/python3.11/dist-packages (from langchain-google-genai) (2.10.6)\n",
            "Requirement already satisfied: google-ai-generativelanguage==0.6.15 in /usr/local/lib/python3.11/dist-packages (from google-generativeai<0.9.0,>=0.8.0->langchain-google-genai) (0.6.15)\n",
            "Requirement already satisfied: google-api-core in /usr/local/lib/python3.11/dist-packages (from google-generativeai<0.9.0,>=0.8.0->langchain-google-genai) (2.19.2)\n",
            "Requirement already satisfied: google-api-python-client in /usr/local/lib/python3.11/dist-packages (from google-generativeai<0.9.0,>=0.8.0->langchain-google-genai) (2.160.0)\n",
            "Requirement already satisfied: google-auth>=2.15.0 in /usr/local/lib/python3.11/dist-packages (from google-generativeai<0.9.0,>=0.8.0->langchain-google-genai) (2.27.0)\n",
            "Requirement already satisfied: protobuf in /usr/local/lib/python3.11/dist-packages (from google-generativeai<0.9.0,>=0.8.0->langchain-google-genai) (4.25.6)\n",
            "Requirement already satisfied: tqdm in /usr/local/lib/python3.11/dist-packages (from google-generativeai<0.9.0,>=0.8.0->langchain-google-genai) (4.67.1)\n",
            "Requirement already satisfied: typing-extensions in /usr/local/lib/python3.11/dist-packages (from google-generativeai<0.9.0,>=0.8.0->langchain-google-genai) (4.12.2)\n",
            "Requirement already satisfied: proto-plus<2.0.0dev,>=1.22.3 in /usr/local/lib/python3.11/dist-packages (from google-ai-generativelanguage==0.6.15->google-generativeai<0.9.0,>=0.8.0->langchain-google-genai) (1.26.0)\n",
            "Requirement already satisfied: langsmith<0.4,>=0.1.125 in /usr/local/lib/python3.11/dist-packages (from langchain-core<0.4.0,>=0.3.27->langchain-google-genai) (0.3.8)\n",
            "Requirement already satisfied: tenacity!=8.4.0,<10.0.0,>=8.1.0 in /usr/local/lib/python3.11/dist-packages (from langchain-core<0.4.0,>=0.3.27->langchain-google-genai) (9.0.0)\n",
            "Requirement already satisfied: jsonpatch<2.0,>=1.33 in /usr/local/lib/python3.11/dist-packages (from langchain-core<0.4.0,>=0.3.27->langchain-google-genai) (1.33)\n",
            "Requirement already satisfied: PyYAML>=5.3 in /usr/local/lib/python3.11/dist-packages (from langchain-core<0.4.0,>=0.3.27->langchain-google-genai) (6.0.2)\n",
            "Requirement already satisfied: packaging<25,>=23.2 in /usr/local/lib/python3.11/dist-packages (from langchain-core<0.4.0,>=0.3.27->langchain-google-genai) (24.2)\n",
            "Requirement already satisfied: annotated-types>=0.6.0 in /usr/local/lib/python3.11/dist-packages (from pydantic<3,>=2->langchain-google-genai) (0.7.0)\n",
            "Requirement already satisfied: pydantic-core==2.27.2 in /usr/local/lib/python3.11/dist-packages (from pydantic<3,>=2->langchain-google-genai) (2.27.2)\n",
            "Requirement already satisfied: googleapis-common-protos<2.0.dev0,>=1.56.2 in /usr/local/lib/python3.11/dist-packages (from google-api-core->google-generativeai<0.9.0,>=0.8.0->langchain-google-genai) (1.67.0)\n",
            "Requirement already satisfied: requests<3.0.0.dev0,>=2.18.0 in /usr/local/lib/python3.11/dist-packages (from google-api-core->google-generativeai<0.9.0,>=0.8.0->langchain-google-genai) (2.32.3)\n",
            "Requirement already satisfied: cachetools<6.0,>=2.0.0 in /usr/local/lib/python3.11/dist-packages (from google-auth>=2.15.0->google-generativeai<0.9.0,>=0.8.0->langchain-google-genai) (5.5.1)\n",
            "Requirement already satisfied: pyasn1-modules>=0.2.1 in /usr/local/lib/python3.11/dist-packages (from google-auth>=2.15.0->google-generativeai<0.9.0,>=0.8.0->langchain-google-genai) (0.4.1)\n",
            "Requirement already satisfied: rsa<5,>=3.1.4 in /usr/local/lib/python3.11/dist-packages (from google-auth>=2.15.0->google-generativeai<0.9.0,>=0.8.0->langchain-google-genai) (4.9)\n",
            "Requirement already satisfied: jsonpointer>=1.9 in /usr/local/lib/python3.11/dist-packages (from jsonpatch<2.0,>=1.33->langchain-core<0.4.0,>=0.3.27->langchain-google-genai) (3.0.0)\n",
            "Requirement already satisfied: httpx<1,>=0.23.0 in /usr/local/lib/python3.11/dist-packages (from langsmith<0.4,>=0.1.125->langchain-core<0.4.0,>=0.3.27->langchain-google-genai) (0.28.1)\n",
            "Requirement already satisfied: orjson<4.0.0,>=3.9.14 in /usr/local/lib/python3.11/dist-packages (from langsmith<0.4,>=0.1.125->langchain-core<0.4.0,>=0.3.27->langchain-google-genai) (3.10.15)\n",
            "Requirement already satisfied: requests-toolbelt<2.0.0,>=1.0.0 in /usr/local/lib/python3.11/dist-packages (from langsmith<0.4,>=0.1.125->langchain-core<0.4.0,>=0.3.27->langchain-google-genai) (1.0.0)\n",
            "Requirement already satisfied: zstandard<0.24.0,>=0.23.0 in /usr/local/lib/python3.11/dist-packages (from langsmith<0.4,>=0.1.125->langchain-core<0.4.0,>=0.3.27->langchain-google-genai) (0.23.0)\n",
            "Requirement already satisfied: httplib2<1.dev0,>=0.19.0 in /usr/local/lib/python3.11/dist-packages (from google-api-python-client->google-generativeai<0.9.0,>=0.8.0->langchain-google-genai) (0.22.0)\n",
            "Requirement already satisfied: google-auth-httplib2<1.0.0,>=0.2.0 in /usr/local/lib/python3.11/dist-packages (from google-api-python-client->google-generativeai<0.9.0,>=0.8.0->langchain-google-genai) (0.2.0)\n",
            "Requirement already satisfied: uritemplate<5,>=3.0.1 in /usr/local/lib/python3.11/dist-packages (from google-api-python-client->google-generativeai<0.9.0,>=0.8.0->langchain-google-genai) (4.1.1)\n",
            "Requirement already satisfied: grpcio<2.0dev,>=1.33.2 in /usr/local/lib/python3.11/dist-packages (from google-api-core[grpc]!=2.0.*,!=2.1.*,!=2.10.*,!=2.2.*,!=2.3.*,!=2.4.*,!=2.5.*,!=2.6.*,!=2.7.*,!=2.8.*,!=2.9.*,<3.0.0dev,>=1.34.1->google-ai-generativelanguage==0.6.15->google-generativeai<0.9.0,>=0.8.0->langchain-google-genai) (1.70.0)\n",
            "Requirement already satisfied: grpcio-status<2.0.dev0,>=1.33.2 in /usr/local/lib/python3.11/dist-packages (from google-api-core[grpc]!=2.0.*,!=2.1.*,!=2.10.*,!=2.2.*,!=2.3.*,!=2.4.*,!=2.5.*,!=2.6.*,!=2.7.*,!=2.8.*,!=2.9.*,<3.0.0dev,>=1.34.1->google-ai-generativelanguage==0.6.15->google-generativeai<0.9.0,>=0.8.0->langchain-google-genai) (1.62.3)\n",
            "Requirement already satisfied: pyparsing!=3.0.0,!=3.0.1,!=3.0.2,!=3.0.3,<4,>=2.4.2 in /usr/local/lib/python3.11/dist-packages (from httplib2<1.dev0,>=0.19.0->google-api-python-client->google-generativeai<0.9.0,>=0.8.0->langchain-google-genai) (3.2.1)\n",
            "Requirement already satisfied: anyio in /usr/local/lib/python3.11/dist-packages (from httpx<1,>=0.23.0->langsmith<0.4,>=0.1.125->langchain-core<0.4.0,>=0.3.27->langchain-google-genai) (3.7.1)\n",
            "Requirement already satisfied: certifi in /usr/local/lib/python3.11/dist-packages (from httpx<1,>=0.23.0->langsmith<0.4,>=0.1.125->langchain-core<0.4.0,>=0.3.27->langchain-google-genai) (2025.1.31)\n",
            "Requirement already satisfied: httpcore==1.* in /usr/local/lib/python3.11/dist-packages (from httpx<1,>=0.23.0->langsmith<0.4,>=0.1.125->langchain-core<0.4.0,>=0.3.27->langchain-google-genai) (1.0.7)\n",
            "Requirement already satisfied: idna in /usr/local/lib/python3.11/dist-packages (from httpx<1,>=0.23.0->langsmith<0.4,>=0.1.125->langchain-core<0.4.0,>=0.3.27->langchain-google-genai) (3.10)\n",
            "Requirement already satisfied: h11<0.15,>=0.13 in /usr/local/lib/python3.11/dist-packages (from httpcore==1.*->httpx<1,>=0.23.0->langsmith<0.4,>=0.1.125->langchain-core<0.4.0,>=0.3.27->langchain-google-genai) (0.14.0)\n",
            "Requirement already satisfied: pyasn1<0.7.0,>=0.4.6 in /usr/local/lib/python3.11/dist-packages (from pyasn1-modules>=0.2.1->google-auth>=2.15.0->google-generativeai<0.9.0,>=0.8.0->langchain-google-genai) (0.6.1)\n",
            "Requirement already satisfied: charset-normalizer<4,>=2 in /usr/local/lib/python3.11/dist-packages (from requests<3.0.0.dev0,>=2.18.0->google-api-core->google-generativeai<0.9.0,>=0.8.0->langchain-google-genai) (3.4.1)\n",
            "Requirement already satisfied: urllib3<3,>=1.21.1 in /usr/local/lib/python3.11/dist-packages (from requests<3.0.0.dev0,>=2.18.0->google-api-core->google-generativeai<0.9.0,>=0.8.0->langchain-google-genai) (2.3.0)\n",
            "Requirement already satisfied: sniffio>=1.1 in /usr/local/lib/python3.11/dist-packages (from anyio->httpx<1,>=0.23.0->langsmith<0.4,>=0.1.125->langchain-core<0.4.0,>=0.3.27->langchain-google-genai) (1.3.1)\n",
            "Requirement already satisfied: langchain-community in /usr/local/lib/python3.11/dist-packages (0.3.18)\n",
            "Requirement already satisfied: langchain-core<1.0.0,>=0.3.37 in /usr/local/lib/python3.11/dist-packages (from langchain-community) (0.3.37)\n",
            "Requirement already satisfied: langchain<1.0.0,>=0.3.19 in /usr/local/lib/python3.11/dist-packages (from langchain-community) (0.3.19)\n",
            "Requirement already satisfied: SQLAlchemy<3,>=1.4 in /usr/local/lib/python3.11/dist-packages (from langchain-community) (2.0.38)\n",
            "Requirement already satisfied: requests<3,>=2 in /usr/local/lib/python3.11/dist-packages (from langchain-community) (2.32.3)\n",
            "Requirement already satisfied: PyYAML>=5.3 in /usr/local/lib/python3.11/dist-packages (from langchain-community) (6.0.2)\n",
            "Requirement already satisfied: aiohttp<4.0.0,>=3.8.3 in /usr/local/lib/python3.11/dist-packages (from langchain-community) (3.11.12)\n",
            "Requirement already satisfied: tenacity!=8.4.0,<10,>=8.1.0 in /usr/local/lib/python3.11/dist-packages (from langchain-community) (9.0.0)\n",
            "Requirement already satisfied: dataclasses-json<0.7,>=0.5.7 in /usr/local/lib/python3.11/dist-packages (from langchain-community) (0.6.7)\n",
            "Requirement already satisfied: pydantic-settings<3.0.0,>=2.4.0 in /usr/local/lib/python3.11/dist-packages (from langchain-community) (2.7.1)\n",
            "Requirement already satisfied: langsmith<0.4,>=0.1.125 in /usr/local/lib/python3.11/dist-packages (from langchain-community) (0.3.8)\n",
            "Requirement already satisfied: httpx-sse<1.0.0,>=0.4.0 in /usr/local/lib/python3.11/dist-packages (from langchain-community) (0.4.0)\n",
            "Requirement already satisfied: numpy<2,>=1.26.4 in /usr/local/lib/python3.11/dist-packages (from langchain-community) (1.26.4)\n",
            "Requirement already satisfied: aiohappyeyeballs>=2.3.0 in /usr/local/lib/python3.11/dist-packages (from aiohttp<4.0.0,>=3.8.3->langchain-community) (2.4.6)\n",
            "Requirement already satisfied: aiosignal>=1.1.2 in /usr/local/lib/python3.11/dist-packages (from aiohttp<4.0.0,>=3.8.3->langchain-community) (1.3.2)\n",
            "Requirement already satisfied: attrs>=17.3.0 in /usr/local/lib/python3.11/dist-packages (from aiohttp<4.0.0,>=3.8.3->langchain-community) (25.1.0)\n",
            "Requirement already satisfied: frozenlist>=1.1.1 in /usr/local/lib/python3.11/dist-packages (from aiohttp<4.0.0,>=3.8.3->langchain-community) (1.5.0)\n",
            "Requirement already satisfied: multidict<7.0,>=4.5 in /usr/local/lib/python3.11/dist-packages (from aiohttp<4.0.0,>=3.8.3->langchain-community) (6.1.0)\n",
            "Requirement already satisfied: propcache>=0.2.0 in /usr/local/lib/python3.11/dist-packages (from aiohttp<4.0.0,>=3.8.3->langchain-community) (0.2.1)\n",
            "Requirement already satisfied: yarl<2.0,>=1.17.0 in /usr/local/lib/python3.11/dist-packages (from aiohttp<4.0.0,>=3.8.3->langchain-community) (1.18.3)\n",
            "Requirement already satisfied: marshmallow<4.0.0,>=3.18.0 in /usr/local/lib/python3.11/dist-packages (from dataclasses-json<0.7,>=0.5.7->langchain-community) (3.26.1)\n",
            "Requirement already satisfied: typing-inspect<1,>=0.4.0 in /usr/local/lib/python3.11/dist-packages (from dataclasses-json<0.7,>=0.5.7->langchain-community) (0.9.0)\n",
            "Requirement already satisfied: langchain-text-splitters<1.0.0,>=0.3.6 in /usr/local/lib/python3.11/dist-packages (from langchain<1.0.0,>=0.3.19->langchain-community) (0.3.6)\n",
            "Requirement already satisfied: pydantic<3.0.0,>=2.7.4 in /usr/local/lib/python3.11/dist-packages (from langchain<1.0.0,>=0.3.19->langchain-community) (2.10.6)\n",
            "Requirement already satisfied: jsonpatch<2.0,>=1.33 in /usr/local/lib/python3.11/dist-packages (from langchain-core<1.0.0,>=0.3.37->langchain-community) (1.33)\n",
            "Requirement already satisfied: packaging<25,>=23.2 in /usr/local/lib/python3.11/dist-packages (from langchain-core<1.0.0,>=0.3.37->langchain-community) (24.2)\n",
            "Requirement already satisfied: typing-extensions>=4.7 in /usr/local/lib/python3.11/dist-packages (from langchain-core<1.0.0,>=0.3.37->langchain-community) (4.12.2)\n",
            "Requirement already satisfied: httpx<1,>=0.23.0 in /usr/local/lib/python3.11/dist-packages (from langsmith<0.4,>=0.1.125->langchain-community) (0.28.1)\n",
            "Requirement already satisfied: orjson<4.0.0,>=3.9.14 in /usr/local/lib/python3.11/dist-packages (from langsmith<0.4,>=0.1.125->langchain-community) (3.10.15)\n",
            "Requirement already satisfied: requests-toolbelt<2.0.0,>=1.0.0 in /usr/local/lib/python3.11/dist-packages (from langsmith<0.4,>=0.1.125->langchain-community) (1.0.0)\n",
            "Requirement already satisfied: zstandard<0.24.0,>=0.23.0 in /usr/local/lib/python3.11/dist-packages (from langsmith<0.4,>=0.1.125->langchain-community) (0.23.0)\n",
            "Requirement already satisfied: python-dotenv>=0.21.0 in /usr/local/lib/python3.11/dist-packages (from pydantic-settings<3.0.0,>=2.4.0->langchain-community) (1.0.1)\n",
            "Requirement already satisfied: charset-normalizer<4,>=2 in /usr/local/lib/python3.11/dist-packages (from requests<3,>=2->langchain-community) (3.4.1)\n",
            "Requirement already satisfied: idna<4,>=2.5 in /usr/local/lib/python3.11/dist-packages (from requests<3,>=2->langchain-community) (3.10)\n",
            "Requirement already satisfied: urllib3<3,>=1.21.1 in /usr/local/lib/python3.11/dist-packages (from requests<3,>=2->langchain-community) (2.3.0)\n",
            "Requirement already satisfied: certifi>=2017.4.17 in /usr/local/lib/python3.11/dist-packages (from requests<3,>=2->langchain-community) (2025.1.31)\n",
            "Requirement already satisfied: greenlet!=0.4.17 in /usr/local/lib/python3.11/dist-packages (from SQLAlchemy<3,>=1.4->langchain-community) (3.1.1)\n",
            "Requirement already satisfied: anyio in /usr/local/lib/python3.11/dist-packages (from httpx<1,>=0.23.0->langsmith<0.4,>=0.1.125->langchain-community) (3.7.1)\n",
            "Requirement already satisfied: httpcore==1.* in /usr/local/lib/python3.11/dist-packages (from httpx<1,>=0.23.0->langsmith<0.4,>=0.1.125->langchain-community) (1.0.7)\n",
            "Requirement already satisfied: h11<0.15,>=0.13 in /usr/local/lib/python3.11/dist-packages (from httpcore==1.*->httpx<1,>=0.23.0->langsmith<0.4,>=0.1.125->langchain-community) (0.14.0)\n",
            "Requirement already satisfied: jsonpointer>=1.9 in /usr/local/lib/python3.11/dist-packages (from jsonpatch<2.0,>=1.33->langchain-core<1.0.0,>=0.3.37->langchain-community) (3.0.0)\n",
            "Requirement already satisfied: annotated-types>=0.6.0 in /usr/local/lib/python3.11/dist-packages (from pydantic<3.0.0,>=2.7.4->langchain<1.0.0,>=0.3.19->langchain-community) (0.7.0)\n",
            "Requirement already satisfied: pydantic-core==2.27.2 in /usr/local/lib/python3.11/dist-packages (from pydantic<3.0.0,>=2.7.4->langchain<1.0.0,>=0.3.19->langchain-community) (2.27.2)\n",
            "Requirement already satisfied: mypy-extensions>=0.3.0 in /usr/local/lib/python3.11/dist-packages (from typing-inspect<1,>=0.4.0->dataclasses-json<0.7,>=0.5.7->langchain-community) (1.0.0)\n",
            "Requirement already satisfied: sniffio>=1.1 in /usr/local/lib/python3.11/dist-packages (from anyio->httpx<1,>=0.23.0->langsmith<0.4,>=0.1.125->langchain-community) (1.3.1)\n"
          ]
        }
      ]
    },
    {
      "cell_type": "code",
      "source": [
        "from langchain import PromptTemplate\n",
        "from langchain.document_loaders import WebBaseLoader\n",
        "from langchain.schema import StrOutputParser\n",
        "from langchain.schema.prompt_template import format_document"
      ],
      "metadata": {
        "colab": {
          "base_uri": "https://localhost:8080/"
        },
        "id": "brL9zers1A9G",
        "outputId": "28ba4fd2-b430-4666-89d6-17ca69a99c7e"
      },
      "execution_count": null,
      "outputs": [
        {
          "output_type": "stream",
          "name": "stderr",
          "text": [
            "WARNING:langchain_community.utils.user_agent:USER_AGENT environment variable not set, consider setting it to identify your requests.\n"
          ]
        }
      ]
    },
    {
      "cell_type": "code",
      "source": [
        "client = genai.Client(api_key= mygeminikey)"
      ],
      "metadata": {
        "id": "Q7CvD4qh1pQF"
      },
      "execution_count": null,
      "outputs": []
    },
    {
      "cell_type": "code",
      "source": [
        "prompt = 'can u tell me total number of country in asia? give me top 10 country nmaes'"
      ],
      "metadata": {
        "id": "_I1sTTDH2MCF"
      },
      "execution_count": null,
      "outputs": []
    },
    {
      "cell_type": "code",
      "source": [
        "response = client.models.generate_content(\n",
        "  model = 'gemini-2.0-flash' ,\n",
        "  contents = prompt,\n",
        ")\n",
        "print(response.text.strip()),"
      ],
      "metadata": {
        "colab": {
          "base_uri": "https://localhost:8080/"
        },
        "id": "DKBx_ldg2b_H",
        "outputId": "36f9730f-9e2d-4cb3-ca60-8c93bf4e3ecf"
      },
      "execution_count": null,
      "outputs": [
        {
          "output_type": "stream",
          "name": "stdout",
          "text": [
            "There is no single, universally agreed-upon number of countries in Asia, as different organizations and sources use different criteria for inclusion. However, most commonly, the number is considered to be around **48**.\n",
            "\n",
            "Here are the top 10 largest countries in Asia by land area:\n",
            "\n",
            "1.  **Russia** (Note: While most of Russia is in Asia, part of it is also in Europe. This list ranks it by its total land area, which is mostly in Asia.)\n",
            "2.  **China**\n",
            "3.  **India**\n",
            "4.  **Kazakhstan**\n",
            "5.  **Saudi Arabia**\n",
            "6.  **Indonesia**\n",
            "7.  **Iran**\n",
            "8.  **Mongolia**\n",
            "9.  **Pakistan**\n",
            "10. **Turkey** (similar to Russia, Turkey is transcontinental, with land in both Europe and Asia)\n"
          ]
        },
        {
          "output_type": "execute_result",
          "data": {
            "text/plain": [
              "(None,)"
            ]
          },
          "metadata": {},
          "execution_count": 52
        }
      ]
    },
    {
      "cell_type": "code",
      "source": [
        "prompt2=\"can you tell me a capital of india?\""
      ],
      "metadata": {
        "id": "Ti4kV60o2lxX"
      },
      "execution_count": null,
      "outputs": []
    },
    {
      "cell_type": "code",
      "source": [
        "response = client.models.generate_content(\n",
        "    model = 'gemini-2.0-flash',\n",
        "    contents = prompt2,\n",
        ")\n",
        "print(response.text.strip())"
      ],
      "metadata": {
        "colab": {
          "base_uri": "https://localhost:8080/"
        },
        "id": "V42v2BJ_8I4Q",
        "outputId": "dcb45744-e6f4-4e5e-be32-d5db1b59c1fd"
      },
      "execution_count": null,
      "outputs": [
        {
          "output_type": "stream",
          "name": "stdout",
          "text": [
            "The capital of India is **New Delhi**.\n"
          ]
        }
      ]
    },
    {
      "cell_type": "markdown",
      "source": [
        "### Prompt Templates"
      ],
      "metadata": {
        "id": "w-qIMG7-99bW"
      }
    },
    {
      "cell_type": "code",
      "source": [
        "prompt_template_name=PromptTemplate(\n",
        "    input_variables=[\"country\"],\n",
        "    template=\"can you tell me the capital of {country}?\"\n",
        ")"
      ],
      "metadata": {
        "id": "tDlRFkxl-ffp"
      },
      "execution_count": null,
      "outputs": []
    },
    {
      "cell_type": "code",
      "source": [
        "propmt1=prompt_template_name.format(country=\"india\")"
      ],
      "metadata": {
        "id": "3j2-jkuj-m4h"
      },
      "execution_count": null,
      "outputs": []
    },
    {
      "cell_type": "code",
      "source": [],
      "metadata": {
        "id": "D1_CpMC5-RjX"
      },
      "execution_count": null,
      "outputs": []
    },
    {
      "cell_type": "markdown",
      "source": [
        "### Summarize large documents using langchain"
      ],
      "metadata": {
        "id": "uHCFBREG8n3B"
      }
    },
    {
      "cell_type": "code",
      "source": [
        "from langchain_google_genai import ChatGoogleGenerativeAI\n",
        "llm = ChatGoogleGenerativeAI(model=\"gemini-2.0-flash\")"
      ],
      "metadata": {
        "id": "JkhiSV05-DG0"
      },
      "execution_count": null,
      "outputs": []
    },
    {
      "cell_type": "code",
      "source": [
        "client = genai.Client(api_key= mygeminikey)"
      ],
      "metadata": {
        "id": "iGBuqgw49Gq3"
      },
      "execution_count": null,
      "outputs": []
    },
    {
      "cell_type": "code",
      "source": [],
      "metadata": {
        "id": "tQj9CT8L9aSP"
      },
      "execution_count": null,
      "outputs": []
    }
  ]
}