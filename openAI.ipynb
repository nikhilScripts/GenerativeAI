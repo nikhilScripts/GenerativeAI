{
  "nbformat": 4,
  "nbformat_minor": 0,
  "metadata": {
    "colab": {
      "provenance": [],
      "authorship_tag": "ABX9TyMj04VpVaTIYXFePx4R45CI",
      "include_colab_link": true
    },
    "kernelspec": {
      "name": "python3",
      "display_name": "Python 3"
    },
    "language_info": {
      "name": "python"
    }
  },
  "cells": [
    {
      "cell_type": "markdown",
      "metadata": {
        "id": "view-in-github",
        "colab_type": "text"
      },
      "source": [
        "<a href=\"https://colab.research.google.com/github/nikhilScripts/OpenAi/blob/main/openAI.ipynb\" target=\"_parent\"><img src=\"https://colab.research.google.com/assets/colab-badge.svg\" alt=\"Open In Colab\"/></a>"
      ]
    },
    {
      "cell_type": "markdown",
      "source": [
        "## Open ai\n"
      ],
      "metadata": {
        "id": "ayZCmFI5QPdT"
      }
    },
    {
      "cell_type": "code",
      "execution_count": null,
      "metadata": {
        "id": "rjQV2GrK59HY",
        "colab": {
          "base_uri": "https://localhost:8080/"
        },
        "outputId": "40752bba-75f4-46c3-b01f-ab700060082b"
      },
      "outputs": [
        {
          "output_type": "stream",
          "name": "stdout",
          "text": [
            "Requirement already satisfied: openai in /usr/local/lib/python3.11/dist-packages (1.61.1)\n",
            "Requirement already satisfied: anyio<5,>=3.5.0 in /usr/local/lib/python3.11/dist-packages (from openai) (3.7.1)\n",
            "Requirement already satisfied: distro<2,>=1.7.0 in /usr/local/lib/python3.11/dist-packages (from openai) (1.9.0)\n",
            "Requirement already satisfied: httpx<1,>=0.23.0 in /usr/local/lib/python3.11/dist-packages (from openai) (0.28.1)\n",
            "Requirement already satisfied: jiter<1,>=0.4.0 in /usr/local/lib/python3.11/dist-packages (from openai) (0.8.2)\n",
            "Requirement already satisfied: pydantic<3,>=1.9.0 in /usr/local/lib/python3.11/dist-packages (from openai) (2.10.6)\n",
            "Requirement already satisfied: sniffio in /usr/local/lib/python3.11/dist-packages (from openai) (1.3.1)\n",
            "Requirement already satisfied: tqdm>4 in /usr/local/lib/python3.11/dist-packages (from openai) (4.67.1)\n",
            "Requirement already satisfied: typing-extensions<5,>=4.11 in /usr/local/lib/python3.11/dist-packages (from openai) (4.12.2)\n",
            "Requirement already satisfied: idna>=2.8 in /usr/local/lib/python3.11/dist-packages (from anyio<5,>=3.5.0->openai) (3.10)\n",
            "Requirement already satisfied: certifi in /usr/local/lib/python3.11/dist-packages (from httpx<1,>=0.23.0->openai) (2025.1.31)\n",
            "Requirement already satisfied: httpcore==1.* in /usr/local/lib/python3.11/dist-packages (from httpx<1,>=0.23.0->openai) (1.0.7)\n",
            "Requirement already satisfied: h11<0.15,>=0.13 in /usr/local/lib/python3.11/dist-packages (from httpcore==1.*->httpx<1,>=0.23.0->openai) (0.14.0)\n",
            "Requirement already satisfied: annotated-types>=0.6.0 in /usr/local/lib/python3.11/dist-packages (from pydantic<3,>=1.9.0->openai) (0.7.0)\n",
            "Requirement already satisfied: pydantic-core==2.27.2 in /usr/local/lib/python3.11/dist-packages (from pydantic<3,>=1.9.0->openai) (2.27.2)\n"
          ]
        }
      ],
      "source": [
        "pip install openai"
      ]
    },
    {
      "cell_type": "code",
      "source": [
        "import openai"
      ],
      "metadata": {
        "id": "hpWjp0MGlNCV"
      },
      "execution_count": null,
      "outputs": []
    },
    {
      "cell_type": "code",
      "source": [
        "mykey = \"\""
      ],
      "metadata": {
        "id": "IwmBER9MjrjB"
      },
      "execution_count": null,
      "outputs": []
    },
    {
      "source": [
        "\n",
        "openai.api_key = mykey\n",
        "allmodels = openai.models.list()"
      ],
      "cell_type": "code",
      "metadata": {
        "id": "jbTnBZ_Ek0EH"
      },
      "execution_count": null,
      "outputs": []
    },
    {
      "cell_type": "code",
      "source": [
        "import pandas as pd\n",
        "pd.DataFrame(allmodels)"
      ],
      "metadata": {
        "colab": {
          "base_uri": "https://localhost:8080/",
          "height": 1000
        },
        "id": "NczLCMoMl2-N",
        "outputId": "9f571339-bc99-4527-9fe6-c6e18f28c2ad"
      },
      "execution_count": null,
      "outputs": [
        {
          "output_type": "execute_result",
          "data": {
            "text/plain": [
              "                                             0                      1  \\\n",
              "0   (id, gpt-4o-mini-audio-preview-2024-12-17)  (created, 1734115920)   \n",
              "1                               (id, dall-e-3)  (created, 1698785189)   \n",
              "2                               (id, dall-e-2)  (created, 1698798177)   \n",
              "3        (id, gpt-4o-audio-preview-2024-10-01)  (created, 1727389042)   \n",
              "4                   (id, gpt-4o-audio-preview)  (created, 1727460443)   \n",
              "5                     (id, o1-mini-2024-09-12)  (created, 1725648979)   \n",
              "6                  (id, o1-preview-2024-09-12)  (created, 1725648865)   \n",
              "7                                (id, o1-mini)  (created, 1725649008)   \n",
              "8                             (id, o1-preview)  (created, 1725648897)   \n",
              "9                              (id, whisper-1)  (created, 1677532384)   \n",
              "10             (id, gpt-4o-mini-audio-preview)  (created, 1734387424)   \n",
              "11                           (id, babbage-002)  (created, 1692634615)   \n",
              "12                         (id, tts-1-hd-1106)  (created, 1699053533)   \n",
              "13                     (id, gpt-4o-2024-11-20)  (created, 1739331543)   \n",
              "14                              (id, tts-1-hd)  (created, 1699046015)   \n",
              "15                (id, text-embedding-3-large)  (created, 1705953180)   \n",
              "16                (id, gpt-4o-mini-2024-07-18)  (created, 1721172717)   \n",
              "17                           (id, gpt-4o-mini)  (created, 1721172741)   \n",
              "18                                 (id, tts-1)  (created, 1681940951)   \n",
              "19                            (id, tts-1-1106)  (created, 1699053241)   \n",
              "20                           (id, davinci-002)  (created, 1692634301)   \n",
              "21                    (id, gpt-3.5-turbo-1106)  (created, 1698959748)   \n",
              "22            (id, omni-moderation-2024-09-26)  (created, 1732734466)   \n",
              "23                (id, gpt-3.5-turbo-instruct)  (created, 1692901427)   \n",
              "24                                (id, gpt-4o)  (created, 1715367049)   \n",
              "25                     (id, gpt-4o-2024-08-06)  (created, 1722814719)   \n",
              "26           (id, gpt-3.5-turbo-instruct-0914)  (created, 1694122472)   \n",
              "27                    (id, gpt-3.5-turbo-0125)  (created, 1706048358)   \n",
              "28                         (id, gpt-3.5-turbo)  (created, 1677610602)   \n",
              "29                     (id, gpt-3.5-turbo-16k)  (created, 1683758102)   \n",
              "30                (id, text-embedding-3-small)  (created, 1705948997)   \n",
              "31                (id, text-embedding-ada-002)  (created, 1671217299)   \n",
              "32                (id, omni-moderation-latest)  (created, 1731689265)   \n",
              "33                     (id, gpt-4o-2024-05-13)  (created, 1715368132)   \n",
              "\n",
              "                  2                            3  \n",
              "0   (object, model)           (owned_by, system)  \n",
              "1   (object, model)           (owned_by, system)  \n",
              "2   (object, model)           (owned_by, system)  \n",
              "3   (object, model)           (owned_by, system)  \n",
              "4   (object, model)           (owned_by, system)  \n",
              "5   (object, model)           (owned_by, system)  \n",
              "6   (object, model)           (owned_by, system)  \n",
              "7   (object, model)           (owned_by, system)  \n",
              "8   (object, model)           (owned_by, system)  \n",
              "9   (object, model)  (owned_by, openai-internal)  \n",
              "10  (object, model)           (owned_by, system)  \n",
              "11  (object, model)           (owned_by, system)  \n",
              "12  (object, model)           (owned_by, system)  \n",
              "13  (object, model)           (owned_by, system)  \n",
              "14  (object, model)           (owned_by, system)  \n",
              "15  (object, model)           (owned_by, system)  \n",
              "16  (object, model)           (owned_by, system)  \n",
              "17  (object, model)           (owned_by, system)  \n",
              "18  (object, model)  (owned_by, openai-internal)  \n",
              "19  (object, model)           (owned_by, system)  \n",
              "20  (object, model)           (owned_by, system)  \n",
              "21  (object, model)           (owned_by, system)  \n",
              "22  (object, model)           (owned_by, system)  \n",
              "23  (object, model)           (owned_by, system)  \n",
              "24  (object, model)           (owned_by, system)  \n",
              "25  (object, model)           (owned_by, system)  \n",
              "26  (object, model)           (owned_by, system)  \n",
              "27  (object, model)           (owned_by, system)  \n",
              "28  (object, model)           (owned_by, openai)  \n",
              "29  (object, model)  (owned_by, openai-internal)  \n",
              "30  (object, model)           (owned_by, system)  \n",
              "31  (object, model)  (owned_by, openai-internal)  \n",
              "32  (object, model)           (owned_by, system)  \n",
              "33  (object, model)           (owned_by, system)  "
            ],
            "text/html": [
              "\n",
              "  <div id=\"df-9ea88273-13c6-4e0e-916d-664c8d6e1592\" class=\"colab-df-container\">\n",
              "    <div>\n",
              "<style scoped>\n",
              "    .dataframe tbody tr th:only-of-type {\n",
              "        vertical-align: middle;\n",
              "    }\n",
              "\n",
              "    .dataframe tbody tr th {\n",
              "        vertical-align: top;\n",
              "    }\n",
              "\n",
              "    .dataframe thead th {\n",
              "        text-align: right;\n",
              "    }\n",
              "</style>\n",
              "<table border=\"1\" class=\"dataframe\">\n",
              "  <thead>\n",
              "    <tr style=\"text-align: right;\">\n",
              "      <th></th>\n",
              "      <th>0</th>\n",
              "      <th>1</th>\n",
              "      <th>2</th>\n",
              "      <th>3</th>\n",
              "    </tr>\n",
              "  </thead>\n",
              "  <tbody>\n",
              "    <tr>\n",
              "      <th>0</th>\n",
              "      <td>(id, gpt-4o-mini-audio-preview-2024-12-17)</td>\n",
              "      <td>(created, 1734115920)</td>\n",
              "      <td>(object, model)</td>\n",
              "      <td>(owned_by, system)</td>\n",
              "    </tr>\n",
              "    <tr>\n",
              "      <th>1</th>\n",
              "      <td>(id, dall-e-3)</td>\n",
              "      <td>(created, 1698785189)</td>\n",
              "      <td>(object, model)</td>\n",
              "      <td>(owned_by, system)</td>\n",
              "    </tr>\n",
              "    <tr>\n",
              "      <th>2</th>\n",
              "      <td>(id, dall-e-2)</td>\n",
              "      <td>(created, 1698798177)</td>\n",
              "      <td>(object, model)</td>\n",
              "      <td>(owned_by, system)</td>\n",
              "    </tr>\n",
              "    <tr>\n",
              "      <th>3</th>\n",
              "      <td>(id, gpt-4o-audio-preview-2024-10-01)</td>\n",
              "      <td>(created, 1727389042)</td>\n",
              "      <td>(object, model)</td>\n",
              "      <td>(owned_by, system)</td>\n",
              "    </tr>\n",
              "    <tr>\n",
              "      <th>4</th>\n",
              "      <td>(id, gpt-4o-audio-preview)</td>\n",
              "      <td>(created, 1727460443)</td>\n",
              "      <td>(object, model)</td>\n",
              "      <td>(owned_by, system)</td>\n",
              "    </tr>\n",
              "    <tr>\n",
              "      <th>5</th>\n",
              "      <td>(id, o1-mini-2024-09-12)</td>\n",
              "      <td>(created, 1725648979)</td>\n",
              "      <td>(object, model)</td>\n",
              "      <td>(owned_by, system)</td>\n",
              "    </tr>\n",
              "    <tr>\n",
              "      <th>6</th>\n",
              "      <td>(id, o1-preview-2024-09-12)</td>\n",
              "      <td>(created, 1725648865)</td>\n",
              "      <td>(object, model)</td>\n",
              "      <td>(owned_by, system)</td>\n",
              "    </tr>\n",
              "    <tr>\n",
              "      <th>7</th>\n",
              "      <td>(id, o1-mini)</td>\n",
              "      <td>(created, 1725649008)</td>\n",
              "      <td>(object, model)</td>\n",
              "      <td>(owned_by, system)</td>\n",
              "    </tr>\n",
              "    <tr>\n",
              "      <th>8</th>\n",
              "      <td>(id, o1-preview)</td>\n",
              "      <td>(created, 1725648897)</td>\n",
              "      <td>(object, model)</td>\n",
              "      <td>(owned_by, system)</td>\n",
              "    </tr>\n",
              "    <tr>\n",
              "      <th>9</th>\n",
              "      <td>(id, whisper-1)</td>\n",
              "      <td>(created, 1677532384)</td>\n",
              "      <td>(object, model)</td>\n",
              "      <td>(owned_by, openai-internal)</td>\n",
              "    </tr>\n",
              "    <tr>\n",
              "      <th>10</th>\n",
              "      <td>(id, gpt-4o-mini-audio-preview)</td>\n",
              "      <td>(created, 1734387424)</td>\n",
              "      <td>(object, model)</td>\n",
              "      <td>(owned_by, system)</td>\n",
              "    </tr>\n",
              "    <tr>\n",
              "      <th>11</th>\n",
              "      <td>(id, babbage-002)</td>\n",
              "      <td>(created, 1692634615)</td>\n",
              "      <td>(object, model)</td>\n",
              "      <td>(owned_by, system)</td>\n",
              "    </tr>\n",
              "    <tr>\n",
              "      <th>12</th>\n",
              "      <td>(id, tts-1-hd-1106)</td>\n",
              "      <td>(created, 1699053533)</td>\n",
              "      <td>(object, model)</td>\n",
              "      <td>(owned_by, system)</td>\n",
              "    </tr>\n",
              "    <tr>\n",
              "      <th>13</th>\n",
              "      <td>(id, gpt-4o-2024-11-20)</td>\n",
              "      <td>(created, 1739331543)</td>\n",
              "      <td>(object, model)</td>\n",
              "      <td>(owned_by, system)</td>\n",
              "    </tr>\n",
              "    <tr>\n",
              "      <th>14</th>\n",
              "      <td>(id, tts-1-hd)</td>\n",
              "      <td>(created, 1699046015)</td>\n",
              "      <td>(object, model)</td>\n",
              "      <td>(owned_by, system)</td>\n",
              "    </tr>\n",
              "    <tr>\n",
              "      <th>15</th>\n",
              "      <td>(id, text-embedding-3-large)</td>\n",
              "      <td>(created, 1705953180)</td>\n",
              "      <td>(object, model)</td>\n",
              "      <td>(owned_by, system)</td>\n",
              "    </tr>\n",
              "    <tr>\n",
              "      <th>16</th>\n",
              "      <td>(id, gpt-4o-mini-2024-07-18)</td>\n",
              "      <td>(created, 1721172717)</td>\n",
              "      <td>(object, model)</td>\n",
              "      <td>(owned_by, system)</td>\n",
              "    </tr>\n",
              "    <tr>\n",
              "      <th>17</th>\n",
              "      <td>(id, gpt-4o-mini)</td>\n",
              "      <td>(created, 1721172741)</td>\n",
              "      <td>(object, model)</td>\n",
              "      <td>(owned_by, system)</td>\n",
              "    </tr>\n",
              "    <tr>\n",
              "      <th>18</th>\n",
              "      <td>(id, tts-1)</td>\n",
              "      <td>(created, 1681940951)</td>\n",
              "      <td>(object, model)</td>\n",
              "      <td>(owned_by, openai-internal)</td>\n",
              "    </tr>\n",
              "    <tr>\n",
              "      <th>19</th>\n",
              "      <td>(id, tts-1-1106)</td>\n",
              "      <td>(created, 1699053241)</td>\n",
              "      <td>(object, model)</td>\n",
              "      <td>(owned_by, system)</td>\n",
              "    </tr>\n",
              "    <tr>\n",
              "      <th>20</th>\n",
              "      <td>(id, davinci-002)</td>\n",
              "      <td>(created, 1692634301)</td>\n",
              "      <td>(object, model)</td>\n",
              "      <td>(owned_by, system)</td>\n",
              "    </tr>\n",
              "    <tr>\n",
              "      <th>21</th>\n",
              "      <td>(id, gpt-3.5-turbo-1106)</td>\n",
              "      <td>(created, 1698959748)</td>\n",
              "      <td>(object, model)</td>\n",
              "      <td>(owned_by, system)</td>\n",
              "    </tr>\n",
              "    <tr>\n",
              "      <th>22</th>\n",
              "      <td>(id, omni-moderation-2024-09-26)</td>\n",
              "      <td>(created, 1732734466)</td>\n",
              "      <td>(object, model)</td>\n",
              "      <td>(owned_by, system)</td>\n",
              "    </tr>\n",
              "    <tr>\n",
              "      <th>23</th>\n",
              "      <td>(id, gpt-3.5-turbo-instruct)</td>\n",
              "      <td>(created, 1692901427)</td>\n",
              "      <td>(object, model)</td>\n",
              "      <td>(owned_by, system)</td>\n",
              "    </tr>\n",
              "    <tr>\n",
              "      <th>24</th>\n",
              "      <td>(id, gpt-4o)</td>\n",
              "      <td>(created, 1715367049)</td>\n",
              "      <td>(object, model)</td>\n",
              "      <td>(owned_by, system)</td>\n",
              "    </tr>\n",
              "    <tr>\n",
              "      <th>25</th>\n",
              "      <td>(id, gpt-4o-2024-08-06)</td>\n",
              "      <td>(created, 1722814719)</td>\n",
              "      <td>(object, model)</td>\n",
              "      <td>(owned_by, system)</td>\n",
              "    </tr>\n",
              "    <tr>\n",
              "      <th>26</th>\n",
              "      <td>(id, gpt-3.5-turbo-instruct-0914)</td>\n",
              "      <td>(created, 1694122472)</td>\n",
              "      <td>(object, model)</td>\n",
              "      <td>(owned_by, system)</td>\n",
              "    </tr>\n",
              "    <tr>\n",
              "      <th>27</th>\n",
              "      <td>(id, gpt-3.5-turbo-0125)</td>\n",
              "      <td>(created, 1706048358)</td>\n",
              "      <td>(object, model)</td>\n",
              "      <td>(owned_by, system)</td>\n",
              "    </tr>\n",
              "    <tr>\n",
              "      <th>28</th>\n",
              "      <td>(id, gpt-3.5-turbo)</td>\n",
              "      <td>(created, 1677610602)</td>\n",
              "      <td>(object, model)</td>\n",
              "      <td>(owned_by, openai)</td>\n",
              "    </tr>\n",
              "    <tr>\n",
              "      <th>29</th>\n",
              "      <td>(id, gpt-3.5-turbo-16k)</td>\n",
              "      <td>(created, 1683758102)</td>\n",
              "      <td>(object, model)</td>\n",
              "      <td>(owned_by, openai-internal)</td>\n",
              "    </tr>\n",
              "    <tr>\n",
              "      <th>30</th>\n",
              "      <td>(id, text-embedding-3-small)</td>\n",
              "      <td>(created, 1705948997)</td>\n",
              "      <td>(object, model)</td>\n",
              "      <td>(owned_by, system)</td>\n",
              "    </tr>\n",
              "    <tr>\n",
              "      <th>31</th>\n",
              "      <td>(id, text-embedding-ada-002)</td>\n",
              "      <td>(created, 1671217299)</td>\n",
              "      <td>(object, model)</td>\n",
              "      <td>(owned_by, openai-internal)</td>\n",
              "    </tr>\n",
              "    <tr>\n",
              "      <th>32</th>\n",
              "      <td>(id, omni-moderation-latest)</td>\n",
              "      <td>(created, 1731689265)</td>\n",
              "      <td>(object, model)</td>\n",
              "      <td>(owned_by, system)</td>\n",
              "    </tr>\n",
              "    <tr>\n",
              "      <th>33</th>\n",
              "      <td>(id, gpt-4o-2024-05-13)</td>\n",
              "      <td>(created, 1715368132)</td>\n",
              "      <td>(object, model)</td>\n",
              "      <td>(owned_by, system)</td>\n",
              "    </tr>\n",
              "  </tbody>\n",
              "</table>\n",
              "</div>\n",
              "    <div class=\"colab-df-buttons\">\n",
              "\n",
              "  <div class=\"colab-df-container\">\n",
              "    <button class=\"colab-df-convert\" onclick=\"convertToInteractive('df-9ea88273-13c6-4e0e-916d-664c8d6e1592')\"\n",
              "            title=\"Convert this dataframe to an interactive table.\"\n",
              "            style=\"display:none;\">\n",
              "\n",
              "  <svg xmlns=\"http://www.w3.org/2000/svg\" height=\"24px\" viewBox=\"0 -960 960 960\">\n",
              "    <path d=\"M120-120v-720h720v720H120Zm60-500h600v-160H180v160Zm220 220h160v-160H400v160Zm0 220h160v-160H400v160ZM180-400h160v-160H180v160Zm440 0h160v-160H620v160ZM180-180h160v-160H180v160Zm440 0h160v-160H620v160Z\"/>\n",
              "  </svg>\n",
              "    </button>\n",
              "\n",
              "  <style>\n",
              "    .colab-df-container {\n",
              "      display:flex;\n",
              "      gap: 12px;\n",
              "    }\n",
              "\n",
              "    .colab-df-convert {\n",
              "      background-color: #E8F0FE;\n",
              "      border: none;\n",
              "      border-radius: 50%;\n",
              "      cursor: pointer;\n",
              "      display: none;\n",
              "      fill: #1967D2;\n",
              "      height: 32px;\n",
              "      padding: 0 0 0 0;\n",
              "      width: 32px;\n",
              "    }\n",
              "\n",
              "    .colab-df-convert:hover {\n",
              "      background-color: #E2EBFA;\n",
              "      box-shadow: 0px 1px 2px rgba(60, 64, 67, 0.3), 0px 1px 3px 1px rgba(60, 64, 67, 0.15);\n",
              "      fill: #174EA6;\n",
              "    }\n",
              "\n",
              "    .colab-df-buttons div {\n",
              "      margin-bottom: 4px;\n",
              "    }\n",
              "\n",
              "    [theme=dark] .colab-df-convert {\n",
              "      background-color: #3B4455;\n",
              "      fill: #D2E3FC;\n",
              "    }\n",
              "\n",
              "    [theme=dark] .colab-df-convert:hover {\n",
              "      background-color: #434B5C;\n",
              "      box-shadow: 0px 1px 3px 1px rgba(0, 0, 0, 0.15);\n",
              "      filter: drop-shadow(0px 1px 2px rgba(0, 0, 0, 0.3));\n",
              "      fill: #FFFFFF;\n",
              "    }\n",
              "  </style>\n",
              "\n",
              "    <script>\n",
              "      const buttonEl =\n",
              "        document.querySelector('#df-9ea88273-13c6-4e0e-916d-664c8d6e1592 button.colab-df-convert');\n",
              "      buttonEl.style.display =\n",
              "        google.colab.kernel.accessAllowed ? 'block' : 'none';\n",
              "\n",
              "      async function convertToInteractive(key) {\n",
              "        const element = document.querySelector('#df-9ea88273-13c6-4e0e-916d-664c8d6e1592');\n",
              "        const dataTable =\n",
              "          await google.colab.kernel.invokeFunction('convertToInteractive',\n",
              "                                                    [key], {});\n",
              "        if (!dataTable) return;\n",
              "\n",
              "        const docLinkHtml = 'Like what you see? Visit the ' +\n",
              "          '<a target=\"_blank\" href=https://colab.research.google.com/notebooks/data_table.ipynb>data table notebook</a>'\n",
              "          + ' to learn more about interactive tables.';\n",
              "        element.innerHTML = '';\n",
              "        dataTable['output_type'] = 'display_data';\n",
              "        await google.colab.output.renderOutput(dataTable, element);\n",
              "        const docLink = document.createElement('div');\n",
              "        docLink.innerHTML = docLinkHtml;\n",
              "        element.appendChild(docLink);\n",
              "      }\n",
              "    </script>\n",
              "  </div>\n",
              "\n",
              "\n",
              "<div id=\"df-4f605177-def0-4e9f-be45-cfc7854e5045\">\n",
              "  <button class=\"colab-df-quickchart\" onclick=\"quickchart('df-4f605177-def0-4e9f-be45-cfc7854e5045')\"\n",
              "            title=\"Suggest charts\"\n",
              "            style=\"display:none;\">\n",
              "\n",
              "<svg xmlns=\"http://www.w3.org/2000/svg\" height=\"24px\"viewBox=\"0 0 24 24\"\n",
              "     width=\"24px\">\n",
              "    <g>\n",
              "        <path d=\"M19 3H5c-1.1 0-2 .9-2 2v14c0 1.1.9 2 2 2h14c1.1 0 2-.9 2-2V5c0-1.1-.9-2-2-2zM9 17H7v-7h2v7zm4 0h-2V7h2v10zm4 0h-2v-4h2v4z\"/>\n",
              "    </g>\n",
              "</svg>\n",
              "  </button>\n",
              "\n",
              "<style>\n",
              "  .colab-df-quickchart {\n",
              "      --bg-color: #E8F0FE;\n",
              "      --fill-color: #1967D2;\n",
              "      --hover-bg-color: #E2EBFA;\n",
              "      --hover-fill-color: #174EA6;\n",
              "      --disabled-fill-color: #AAA;\n",
              "      --disabled-bg-color: #DDD;\n",
              "  }\n",
              "\n",
              "  [theme=dark] .colab-df-quickchart {\n",
              "      --bg-color: #3B4455;\n",
              "      --fill-color: #D2E3FC;\n",
              "      --hover-bg-color: #434B5C;\n",
              "      --hover-fill-color: #FFFFFF;\n",
              "      --disabled-bg-color: #3B4455;\n",
              "      --disabled-fill-color: #666;\n",
              "  }\n",
              "\n",
              "  .colab-df-quickchart {\n",
              "    background-color: var(--bg-color);\n",
              "    border: none;\n",
              "    border-radius: 50%;\n",
              "    cursor: pointer;\n",
              "    display: none;\n",
              "    fill: var(--fill-color);\n",
              "    height: 32px;\n",
              "    padding: 0;\n",
              "    width: 32px;\n",
              "  }\n",
              "\n",
              "  .colab-df-quickchart:hover {\n",
              "    background-color: var(--hover-bg-color);\n",
              "    box-shadow: 0 1px 2px rgba(60, 64, 67, 0.3), 0 1px 3px 1px rgba(60, 64, 67, 0.15);\n",
              "    fill: var(--button-hover-fill-color);\n",
              "  }\n",
              "\n",
              "  .colab-df-quickchart-complete:disabled,\n",
              "  .colab-df-quickchart-complete:disabled:hover {\n",
              "    background-color: var(--disabled-bg-color);\n",
              "    fill: var(--disabled-fill-color);\n",
              "    box-shadow: none;\n",
              "  }\n",
              "\n",
              "  .colab-df-spinner {\n",
              "    border: 2px solid var(--fill-color);\n",
              "    border-color: transparent;\n",
              "    border-bottom-color: var(--fill-color);\n",
              "    animation:\n",
              "      spin 1s steps(1) infinite;\n",
              "  }\n",
              "\n",
              "  @keyframes spin {\n",
              "    0% {\n",
              "      border-color: transparent;\n",
              "      border-bottom-color: var(--fill-color);\n",
              "      border-left-color: var(--fill-color);\n",
              "    }\n",
              "    20% {\n",
              "      border-color: transparent;\n",
              "      border-left-color: var(--fill-color);\n",
              "      border-top-color: var(--fill-color);\n",
              "    }\n",
              "    30% {\n",
              "      border-color: transparent;\n",
              "      border-left-color: var(--fill-color);\n",
              "      border-top-color: var(--fill-color);\n",
              "      border-right-color: var(--fill-color);\n",
              "    }\n",
              "    40% {\n",
              "      border-color: transparent;\n",
              "      border-right-color: var(--fill-color);\n",
              "      border-top-color: var(--fill-color);\n",
              "    }\n",
              "    60% {\n",
              "      border-color: transparent;\n",
              "      border-right-color: var(--fill-color);\n",
              "    }\n",
              "    80% {\n",
              "      border-color: transparent;\n",
              "      border-right-color: var(--fill-color);\n",
              "      border-bottom-color: var(--fill-color);\n",
              "    }\n",
              "    90% {\n",
              "      border-color: transparent;\n",
              "      border-bottom-color: var(--fill-color);\n",
              "    }\n",
              "  }\n",
              "</style>\n",
              "\n",
              "  <script>\n",
              "    async function quickchart(key) {\n",
              "      const quickchartButtonEl =\n",
              "        document.querySelector('#' + key + ' button');\n",
              "      quickchartButtonEl.disabled = true;  // To prevent multiple clicks.\n",
              "      quickchartButtonEl.classList.add('colab-df-spinner');\n",
              "      try {\n",
              "        const charts = await google.colab.kernel.invokeFunction(\n",
              "            'suggestCharts', [key], {});\n",
              "      } catch (error) {\n",
              "        console.error('Error during call to suggestCharts:', error);\n",
              "      }\n",
              "      quickchartButtonEl.classList.remove('colab-df-spinner');\n",
              "      quickchartButtonEl.classList.add('colab-df-quickchart-complete');\n",
              "    }\n",
              "    (() => {\n",
              "      let quickchartButtonEl =\n",
              "        document.querySelector('#df-4f605177-def0-4e9f-be45-cfc7854e5045 button');\n",
              "      quickchartButtonEl.style.display =\n",
              "        google.colab.kernel.accessAllowed ? 'block' : 'none';\n",
              "    })();\n",
              "  </script>\n",
              "</div>\n",
              "\n",
              "    </div>\n",
              "  </div>\n"
            ],
            "application/vnd.google.colaboratory.intrinsic+json": {
              "type": "dataframe",
              "summary": "{\n  \"name\": \"pd\",\n  \"rows\": 34,\n  \"fields\": [\n    {\n      \"column\": 0,\n      \"properties\": {\n        \"dtype\": \"string\",\n        \"num_unique_values\": 34,\n        \"samples\": [\n          [\n            \"id\",\n            \"text-embedding-3-large\"\n          ],\n          [\n            \"id\",\n            \"tts-1-1106\"\n          ],\n          [\n            \"id\",\n            \"gpt-3.5-turbo-0125\"\n          ]\n        ],\n        \"semantic_type\": \"\",\n        \"description\": \"\"\n      }\n    },\n    {\n      \"column\": 1,\n      \"properties\": {\n        \"dtype\": \"string\",\n        \"num_unique_values\": 34,\n        \"samples\": [\n          [\n            \"created\",\n            1705953180\n          ],\n          [\n            \"created\",\n            1699053241\n          ],\n          [\n            \"created\",\n            1706048358\n          ]\n        ],\n        \"semantic_type\": \"\",\n        \"description\": \"\"\n      }\n    },\n    {\n      \"column\": 2,\n      \"properties\": {\n        \"dtype\": \"category\",\n        \"num_unique_values\": 1,\n        \"samples\": [\n          [\n            \"object\",\n            \"model\"\n          ]\n        ],\n        \"semantic_type\": \"\",\n        \"description\": \"\"\n      }\n    },\n    {\n      \"column\": 3,\n      \"properties\": {\n        \"dtype\": \"category\",\n        \"num_unique_values\": 3,\n        \"samples\": [\n          [\n            \"owned_by\",\n            \"system\"\n          ]\n        ],\n        \"semantic_type\": \"\",\n        \"description\": \"\"\n      }\n    }\n  ]\n}"
            }
          },
          "metadata": {},
          "execution_count": 5
        }
      ]
    },
    {
      "cell_type": "code",
      "source": [
        "from openai import OpenAI\n",
        "client = OpenAI(api_key = mykey)\n",
        "\n",
        "completion = client.chat.completions.create(\n",
        "    model=\"gpt-3.5-turbo\",\n",
        "    messages=[\n",
        "        {\"role\": \"system\", \"content\": \"You are a helpful assistant.\"},\n",
        "        {\n",
        "            \"role\": \"user\",\n",
        "            \"content\": \"Write a haiku about recursion in programming.\"\n",
        "        }\n",
        "    ]\n",
        ")\n",
        "\n",
        "print(completion.choices[0].message)"
      ],
      "metadata": {
        "colab": {
          "base_uri": "https://localhost:8080/",
          "height": 425
        },
        "id": "k_vq0CyqmTNv",
        "outputId": "5272c00b-ae0d-474b-cf7a-7b61482ed604"
      },
      "execution_count": null,
      "outputs": [
        {
          "output_type": "error",
          "ename": "RateLimitError",
          "evalue": "Error code: 429 - {'error': {'message': 'You exceeded your current quota, please check your plan and billing details. For more information on this error, read the docs: https://platform.openai.com/docs/guides/error-codes/api-errors.', 'type': 'insufficient_quota', 'param': None, 'code': 'insufficient_quota'}}",
          "traceback": [
            "\u001b[0;31m---------------------------------------------------------------------------\u001b[0m",
            "\u001b[0;31mRateLimitError\u001b[0m                            Traceback (most recent call last)",
            "\u001b[0;32m<ipython-input-6-ae294189ddd2>\u001b[0m in \u001b[0;36m<cell line: 0>\u001b[0;34m()\u001b[0m\n\u001b[1;32m      2\u001b[0m \u001b[0mclient\u001b[0m \u001b[0;34m=\u001b[0m \u001b[0mOpenAI\u001b[0m\u001b[0;34m(\u001b[0m\u001b[0mapi_key\u001b[0m \u001b[0;34m=\u001b[0m \u001b[0mmykey\u001b[0m\u001b[0;34m)\u001b[0m\u001b[0;34m\u001b[0m\u001b[0;34m\u001b[0m\u001b[0m\n\u001b[1;32m      3\u001b[0m \u001b[0;34m\u001b[0m\u001b[0m\n\u001b[0;32m----> 4\u001b[0;31m completion = client.chat.completions.create(\n\u001b[0m\u001b[1;32m      5\u001b[0m     \u001b[0mmodel\u001b[0m\u001b[0;34m=\u001b[0m\u001b[0;34m\"gpt-3.5-turbo\"\u001b[0m\u001b[0;34m,\u001b[0m\u001b[0;34m\u001b[0m\u001b[0;34m\u001b[0m\u001b[0m\n\u001b[1;32m      6\u001b[0m     messages=[\n",
            "\u001b[0;32m/usr/local/lib/python3.11/dist-packages/openai/_utils/_utils.py\u001b[0m in \u001b[0;36mwrapper\u001b[0;34m(*args, **kwargs)\u001b[0m\n\u001b[1;32m    277\u001b[0m                         \u001b[0mmsg\u001b[0m \u001b[0;34m=\u001b[0m \u001b[0;34mf\"Missing required argument: {quote(missing[0])}\"\u001b[0m\u001b[0;34m\u001b[0m\u001b[0;34m\u001b[0m\u001b[0m\n\u001b[1;32m    278\u001b[0m                 \u001b[0;32mraise\u001b[0m \u001b[0mTypeError\u001b[0m\u001b[0;34m(\u001b[0m\u001b[0mmsg\u001b[0m\u001b[0;34m)\u001b[0m\u001b[0;34m\u001b[0m\u001b[0;34m\u001b[0m\u001b[0m\n\u001b[0;32m--> 279\u001b[0;31m             \u001b[0;32mreturn\u001b[0m \u001b[0mfunc\u001b[0m\u001b[0;34m(\u001b[0m\u001b[0;34m*\u001b[0m\u001b[0margs\u001b[0m\u001b[0;34m,\u001b[0m \u001b[0;34m**\u001b[0m\u001b[0mkwargs\u001b[0m\u001b[0;34m)\u001b[0m\u001b[0;34m\u001b[0m\u001b[0;34m\u001b[0m\u001b[0m\n\u001b[0m\u001b[1;32m    280\u001b[0m \u001b[0;34m\u001b[0m\u001b[0m\n\u001b[1;32m    281\u001b[0m         \u001b[0;32mreturn\u001b[0m \u001b[0mwrapper\u001b[0m  \u001b[0;31m# type: ignore\u001b[0m\u001b[0;34m\u001b[0m\u001b[0;34m\u001b[0m\u001b[0m\n",
            "\u001b[0;32m/usr/local/lib/python3.11/dist-packages/openai/resources/chat/completions.py\u001b[0m in \u001b[0;36mcreate\u001b[0;34m(self, messages, model, audio, frequency_penalty, function_call, functions, logit_bias, logprobs, max_completion_tokens, max_tokens, metadata, modalities, n, parallel_tool_calls, prediction, presence_penalty, reasoning_effort, response_format, seed, service_tier, stop, store, stream, stream_options, temperature, tool_choice, tools, top_logprobs, top_p, user, extra_headers, extra_query, extra_body, timeout)\u001b[0m\n\u001b[1;32m    861\u001b[0m     ) -> ChatCompletion | Stream[ChatCompletionChunk]:\n\u001b[1;32m    862\u001b[0m         \u001b[0mvalidate_response_format\u001b[0m\u001b[0;34m(\u001b[0m\u001b[0mresponse_format\u001b[0m\u001b[0;34m)\u001b[0m\u001b[0;34m\u001b[0m\u001b[0;34m\u001b[0m\u001b[0m\n\u001b[0;32m--> 863\u001b[0;31m         return self._post(\n\u001b[0m\u001b[1;32m    864\u001b[0m             \u001b[0;34m\"/chat/completions\"\u001b[0m\u001b[0;34m,\u001b[0m\u001b[0;34m\u001b[0m\u001b[0;34m\u001b[0m\u001b[0m\n\u001b[1;32m    865\u001b[0m             body=maybe_transform(\n",
            "\u001b[0;32m/usr/local/lib/python3.11/dist-packages/openai/_base_client.py\u001b[0m in \u001b[0;36mpost\u001b[0;34m(self, path, cast_to, body, options, files, stream, stream_cls)\u001b[0m\n\u001b[1;32m   1281\u001b[0m             \u001b[0mmethod\u001b[0m\u001b[0;34m=\u001b[0m\u001b[0;34m\"post\"\u001b[0m\u001b[0;34m,\u001b[0m \u001b[0murl\u001b[0m\u001b[0;34m=\u001b[0m\u001b[0mpath\u001b[0m\u001b[0;34m,\u001b[0m \u001b[0mjson_data\u001b[0m\u001b[0;34m=\u001b[0m\u001b[0mbody\u001b[0m\u001b[0;34m,\u001b[0m \u001b[0mfiles\u001b[0m\u001b[0;34m=\u001b[0m\u001b[0mto_httpx_files\u001b[0m\u001b[0;34m(\u001b[0m\u001b[0mfiles\u001b[0m\u001b[0;34m)\u001b[0m\u001b[0;34m,\u001b[0m \u001b[0;34m**\u001b[0m\u001b[0moptions\u001b[0m\u001b[0;34m\u001b[0m\u001b[0;34m\u001b[0m\u001b[0m\n\u001b[1;32m   1282\u001b[0m         )\n\u001b[0;32m-> 1283\u001b[0;31m         \u001b[0;32mreturn\u001b[0m \u001b[0mcast\u001b[0m\u001b[0;34m(\u001b[0m\u001b[0mResponseT\u001b[0m\u001b[0;34m,\u001b[0m \u001b[0mself\u001b[0m\u001b[0;34m.\u001b[0m\u001b[0mrequest\u001b[0m\u001b[0;34m(\u001b[0m\u001b[0mcast_to\u001b[0m\u001b[0;34m,\u001b[0m \u001b[0mopts\u001b[0m\u001b[0;34m,\u001b[0m \u001b[0mstream\u001b[0m\u001b[0;34m=\u001b[0m\u001b[0mstream\u001b[0m\u001b[0;34m,\u001b[0m \u001b[0mstream_cls\u001b[0m\u001b[0;34m=\u001b[0m\u001b[0mstream_cls\u001b[0m\u001b[0;34m)\u001b[0m\u001b[0;34m)\u001b[0m\u001b[0;34m\u001b[0m\u001b[0;34m\u001b[0m\u001b[0m\n\u001b[0m\u001b[1;32m   1284\u001b[0m \u001b[0;34m\u001b[0m\u001b[0m\n\u001b[1;32m   1285\u001b[0m     def patch(\n",
            "\u001b[0;32m/usr/local/lib/python3.11/dist-packages/openai/_base_client.py\u001b[0m in \u001b[0;36mrequest\u001b[0;34m(self, cast_to, options, remaining_retries, stream, stream_cls)\u001b[0m\n\u001b[1;32m    958\u001b[0m             \u001b[0mretries_taken\u001b[0m \u001b[0;34m=\u001b[0m \u001b[0;36m0\u001b[0m\u001b[0;34m\u001b[0m\u001b[0;34m\u001b[0m\u001b[0m\n\u001b[1;32m    959\u001b[0m \u001b[0;34m\u001b[0m\u001b[0m\n\u001b[0;32m--> 960\u001b[0;31m         return self._request(\n\u001b[0m\u001b[1;32m    961\u001b[0m             \u001b[0mcast_to\u001b[0m\u001b[0;34m=\u001b[0m\u001b[0mcast_to\u001b[0m\u001b[0;34m,\u001b[0m\u001b[0;34m\u001b[0m\u001b[0;34m\u001b[0m\u001b[0m\n\u001b[1;32m    962\u001b[0m             \u001b[0moptions\u001b[0m\u001b[0;34m=\u001b[0m\u001b[0moptions\u001b[0m\u001b[0;34m,\u001b[0m\u001b[0;34m\u001b[0m\u001b[0;34m\u001b[0m\u001b[0m\n",
            "\u001b[0;32m/usr/local/lib/python3.11/dist-packages/openai/_base_client.py\u001b[0m in \u001b[0;36m_request\u001b[0;34m(self, cast_to, options, retries_taken, stream, stream_cls)\u001b[0m\n\u001b[1;32m   1047\u001b[0m             \u001b[0;32mif\u001b[0m \u001b[0mremaining_retries\u001b[0m \u001b[0;34m>\u001b[0m \u001b[0;36m0\u001b[0m \u001b[0;32mand\u001b[0m \u001b[0mself\u001b[0m\u001b[0;34m.\u001b[0m\u001b[0m_should_retry\u001b[0m\u001b[0;34m(\u001b[0m\u001b[0merr\u001b[0m\u001b[0;34m.\u001b[0m\u001b[0mresponse\u001b[0m\u001b[0;34m)\u001b[0m\u001b[0;34m:\u001b[0m\u001b[0;34m\u001b[0m\u001b[0;34m\u001b[0m\u001b[0m\n\u001b[1;32m   1048\u001b[0m                 \u001b[0merr\u001b[0m\u001b[0;34m.\u001b[0m\u001b[0mresponse\u001b[0m\u001b[0;34m.\u001b[0m\u001b[0mclose\u001b[0m\u001b[0;34m(\u001b[0m\u001b[0;34m)\u001b[0m\u001b[0;34m\u001b[0m\u001b[0;34m\u001b[0m\u001b[0m\n\u001b[0;32m-> 1049\u001b[0;31m                 return self._retry_request(\n\u001b[0m\u001b[1;32m   1050\u001b[0m                     \u001b[0minput_options\u001b[0m\u001b[0;34m,\u001b[0m\u001b[0;34m\u001b[0m\u001b[0;34m\u001b[0m\u001b[0m\n\u001b[1;32m   1051\u001b[0m                     \u001b[0mcast_to\u001b[0m\u001b[0;34m,\u001b[0m\u001b[0;34m\u001b[0m\u001b[0;34m\u001b[0m\u001b[0m\n",
            "\u001b[0;32m/usr/local/lib/python3.11/dist-packages/openai/_base_client.py\u001b[0m in \u001b[0;36m_retry_request\u001b[0;34m(self, options, cast_to, retries_taken, response_headers, stream, stream_cls)\u001b[0m\n\u001b[1;32m   1096\u001b[0m         \u001b[0mtime\u001b[0m\u001b[0;34m.\u001b[0m\u001b[0msleep\u001b[0m\u001b[0;34m(\u001b[0m\u001b[0mtimeout\u001b[0m\u001b[0;34m)\u001b[0m\u001b[0;34m\u001b[0m\u001b[0;34m\u001b[0m\u001b[0m\n\u001b[1;32m   1097\u001b[0m \u001b[0;34m\u001b[0m\u001b[0m\n\u001b[0;32m-> 1098\u001b[0;31m         return self._request(\n\u001b[0m\u001b[1;32m   1099\u001b[0m             \u001b[0moptions\u001b[0m\u001b[0;34m=\u001b[0m\u001b[0moptions\u001b[0m\u001b[0;34m,\u001b[0m\u001b[0;34m\u001b[0m\u001b[0;34m\u001b[0m\u001b[0m\n\u001b[1;32m   1100\u001b[0m             \u001b[0mcast_to\u001b[0m\u001b[0;34m=\u001b[0m\u001b[0mcast_to\u001b[0m\u001b[0;34m,\u001b[0m\u001b[0;34m\u001b[0m\u001b[0;34m\u001b[0m\u001b[0m\n",
            "\u001b[0;32m/usr/local/lib/python3.11/dist-packages/openai/_base_client.py\u001b[0m in \u001b[0;36m_request\u001b[0;34m(self, cast_to, options, retries_taken, stream, stream_cls)\u001b[0m\n\u001b[1;32m   1047\u001b[0m             \u001b[0;32mif\u001b[0m \u001b[0mremaining_retries\u001b[0m \u001b[0;34m>\u001b[0m \u001b[0;36m0\u001b[0m \u001b[0;32mand\u001b[0m \u001b[0mself\u001b[0m\u001b[0;34m.\u001b[0m\u001b[0m_should_retry\u001b[0m\u001b[0;34m(\u001b[0m\u001b[0merr\u001b[0m\u001b[0;34m.\u001b[0m\u001b[0mresponse\u001b[0m\u001b[0;34m)\u001b[0m\u001b[0;34m:\u001b[0m\u001b[0;34m\u001b[0m\u001b[0;34m\u001b[0m\u001b[0m\n\u001b[1;32m   1048\u001b[0m                 \u001b[0merr\u001b[0m\u001b[0;34m.\u001b[0m\u001b[0mresponse\u001b[0m\u001b[0;34m.\u001b[0m\u001b[0mclose\u001b[0m\u001b[0;34m(\u001b[0m\u001b[0;34m)\u001b[0m\u001b[0;34m\u001b[0m\u001b[0;34m\u001b[0m\u001b[0m\n\u001b[0;32m-> 1049\u001b[0;31m                 return self._retry_request(\n\u001b[0m\u001b[1;32m   1050\u001b[0m                     \u001b[0minput_options\u001b[0m\u001b[0;34m,\u001b[0m\u001b[0;34m\u001b[0m\u001b[0;34m\u001b[0m\u001b[0m\n\u001b[1;32m   1051\u001b[0m                     \u001b[0mcast_to\u001b[0m\u001b[0;34m,\u001b[0m\u001b[0;34m\u001b[0m\u001b[0;34m\u001b[0m\u001b[0m\n",
            "\u001b[0;32m/usr/local/lib/python3.11/dist-packages/openai/_base_client.py\u001b[0m in \u001b[0;36m_retry_request\u001b[0;34m(self, options, cast_to, retries_taken, response_headers, stream, stream_cls)\u001b[0m\n\u001b[1;32m   1096\u001b[0m         \u001b[0mtime\u001b[0m\u001b[0;34m.\u001b[0m\u001b[0msleep\u001b[0m\u001b[0;34m(\u001b[0m\u001b[0mtimeout\u001b[0m\u001b[0;34m)\u001b[0m\u001b[0;34m\u001b[0m\u001b[0;34m\u001b[0m\u001b[0m\n\u001b[1;32m   1097\u001b[0m \u001b[0;34m\u001b[0m\u001b[0m\n\u001b[0;32m-> 1098\u001b[0;31m         return self._request(\n\u001b[0m\u001b[1;32m   1099\u001b[0m             \u001b[0moptions\u001b[0m\u001b[0;34m=\u001b[0m\u001b[0moptions\u001b[0m\u001b[0;34m,\u001b[0m\u001b[0;34m\u001b[0m\u001b[0;34m\u001b[0m\u001b[0m\n\u001b[1;32m   1100\u001b[0m             \u001b[0mcast_to\u001b[0m\u001b[0;34m=\u001b[0m\u001b[0mcast_to\u001b[0m\u001b[0;34m,\u001b[0m\u001b[0;34m\u001b[0m\u001b[0;34m\u001b[0m\u001b[0m\n",
            "\u001b[0;32m/usr/local/lib/python3.11/dist-packages/openai/_base_client.py\u001b[0m in \u001b[0;36m_request\u001b[0;34m(self, cast_to, options, retries_taken, stream, stream_cls)\u001b[0m\n\u001b[1;32m   1062\u001b[0m \u001b[0;34m\u001b[0m\u001b[0m\n\u001b[1;32m   1063\u001b[0m             \u001b[0mlog\u001b[0m\u001b[0;34m.\u001b[0m\u001b[0mdebug\u001b[0m\u001b[0;34m(\u001b[0m\u001b[0;34m\"Re-raising status error\"\u001b[0m\u001b[0;34m)\u001b[0m\u001b[0;34m\u001b[0m\u001b[0;34m\u001b[0m\u001b[0m\n\u001b[0;32m-> 1064\u001b[0;31m             \u001b[0;32mraise\u001b[0m \u001b[0mself\u001b[0m\u001b[0;34m.\u001b[0m\u001b[0m_make_status_error_from_response\u001b[0m\u001b[0;34m(\u001b[0m\u001b[0merr\u001b[0m\u001b[0;34m.\u001b[0m\u001b[0mresponse\u001b[0m\u001b[0;34m)\u001b[0m \u001b[0;32mfrom\u001b[0m \u001b[0;32mNone\u001b[0m\u001b[0;34m\u001b[0m\u001b[0;34m\u001b[0m\u001b[0m\n\u001b[0m\u001b[1;32m   1065\u001b[0m \u001b[0;34m\u001b[0m\u001b[0m\n\u001b[1;32m   1066\u001b[0m         return self._process_response(\n",
            "\u001b[0;31mRateLimitError\u001b[0m: Error code: 429 - {'error': {'message': 'You exceeded your current quota, please check your plan and billing details. For more information on this error, read the docs: https://platform.openai.com/docs/guides/error-codes/api-errors.', 'type': 'insufficient_quota', 'param': None, 'code': 'insufficient_quota'}}"
          ]
        }
      ]
    },
    {
      "cell_type": "markdown",
      "source": [
        "## Gemini api"
      ],
      "metadata": {
        "id": "e7lqQzO-QYg-"
      }
    },
    {
      "cell_type": "code",
      "source": [
        "pip install -q -U google-genai"
      ],
      "metadata": {
        "id": "DGs3GrhpLcc6",
        "colab": {
          "base_uri": "https://localhost:8080/"
        },
        "outputId": "285be7f2-727d-402e-ab70-27b3b30a9d39"
      },
      "execution_count": 1,
      "outputs": [
        {
          "output_type": "stream",
          "name": "stdout",
          "text": [
            "\u001b[?25l   \u001b[90m━━━━━━━━━━━━━━━━━━━━━━━━━━━━━━━━━━━━━━━━\u001b[0m \u001b[32m0.0/137.7 kB\u001b[0m \u001b[31m?\u001b[0m eta \u001b[36m-:--:--\u001b[0m\r\u001b[2K   \u001b[91m━━━━━━━━━━━━━━━━━━━━━━━━━━━━━━━━━━━━━━\u001b[0m\u001b[91m╸\u001b[0m\u001b[90m━\u001b[0m \u001b[32m133.1/137.7 kB\u001b[0m \u001b[31m13.4 MB/s\u001b[0m eta \u001b[36m0:00:01\u001b[0m\r\u001b[2K   \u001b[90m━━━━━━━━━━━━━━━━━━━━━━━━━━━━━━━━━━━━━━━━\u001b[0m \u001b[32m137.7/137.7 kB\u001b[0m \u001b[31m3.4 MB/s\u001b[0m eta \u001b[36m0:00:00\u001b[0m\n",
            "\u001b[?25h"
          ]
        }
      ]
    },
    {
      "cell_type": "code",
      "source": [
        "from google import genai"
      ],
      "metadata": {
        "id": "XFRDtlE_N7A0"
      },
      "execution_count": 2,
      "outputs": []
    },
    {
      "cell_type": "code",
      "source": [
        "mygeminikey = 'Yourkey'"
      ],
      "metadata": {
        "id": "a44R_1AfN-7C"
      },
      "execution_count": 3,
      "outputs": []
    },
    {
      "cell_type": "markdown",
      "source": [
        "client = genai.Client(api_key= mygeminikey)\n",
        "response = client.models.generate_content(\n",
        "    model=\"gemini-2.0-flash\", contents=\"Explain how AI works\"\n",
        ")\n",
        "print(response.text)"
      ],
      "metadata": {
        "id": "pSk0F-_3LwdC"
      }
    },
    {
      "cell_type": "markdown",
      "source": [
        "genai chat response"
      ],
      "metadata": {
        "id": "PQp57oqoQIAB"
      }
    },
    {
      "cell_type": "code",
      "source": [
        "client = genai.Client(api_key= mygeminikey)\n",
        "\n",
        "response = client.models.generate_content(\n",
        "    model=\"gemini-2.0-flash\",\n",
        "    contents=[\"How does AI work?\"])\n",
        "print(response.text)"
      ],
      "metadata": {
        "colab": {
          "base_uri": "https://localhost:8080/"
        },
        "id": "4l12Irh2OfaC",
        "outputId": "c04eb77a-fdc9-4415-e7f4-ccf647cd7b67"
      },
      "execution_count": 4,
      "outputs": [
        {
          "output_type": "stream",
          "name": "stdout",
          "text": [
            "Okay, let's break down how AI works.  It's a broad field, so I'll give you a general overview and then dive a little deeper into the most common approach: Machine Learning.\n",
            "\n",
            "**What is AI?**\n",
            "\n",
            "At its core, Artificial Intelligence (AI) is about creating machines that can perform tasks that typically require human intelligence.  These tasks can include:\n",
            "\n",
            "*   **Learning:** Acquiring information and rules for using it.\n",
            "*   **Reasoning:**  Using logic and inference to draw conclusions.\n",
            "*   **Problem-solving:** Finding solutions to complex issues.\n",
            "*   **Perception:**  Understanding sensory input (like vision, sound, touch).\n",
            "*   **Language understanding:**  Processing and interpreting human language.\n",
            "*   **Decision-making:** Choosing the best course of action.\n",
            "\n",
            "**The Main Approaches to AI**\n",
            "\n",
            "There are several approaches to achieving AI, but the most prominent and successful one today is **Machine Learning (ML)**. Other, less common approaches include:\n",
            "\n",
            "*   **Rule-based systems (Expert Systems):** These systems rely on predefined rules created by human experts. They were popular in the past but are limited in their ability to handle complex or uncertain situations. They are still used in specific domains with well-defined rules (e.g., some medical diagnostic systems).\n",
            "*   **Symbolic AI:** This approach focuses on representing knowledge using symbols and logical rules.  It's good for reasoning with structured information but struggles with tasks involving perception or unstructured data.\n",
            "\n",
            "**Machine Learning (ML): The Dominant Paradigm**\n",
            "\n",
            "Machine learning is the art of enabling computers to learn from data *without being explicitly programmed*. Instead of writing specific instructions for every possible scenario, you feed the machine learning algorithm a large dataset, and it learns to identify patterns, make predictions, or make decisions based on that data.\n",
            "\n",
            "Here's a breakdown of how it works:\n",
            "\n",
            "1.  **Data Collection:**  The foundation of any machine learning system is data. The more relevant and high-quality data you have, the better the AI will perform.  This data can be:\n",
            "    *   **Labeled data:**  Data where the correct answer or category is already known (used for supervised learning).  For example, images of cats and dogs where each image is labeled as \"cat\" or \"dog.\"\n",
            "    *   **Unlabeled data:**  Data without any predefined categories or answers (used for unsupervised learning).  For example, customer purchase history without any pre-assigned segments.\n",
            "    *   **Reinforcement data:** Data that comes in the form of rewards and penalties based on actions taken (used for reinforcement learning). For example, actions and results in a game.\n",
            "\n",
            "2.  **Algorithm Selection:**  Different machine learning algorithms are suited for different types of tasks and data. Some common types include:\n",
            "\n",
            "    *   **Supervised Learning:**\n",
            "        *   **Regression:** Predicting a continuous value (e.g., predicting house prices).  Algorithms include Linear Regression, Support Vector Regression, and Decision Tree Regression.\n",
            "        *   **Classification:**  Categorizing data into predefined classes (e.g., identifying spam emails). Algorithms include Logistic Regression, Support Vector Machines (SVMs), Decision Trees, Random Forests, and Naive Bayes.\n",
            "\n",
            "    *   **Unsupervised Learning:**\n",
            "        *   **Clustering:** Grouping similar data points together (e.g., segmenting customers based on purchasing behavior). Algorithms include K-Means Clustering, Hierarchical Clustering.\n",
            "        *   **Dimensionality Reduction:**  Reducing the number of variables in a dataset while preserving important information (e.g., simplifying data for visualization). Algorithms include Principal Component Analysis (PCA).\n",
            "        *   **Association Rule Learning:**  Discovering relationships between items in a dataset (e.g., identifying products that are frequently bought together). Algorithms include Apriori and Eclat.\n",
            "\n",
            "    *   **Reinforcement Learning:**\n",
            "        *   An agent learns to make decisions in an environment to maximize a reward. (e.g., training a robot to walk, training a game-playing AI). Algorithms include Q-Learning and Deep Q-Networks (DQNs).\n",
            "\n",
            "3.  **Training the Model:**  The selected algorithm \"learns\" from the data.  This involves:\n",
            "    *   **Feature Extraction/Engineering:**  Identifying the most relevant features (variables) in the data that will help the algorithm make accurate predictions.  For example, in image recognition, features might include edges, corners, and textures.\n",
            "    *   **Model Fitting:**  The algorithm adjusts its internal parameters (weights, biases, etc.) to minimize the difference between its predictions and the actual values in the training data. This process is often iterative, with the algorithm repeatedly adjusting its parameters until it reaches a satisfactory level of accuracy.\n",
            "    *   **Loss Function:**  A mathematical function that measures the error between the model's predictions and the actual values. The goal of training is to minimize this loss.\n",
            "\n",
            "4.  **Validation and Testing:**\n",
            "\n",
            "    *   **Validation:** After training, the model is evaluated on a separate **validation dataset** to fine-tune hyperparameters (settings that control the learning process). This helps prevent overfitting, where the model learns the training data too well and performs poorly on new data.\n",
            "    *   **Testing:** Finally, the model is evaluated on a completely unseen **test dataset** to assess its generalization performance (how well it performs on new, real-world data). This provides an unbiased estimate of the model's accuracy.\n",
            "\n",
            "5.  **Deployment and Monitoring:**\n",
            "\n",
            "    *   **Deployment:**  Once the model is trained, validated, and tested, it can be deployed to make predictions or decisions in a real-world setting.  This might involve integrating the model into an application, a website, or a robotic system.\n",
            "    *   **Monitoring:**  It's crucial to monitor the model's performance over time.  As the data it encounters changes, the model's accuracy may degrade.  This requires periodic retraining with new data to keep the model up-to-date.\n",
            "\n",
            "**Deep Learning: A Subfield of Machine Learning**\n",
            "\n",
            "Deep learning is a subfield of machine learning that uses artificial neural networks with many layers (hence \"deep\") to analyze data. These networks are inspired by the structure and function of the human brain.\n",
            "\n",
            "*   **Neural Networks:**  Neural networks consist of interconnected nodes (neurons) organized in layers.  Each connection between neurons has a weight associated with it.  The network learns by adjusting these weights to minimize the error between its predictions and the actual values.\n",
            "*   **Deep Neural Networks (DNNs):**  DNNs have multiple hidden layers between the input and output layers, allowing them to learn more complex patterns and representations from the data.\n",
            "*   **Convolutional Neural Networks (CNNs):**  CNNs are particularly well-suited for image and video processing.  They use convolutional layers to extract features from images, such as edges, textures, and shapes.\n",
            "*   **Recurrent Neural Networks (RNNs):**  RNNs are designed to handle sequential data, such as text and time series data.  They have feedback connections that allow them to maintain a \"memory\" of past inputs.\n",
            "\n",
            "**Examples of AI in Action**\n",
            "\n",
            "*   **Spam filtering:** Machine learning algorithms learn to identify spam emails based on patterns in the email content and sender information.\n",
            "*   **Image recognition:** Deep learning models can identify objects, people, and scenes in images and videos. Used in self-driving cars, facial recognition, and medical imaging.\n",
            "*   **Natural Language Processing (NLP):**  AI can understand and generate human language.  Used in chatbots, machine translation, and sentiment analysis.\n",
            "*   **Recommendation systems:**  AI algorithms analyze user data to recommend products, movies, or music. Used by Amazon, Netflix, and Spotify.\n",
            "*   **Fraud detection:**  Machine learning models can identify fraudulent transactions by detecting unusual patterns in financial data.\n",
            "\n",
            "**Challenges and Limitations of AI**\n",
            "\n",
            "*   **Data requirements:** Machine learning algorithms often require large amounts of high-quality data to train effectively.\n",
            "*   **Bias:** If the training data is biased, the AI model will also be biased.\n",
            "*   **Explainability:**  Deep learning models can be difficult to interpret, making it hard to understand why they make certain predictions. This is known as the \"black box\" problem.\n",
            "*   **Ethical concerns:**  AI raises ethical concerns about job displacement, privacy, and the potential for misuse.\n",
            "*   **Computational resources:** Training complex AI models can require significant computational resources.\n",
            "\n",
            "**In summary:**\n",
            "\n",
            "AI works by giving computers the ability to learn, reason, and solve problems. Machine learning, particularly deep learning, is the dominant approach, using algorithms to learn from data. It's a powerful technology that is transforming many industries, but it also comes with challenges and limitations that need to be addressed.\n",
            "\n"
          ]
        }
      ]
    },
    {
      "cell_type": "code",
      "source": [
        "type(response)"
      ],
      "metadata": {
        "colab": {
          "base_uri": "https://localhost:8080/",
          "height": 121
        },
        "id": "GYiWhnOzVIXQ",
        "outputId": "bc5d75f3-c37b-43b1-8ed8-99819112e6fe"
      },
      "execution_count": 5,
      "outputs": [
        {
          "output_type": "execute_result",
          "data": {
            "text/plain": [
              "google.genai.types.GenerateContentResponse"
            ],
            "text/html": [
              "<div style=\"max-width:800px; border: 1px solid var(--colab-border-color);\"><style>\n",
              "      pre.function-repr-contents {\n",
              "        overflow-x: auto;\n",
              "        padding: 8px 12px;\n",
              "        max-height: 500px;\n",
              "      }\n",
              "\n",
              "      pre.function-repr-contents.function-repr-contents-collapsed {\n",
              "        cursor: pointer;\n",
              "        max-height: 100px;\n",
              "      }\n",
              "    </style>\n",
              "    <pre style=\"white-space: initial; background:\n",
              "         var(--colab-secondary-surface-color); padding: 8px 12px;\n",
              "         border-bottom: 1px solid var(--colab-border-color);\"><b>google.genai.types.GenerateContentResponse</b><br/>def __init__(self, /, **data: Any) -&gt; None</pre><pre class=\"function-repr-contents function-repr-contents-collapsed\" style=\"\"><a class=\"filepath\" style=\"display:none\" href=\"#\">/usr/local/lib/python3.11/dist-packages/google/genai/types.py</a>Response message for PredictionService.GenerateContent.</pre>\n",
              "      <script>\n",
              "      if (google.colab.kernel.accessAllowed && google.colab.files && google.colab.files.view) {\n",
              "        for (const element of document.querySelectorAll('.filepath')) {\n",
              "          element.style.display = 'block'\n",
              "          element.onclick = (event) => {\n",
              "            event.preventDefault();\n",
              "            event.stopPropagation();\n",
              "            google.colab.files.view(element.textContent, 2879);\n",
              "          };\n",
              "        }\n",
              "      }\n",
              "      for (const element of document.querySelectorAll('.function-repr-contents')) {\n",
              "        element.onclick = (event) => {\n",
              "          event.preventDefault();\n",
              "          event.stopPropagation();\n",
              "          element.classList.toggle('function-repr-contents-collapsed');\n",
              "        };\n",
              "      }\n",
              "      </script>\n",
              "      </div>"
            ]
          },
          "metadata": {},
          "execution_count": 5
        }
      ]
    },
    {
      "cell_type": "markdown",
      "source": [
        "streaming chat"
      ],
      "metadata": {
        "id": "CWuZAp5rPvYo"
      }
    },
    {
      "cell_type": "code",
      "source": [
        "client = genai.Client(api_key= mygeminikey)\n",
        "\n",
        "response = client.models.generate_content_stream(\n",
        "    model=\"gemini-2.0-flash\",\n",
        "    contents=[\"Explain how AI works\"])\n",
        "for chunk in response:\n",
        "    print(chunk.text, end=\"\")"
      ],
      "metadata": {
        "colab": {
          "base_uri": "https://localhost:8080/"
        },
        "id": "qCutlPe0L95X",
        "outputId": "4abbdd4f-c24b-4027-de14-fec2c08d8b87"
      },
      "execution_count": 6,
      "outputs": [
        {
          "output_type": "stream",
          "name": "stdout",
          "text": [
            "Okay, let's break down how AI works.  It's a vast and complex field, but I'll give you a high-level explanation that covers the core concepts.\n",
            "\n",
            "**What is AI, at its heart?**\n",
            "\n",
            "At its most fundamental, Artificial Intelligence (AI) is about creating machines that can perform tasks that typically require human intelligence. These tasks include:\n",
            "\n",
            "*   **Learning:**  Acquiring information and rules for using that information.\n",
            "*   **Reasoning:**  Using learned rules to draw conclusions.\n",
            "*   **Problem-solving:**  Applying knowledge and reasoning to find solutions to complex issues.\n",
            "*   **Perception:**  Interpreting sensory inputs (like images, sound, text) to understand the world.\n",
            "*   **Natural Language Understanding:**  Comprehending and responding to human language.\n",
            "\n",
            "**How does AI achieve these capabilities?**\n",
            "\n",
            "The primary approaches used to build AI systems rely on algorithms and data. Here's a breakdown of the main concepts:\n",
            "\n",
            "1.  **Data:** AI needs data to learn. The more data, the better (usually!). Think of it like showing a child many examples of cats before they can recognize one on their own. The data can be:\n",
            "\n",
            "    *   **Labeled Data:**  Data with pre-defined categories or answers.  For example, images of cats labeled \"cat,\" or emails labeled \"spam\" or \"not spam.\" This is used for *supervised learning*.\n",
            "    *   **Unlabeled Data:**  Data without pre-defined categories.  The AI has to find patterns on its own.  This is used for *unsupervised learning*.\n",
            "    *   **Reinforcement Data:**  Data received as feedback from an environment as the AI takes actions.\n",
            "\n",
            "2.  **Algorithms:**  These are the sets of instructions or rules that the AI uses to process data and perform tasks.  Different types of algorithms are suited for different types of problems.  Some common types include:\n",
            "\n",
            "    *   **Machine Learning (ML):**\n",
            "        *   **The core of many modern AI systems.** ML algorithms allow computers to learn from data without being explicitly programmed. Instead of telling the computer exactly what to do, you feed it data and let it figure out the patterns.\n",
            "        *   **Types of Machine Learning:**\n",
            "            *   **Supervised Learning:** The AI is trained on labeled data. It learns to map inputs to outputs (e.g., predict whether an email is spam based on its content).  Examples:\n",
            "                *   **Regression:** Predicting a continuous value (e.g., predicting house prices).\n",
            "                *   **Classification:** Predicting a category (e.g., classifying images of animals).\n",
            "            *   **Unsupervised Learning:** The AI is trained on unlabeled data. It tries to find patterns, group data, or reduce the dimensionality of the data.  Examples:\n",
            "                *   **Clustering:** Grouping customers based on their purchase history.\n",
            "                *   **Dimensionality Reduction:** Simplifying complex data while preserving important information.\n",
            "            *   **Reinforcement Learning:**  The AI learns through trial and error.  It interacts with an environment, takes actions, and receives rewards or penalties.  It learns to maximize its rewards over time.  Examples:\n",
            "                *   Training a game-playing AI (like AlphaGo).\n",
            "                *   Training a robot to navigate a room.\n",
            "\n",
            "    *   **Deep Learning (DL):**\n",
            "        *   **A subfield of Machine Learning that uses Artificial Neural Networks with many layers (hence \"deep\").**  These networks are inspired by the structure of the human brain.\n",
            "        *   **Neural Networks:**  Consist of interconnected nodes (neurons) organized in layers.  Each connection between neurons has a weight associated with it.  The network learns by adjusting these weights to improve its performance.\n",
            "        *   **Deep Learning excels at complex tasks like image recognition, natural language processing, and speech recognition.**\n",
            "        *   **Types of Deep Learning Architectures:**\n",
            "            *   **Convolutional Neural Networks (CNNs):**  Good for image and video processing.\n",
            "            *   **Recurrent Neural Networks (RNNs):**  Good for sequential data like text and speech.\n",
            "            *   **Transformers:**  A more recent architecture that has revolutionized natural language processing.\n",
            "\n",
            "    *   **Rule-Based Systems:**\n",
            "        *   Uses a set of \"if-then\" rules defined by human experts.\n",
            "        *   The AI system applies these rules to data to make decisions.\n",
            "        *   Example: Medical diagnosis systems (If the patient has a fever AND a cough, THEN the patient may have the flu).\n",
            "\n",
            "3.  **Training:**\n",
            "\n",
            "    *   This is the process of feeding data to the AI algorithm and allowing it to learn.\n",
            "    *   In supervised learning, the algorithm adjusts its internal parameters (e.g., the weights in a neural network) to minimize the difference between its predictions and the correct answers in the training data.\n",
            "    *   In unsupervised learning, the algorithm adjusts its parameters to discover patterns in the data.\n",
            "    *   In reinforcement learning, the algorithm learns to maximize its rewards over time.\n",
            "    *   Training can be computationally intensive and require large amounts of data.\n",
            "\n",
            "4.  **Inference/Prediction:**\n",
            "\n",
            "    *   Once the AI system is trained, it can be used to make predictions or decisions on new, unseen data.\n",
            "    *   This is called inference or prediction.\n",
            "    *   The AI system applies the learned rules or patterns to the new data to generate an output.\n",
            "\n",
            "**A Simple Analogy:**\n",
            "\n",
            "Imagine teaching a dog to sit.\n",
            "\n",
            "*   **Data:** You show the dog what \"sitting\" looks like (examples of other dogs sitting).\n",
            "*   **Algorithm:** Your training method (giving treats when the dog moves towards a sitting position, and withholding treats when it doesn't).\n",
            "*   **Training:** Repeating the process until the dog reliably sits when you say \"sit.\"\n",
            "*   **Inference:** The dog sits when you say \"sit\" even if it's in a new environment or you're wearing a different hat.\n",
            "\n",
            "**Key Concepts to Remember:**\n",
            "\n",
            "*   **Algorithms:** The instructions the AI follows.\n",
            "*   **Data:** The fuel for the AI to learn.\n",
            "*   **Training:**  The process of the AI learning from data.\n",
            "*   **Inference:**  Using the learned knowledge to make predictions on new data.\n",
            "*   **Neural Networks:** A type of algorithm inspired by the human brain, often used in deep learning.\n",
            "*   **Supervised Learning, Unsupervised Learning, Reinforcement Learning:**  Different approaches to training AI.\n",
            "\n",
            "**Examples of AI in Action:**\n",
            "\n",
            "*   **Recommendation systems:** Netflix, Amazon, Spotify use AI to suggest movies, products, and music based on your preferences.\n",
            "*   **Spam filters:** Email providers use AI to identify and filter out spam emails.\n",
            "*   **Self-driving cars:**  Use AI to perceive their environment, navigate, and make driving decisions.\n",
            "*   **Chatbots:** Use AI to understand and respond to user queries.\n",
            "*   **Medical diagnosis:** AI is being used to assist doctors in diagnosing diseases from medical images and patient data.\n",
            "*   **Fraud detection:** Banks and credit card companies use AI to detect fraudulent transactions.\n",
            "\n",
            "**Important Considerations:**\n",
            "\n",
            "*   **Bias:**  AI systems can inherit biases from the data they are trained on. This can lead to unfair or discriminatory outcomes.  It's crucial to address bias in data and algorithms.\n",
            "*   **Explainability:**  It can be difficult to understand how some AI systems (especially deep learning models) arrive at their decisions.  This lack of transparency can be a problem in some applications (e.g., healthcare, law).  \"Explainable AI\" (XAI) is a growing field that aims to make AI more transparent.\n",
            "*   **Ethics:**  AI raises a number of ethical concerns, such as job displacement, privacy, and the potential for misuse. It's important to develop AI responsibly and ethically.\n",
            "\n",
            "This is a general overview, and each area within AI is highly specialized and complex. I hope this gives you a good foundational understanding!  Let me know if you have any more specific questions.\n"
          ]
        }
      ]
    },
    {
      "cell_type": "markdown",
      "source": [
        "Conversation"
      ],
      "metadata": {
        "id": "Zn2QFMaZPq97"
      }
    },
    {
      "cell_type": "code",
      "source": [
        "client = genai.Client(api_key= mygeminikey)\n",
        "\n",
        "chat = client.chats.create(model=\"gemini-2.0-flash\")\n",
        "response = chat.send_message(\"I have 2 dogs in my house.\")\n",
        "print(response.text)\n",
        "response = chat.send_message(\"How many paws are in my house?\")\n",
        "print(response.text)\n",
        "for message in chat._curated_history:\n",
        "    print(f'role - ', message.role, end=\": \")\n",
        "    print(message.parts[0].text)"
      ],
      "metadata": {
        "colab": {
          "base_uri": "https://localhost:8080/"
        },
        "id": "XxAQXtdhPJPi",
        "outputId": "59b32a4e-03b4-40d7-9801-7d6c4ba3571e"
      },
      "execution_count": 7,
      "outputs": [
        {
          "output_type": "stream",
          "name": "stdout",
          "text": [
            "Okay, that's great! Two dogs can definitely bring a lot of joy (and a bit of chaos!) to a home. Do you want to tell me anything else about your dogs? Like:\n",
            "\n",
            "*   What are their names?\n",
            "*   What breeds are they?\n",
            "*   What are their personalities like?\n",
            "*   Do they get along well?\n",
            "*   What are their favorite things to do?\n",
            "*   Do you have any specific questions about dog ownership?\n",
            "If you have two dogs, and each dog has four paws, then there are 8 paws in your house.\n",
            "\n",
            "role -  user: I have 2 dogs in my house.\n",
            "role -  model: Okay, that's great! Two dogs can definitely bring a lot of joy (and a bit of chaos!) to a home. Do you want to tell me anything else about your dogs? Like:\n",
            "\n",
            "*   What are their names?\n",
            "*   What breeds are they?\n",
            "*   What are their personalities like?\n",
            "*   Do they get along well?\n",
            "*   What are their favorite things to do?\n",
            "*   Do you have any specific questions about dog ownership?\n",
            "role -  user: How many paws are in my house?\n",
            "role -  model: If you have two dogs, and each dog has four paws, then there are 8 paws in your house.\n",
            "\n"
          ]
        }
      ]
    },
    {
      "cell_type": "code",
      "source": [
        "from google.genai import types\n",
        "\n",
        "client = genai.Client(api_key = mygeminikey)\n",
        "\n",
        "response = client.models.generate_content(\n",
        "    model=\"gemini-2.0-flash\",\n",
        "    contents=[\"Explain how AI works\"],\n",
        "    config=types.GenerateContentConfig(\n",
        "        max_output_tokens=500,\n",
        "        temperature=0.1\n",
        "    )\n",
        ")\n",
        "print(response.text)"
      ],
      "metadata": {
        "colab": {
          "base_uri": "https://localhost:8080/"
        },
        "id": "G5toZPDqoqp9",
        "outputId": "f65bf26b-fcae-4f8e-ea53-4806db74834e"
      },
      "execution_count": 8,
      "outputs": [
        {
          "output_type": "stream",
          "name": "stdout",
          "text": [
            "Okay, let's break down how AI works, focusing on the core concepts and avoiding overly technical jargon.  Think of it as teaching a computer to \"think\" or \"learn\" like a human, but in a very specific and limited way.\n",
            "\n",
            "**The Basic Idea: Learning from Data**\n",
            "\n",
            "At its heart, AI is about creating systems that can learn from data, identify patterns, and make decisions or predictions based on that learning.  Instead of being explicitly programmed with every single rule, AI systems are designed to figure things out for themselves.\n",
            "\n",
            "**Key Components and Concepts:**\n",
            "\n",
            "1.  **Data:** This is the fuel for AI.  It can be anything:\n",
            "    *   **Images:**  For teaching a computer to recognize objects.\n",
            "    *   **Text:**  For understanding language, translating, or generating content.\n",
            "    *   **Numbers:**  For predicting stock prices, analyzing sales trends, or optimizing processes.\n",
            "    *   **Audio:** For speech recognition or music generation.\n",
            "    *   **Sensor Data:**  From self-driving cars, weather stations, or medical devices.\n",
            "\n",
            "    The more data, and the better the quality of the data, the better the AI system can learn.\n",
            "\n",
            "2.  **Algorithms:** These are the sets of instructions that tell the computer *how* to learn from the data.  There are many different types of algorithms, each suited for different tasks.  Here are a few common ones:\n",
            "\n",
            "    *   **Machine Learning (ML):** This is the most common type of AI.  It involves training algorithms on data to make predictions or decisions without being explicitly programmed.  Think of it like teaching a dog a trick: you show it what to do (the data), and it learns to associate the action with a reward.\n",
            "\n",
            "        *   **Supervised Learning:** The algorithm is trained on labeled data.  This means the data has the \"correct\" answer already provided.  For example, you might show the algorithm thousands of pictures of cats and dogs, each labeled as \"cat\" or \"dog.\"  The algorithm learns to associate certain features (e.g., pointy ears, whiskers) with each label.  Then, when you show it a new picture, it can predict whether it's a cat or a dog.\n",
            "\n",
            "        *   **Unsupervised Learning:** The algorithm is trained on unlabeled data.  It has to find patterns and structures\n"
          ]
        }
      ]
    },
    {
      "cell_type": "markdown",
      "source": [
        "## **Function calling**\n",
        "\n",
        "can provide custom function definitions to the model. The model doesn't directly invoke these functions, but instead generates structured output that specifies a function name and suggested arguments."
      ],
      "metadata": {
        "id": "HaFI_jUoPi_b"
      }
    },
    {
      "cell_type": "code",
      "source": [
        "import json\n",
        "import textwrap\n",
        "\n",
        "from google.genai import types\n",
        "\n",
        "from IPython.display import JSON\n",
        "from IPython.display import display\n",
        "from IPython.display import Markdown\n",
        "\n",
        "def to_markdown(text) :\n",
        "  text = text.replace('.', '*')\n",
        "  return Markdown(textwrap.indent(text, '>', predicate = lambda _: True))"
      ],
      "metadata": {
        "id": "DpuoDbi5tdfZ"
      },
      "execution_count": 9,
      "outputs": []
    },
    {
      "cell_type": "code",
      "source": [
        "prompt = \"\"\"\n",
        "Write a long story about a girl with magic backpack, her family, and at\n",
        "least one other character. Make sure everyone has names. Don't forget to\n",
        "describe the contents of the backpack, and where everyone and everything\n",
        "starts and ends up.\n",
        "\"\"\"\n",
        "\n",
        "response = client.models.generate_content(\n",
        "  model = 'gemini-2.0-flash' ,\n",
        "  contents=prompt,\n",
        ")\n",
        "story = response.text"
      ],
      "metadata": {
        "id": "UtvaVHTJwckb"
      },
      "execution_count": 10,
      "outputs": []
    },
    {
      "cell_type": "code",
      "source": [
        "to_markdown(story)"
      ],
      "metadata": {
        "colab": {
          "base_uri": "https://localhost:8080/",
          "height": 1000
        },
        "id": "rkWwDgUMxTAU",
        "outputId": "1f84bfd9-6348-4eb2-f5d9-b6fe85fddeed"
      },
      "execution_count": 11,
      "outputs": [
        {
          "output_type": "execute_result",
          "data": {
            "text/plain": [
              "<IPython.core.display.Markdown object>"
            ],
            "text/markdown": ">Lila wasn't like the other kids in her dusty, forgotten corner of Arizona* While they dreamt of being cowboys and rock stars, Lila dreamt of escaping* Escape the heat, the monotonous landscape, and the feeling that the world was happening everywhere but here* Her magic, she believed, was tied to a battered, leather backpack she'd inherited from her eccentric Aunt Millie*\n>\n>Aunt Millie, a whirlwind of brightly coloured scarves and half-finished pottery projects, had vanished years ago, leaving behind only the backpack and a cryptic note: \"Fill it with wonder, Lila* It answers to the heart*\"\n>\n>The backpack itself was unremarkable to look at, aged and worn with tarnished buckles* But inside… inside was a different story* Reaching in was like stepping into another dimension* One day it might contain a never-ending supply of perfectly ripe mangoes, the next a feather that whispered the secrets of the wind* There was always a worn copy of \"Alice's Adventures in Wonderland,\" a small, silver compass that pointed not north, but towards the greatest adventure, and a collection of smooth, grey stones that felt warm to the touch, each resonating with a different emotion*\n>\n>Lila lived with her parents, David and Maria, in a small adobe house on the outskirts of Dust Devil, Arizona* David worked at the local mine, his face perpetually etched with the dust of the earth* Maria, a talented seamstress, mended clothes and made simple dresses for the few townspeople who could afford them* They were good, hardworking people, but trapped, Lila thought, just like her* They saw the backpack as a harmless quirk, a sentimental object from a beloved but slightly batty aunt* They couldn't see the magic*\n>\n>One sweltering afternoon, Lila sat beneath the shade of a lonely mesquite tree, the backpack beside her* Frustration simmered within her* She longed to see the ocean, to walk in a forest, to experience a world that wasn’t shades of brown and grey* She closed her eyes and poured her yearning into the backpack, picturing a vibrant green forest filled with towering trees and the sound of rushing water*\n>\n>When she opened her eyes, a soft, mossy scent filled the air* Hesitantly, she reached into the backpack* Instead of the usual chaos of objects, she found a single, perfectly formed acorn*\n>\n>A sigh escaped her lips* “An acorn? That's it?”\n>\n>Suddenly, a raspy voice croaked, \"Well, it's a start, isn't it?\"\n>\n>Lila jumped, scrambling backward* Standing before her, leaning on a gnarled walking stick, was an old man* He was small and wiry, with eyes as bright and knowing as the desert stars* He wore clothes stitched together from scraps of different fabrics, and his beard reached down to his chest, tangled with twigs and leaves*\n>\n>\"Who are you?\" Lila stammered*\n>\n>\"Call me Silas,\" he said with a twinkle in his eye* \"And I believe you have something that belongs to me*\" He gestured towards the acorn in her hand*\n>\n>Silas explained that he was a guardian of sorts, tending to the magical connections between places* He had sensed Lila’s longing and the backpack’s power, and had come to help her realize its potential* The acorn, he explained, was a seed of possibility, a doorway to the forest she craved* But it needed care, nurturing, and belief*\n>\n>Lila, captivated, listened intently* For the first time, she felt seen, understood* She told Silas about her dreams, her frustration, and her family* Silas, in turn, shared stories of hidden pathways, whispering winds, and the interconnectedness of all things*\n>\n>Over the next few weeks, Lila met Silas secretly near the mesquite tree* He taught her how to listen to the earth, how to feel the hum of magic within the backpack, and how to trust her instincts* He showed her how to care for the acorn, planting it in a small pot she kept hidden in her room*\n>\n>Meanwhile, David and Maria grew increasingly worried about Lila* She was spending more time alone, lost in thought, and seemed…different* They suspected she was lonely, perhaps even grieving for Aunt Millie*\n>\n>One evening, Maria decided to confront Lila* She found her daughter carefully watering the small pot*\n>\n>\"Lila, honey,\" Maria said softly* \"What are you doing? You spend all your time with that…thing*\" She gestured towards the backpack, disdain evident in her voice*\n>\n>Lila, panicked, clutched the pot to her chest* \"It's not just a thing, Mama* It's…it's magic*\"\n>\n>Maria sighed* \"Lila, there's no such thing as magic* Your Aunt Millie was a sweet woman, but she had her fantasies* This is just a backpack, honey* You need to focus on reality*\"\n>\n>David, drawn by the raised voices, entered the room* Seeing Lila’s distress and Maria’s frustration, he stepped forward* \"Maria, leave her be* It's just a hobby*\"\n>\n>\"A hobby that's turning her into a recluse!\" Maria retorted, her voice rising* \"She needs to be out with her friends, not lost in this…this nonsense!\"\n>\n>Tears welled up in Lila's eyes* They didn't understand* They couldn't see* In desperation, she reached into the backpack, her fingers brushing against the smooth, grey stones* She chose one that resonated with courage, held it tight, and made a decision*\n>\n>\"I'm going,\" she announced, her voice trembling but firm* \"I'm going to find the forest*\"\n>\n>Maria and David exchanged bewildered glances* \"Going where?\" David asked, his voice laced with concern*\n>\n>\"With the backpack,\" Lila said, holding it up* \"It knows the way*\"\n>\n>Maria scoffed* \"Lila, don't be ridiculous* You can't just run off with a…a backpack*\"\n>\n>But Lila was already at the door* She paused, turning back to face her parents, her heart aching* \"I love you,\" she said softly* \"But I need to do this* I need to see if the magic is real*\"\n>\n>Then, she was gone*\n>\n>Lila met Silas at their usual spot* He smiled, a network of wrinkles crinkling around his eyes* \"Ready for an adventure?\" he asked*\n>\n>With Silas as her guide, Lila set off* They followed the silver compass, its needle unwavering, leading them away from Dust Devil and into the vast, unforgiving desert* The backpack provided them with water, food, and even temporary shelter in the form of a shimmering, heat-resistant blanket*\n>\n>The journey was arduous* They faced scorching sun, treacherous terrain, and the constant fear of getting lost* But Lila persevered, fueled by her dream and Silas's unwavering support* She learned to read the signs of the desert, to find water beneath the dry earth, and to appreciate the stark beauty of the landscape*\n>\n>Meanwhile, back in Dust Devil, David and Maria were frantic* They reported Lila missing, but the local sheriff, a gruff man named Earl, dismissed their concerns* \"Kids run away all the time,\" he said* \"She'll be back*\"\n>\n>But David and Maria knew that Lila wasn't just any kid* They knew about the backpack, about Aunt Millie's eccentricities, and about the strange, almost mystical connection Lila had always seemed to have to the world* They decided to take matters into their own hands*\n>\n>They started by talking to anyone who might have seen Lila* They showed them a photograph of her, her face framed by the Arizona sun* Finally, they found someone who had seen her, an old prospector who lived on the outskirts of town* He remembered seeing Lila heading east, accompanied by a strange, old man*\n>\n>David and Maria packed a bag, filled their truck with gas, and followed the prospector’s directions*\n>\n>After days of travel, Lila and Silas finally reached the edge of the desert* Before them lay a vast, shimmering expanse of mountains, cloaked in mist* At the foot of the mountains, a verdant green forest stretched as far as the eye could see*\n>\n>Lila gasped* It was even more beautiful than she had imagined* The air was cool and damp, filled with the scent of pine and earth* The sound of rushing water echoed through the trees*\n>\n>Silas smiled* \"Welcome,\" he said* \"Welcome to your dream*\"\n>\n>They entered the forest, the backpack lighter than it had ever been* Lila felt a sense of belonging, of finally being home* They walked for hours, marveling at the towering trees, the vibrant flowers, and the teeming wildlife*\n>\n>As dusk began to settle, they came to a small clearing* In the center stood a cottage, its windows glowing with a warm, inviting light*\n>\n>\"This is it,\" Silas said* \"This is where you belong, for now*\"\n>\n>Inside the cottage, a fire crackled in the hearth, and a table was set with a simple but delicious meal* As Lila ate, Silas told her stories of the forest, of its ancient magic, and of her role in protecting it*\n>\n>But their peaceful evening was soon interrupted* The sound of an engine broke the silence of the forest* Headlights flashed through the trees*\n>\n>David and Maria had found them*\n>\n>Lila rushed outside, her heart pounding* She saw her parents emerge from the truck, their faces etched with relief and exhaustion*\n>\n>\"Lila!\" Maria cried, rushing towards her daughter* \"We were so worried!\"\n>\n>David embraced Lila tightly* \"We're taking you home,\" he said*\n>\n>Lila pulled away, her eyes filled with tears* \"I can't go home,\" she said* \"This is my home now*\"\n>\n>David and Maria looked at each other, confused* They turned to Silas, who stood silently by the cottage*\n>\n>\"Who is this man?\" David asked, his voice suspicious*\n>\n>Silas stepped forward* \"I am a friend,\" he said* \"I have helped Lila find her path*\"\n>\n>Maria scoffed* \"Her path? She's a child! She needs to be in school, not running around in the wilderness with some…\"\n>\n>\"With a guardian,\" Silas interrupted* \"Lila has a gift, a responsibility* This forest needs her, and she needs it*\"\n>\n>David and Maria stared at Silas, then at Lila* They saw the determination in her eyes, the peace on her face* They saw the backpack, no longer a symbol of fantasy, but a source of strength*\n>\n>Slowly, their anger and fear began to subside, replaced by a sense of understanding*\n>\n>\"What…what exactly is it that you do here?\" Maria asked*\n>\n>Lila led her parents into the forest, showing them the towering trees, the hidden waterfalls, and the abundant wildlife* She explained how Silas had taught her to listen to the earth, to feel the magic that flowed through the forest*\n>\n>David and Maria were amazed* They had never seen Lila so happy, so alive* They realized that she had found something truly special, something that they could never have given her back in Dust Devil*\n>\n>After a long conversation, they made a decision* They wouldn't take Lila home* Instead, they would move to the forest* David found work at a nearby lumber mill, and Maria opened a small sewing shop in the closest town* They bought a small cabin near Lila's cottage and became part of the forest community*\n>\n>Lila continued to learn from Silas, exploring the forest, tending to its needs, and protecting its magic* The backpack remained her constant companion, always ready to provide her with whatever she needed*\n>\n>Years passed* Lila grew into a strong, independent woman, deeply connected to the forest and its inhabitants* David and Maria found a new sense of purpose, working to protect the environment and sharing their love with their daughter*\n>\n>As for the acorn Lila planted back in Dust Devil, it eventually sprouted into a small sapling* It was a reminder of her past, of her dreams, and of the journey that had brought her home* And sometimes, when the wind blew just right, the leaves of the little tree would whisper tales of a magical backpack, a girl with a brave heart, and a family who learned to believe* They also remembered Silas who eventually passed away, and she became the new Guardian of the forest*\n"
          },
          "metadata": {},
          "execution_count": 11
        }
      ]
    },
    {
      "cell_type": "code",
      "source": [
        "MODEL_ID=\"gemini-2.0-flash\"\n",
        "prompt = \"\"\"\n",
        "Please return JSON describing the people, places, things and relationships from this story using the following schema:\n",
        "\n",
        "{\"people\": list[PERSON], \"places\":list[PLACE], \"things\":list[THING], \"relationships\": list[RELATIONSHIP]}\n",
        "\n",
        "PERSON = {\"name\": str, \"description\": str, \"start_place_name\": str, \"end_place_name\": str}\n",
        "PLACE = {\"name\": str, \"description\": str}\n",
        "THING = {\"name\": str, \"description\": str, \"start_place_name\": str, \"end_place_name\": str}\n",
        "RELATIONSHIP = {\"person_1_name\": str, \"person_2_name\": str, \"relationship\": str}\n",
        "\n",
        "All fields are required.\n",
        "\n",
        "Important: Only return a single piece of valid JSON text.\n",
        "\n",
        "Here is the story:\n",
        "\n",
        "\"\"\" + story\n",
        "\n",
        "response = client.models.generate_content(\n",
        "  model=MODEL_ID,\n",
        "  contents=prompt,\n",
        "  config=types.GenerateContentConfig(\n",
        "    response_mime_type=\"application/json\"\n",
        "  ),\n",
        ")"
      ],
      "metadata": {
        "id": "0hrCuT2Sx7nt"
      },
      "execution_count": 12,
      "outputs": []
    },
    {
      "cell_type": "code",
      "source": [
        "import json\n",
        "\n",
        "print(json.dumps(json.loads(response.text), indent=4))"
      ],
      "metadata": {
        "colab": {
          "base_uri": "https://localhost:8080/"
        },
        "id": "1h1nS7wp0vmf",
        "outputId": "1e8568e1-dd50-43f9-eb48-9e95a388c690"
      },
      "execution_count": 13,
      "outputs": [
        {
          "output_type": "stream",
          "name": "stdout",
          "text": [
            "{\n",
            "    \"people\": [\n",
            "        {\n",
            "            \"name\": \"Lila\",\n",
            "            \"description\": \"A young girl who dreams of escaping her small town and discovering magic.\",\n",
            "            \"start_place_name\": \"Dust Devil, Arizona\",\n",
            "            \"end_place_name\": \"Forest\"\n",
            "        },\n",
            "        {\n",
            "            \"name\": \"Aunt Millie\",\n",
            "            \"description\": \"Lila's eccentric aunt who left her the magical backpack.\",\n",
            "            \"start_place_name\": \"Unknown\",\n",
            "            \"end_place_name\": \"Unknown\"\n",
            "        },\n",
            "        {\n",
            "            \"name\": \"David\",\n",
            "            \"description\": \"Lila's father, who works at the local mine.\",\n",
            "            \"start_place_name\": \"Dust Devil, Arizona\",\n",
            "            \"end_place_name\": \"Forest\"\n",
            "        },\n",
            "        {\n",
            "            \"name\": \"Maria\",\n",
            "            \"description\": \"Lila's mother, a talented seamstress.\",\n",
            "            \"start_place_name\": \"Dust Devil, Arizona\",\n",
            "            \"end_place_name\": \"Forest\"\n",
            "        },\n",
            "        {\n",
            "            \"name\": \"Silas\",\n",
            "            \"description\": \"A guardian of magical connections who helps Lila realize the backpack's potential.\",\n",
            "            \"start_place_name\": \"Mesquite Tree\",\n",
            "            \"end_place_name\": \"Forest\"\n",
            "        },\n",
            "        {\n",
            "            \"name\": \"Earl\",\n",
            "            \"description\": \"The gruff local sheriff who dismisses David and Maria's concerns about Lila running away.\",\n",
            "            \"start_place_name\": \"Dust Devil, Arizona\",\n",
            "            \"end_place_name\": \"Dust Devil, Arizona\"\n",
            "        }\n",
            "    ],\n",
            "    \"places\": [\n",
            "        {\n",
            "            \"name\": \"Dust Devil, Arizona\",\n",
            "            \"description\": \"A dusty, forgotten corner of Arizona where Lila lives.\"\n",
            "        },\n",
            "        {\n",
            "            \"name\": \"Mesquite Tree\",\n",
            "            \"description\": \"The lonely Mesquite tree is where Lila meets Silas.\"\n",
            "        },\n",
            "        {\n",
            "            \"name\": \"Forest\",\n",
            "            \"description\": \"A lush, green forest that Lila dreams of and eventually finds.\"\n",
            "        }\n",
            "    ],\n",
            "    \"things\": [\n",
            "        {\n",
            "            \"name\": \"Leather Backpack\",\n",
            "            \"description\": \"A battered, leather backpack that Lila inherited from her aunt, containing magical items and acting as a portal.\",\n",
            "            \"start_place_name\": \"Unknown\",\n",
            "            \"end_place_name\": \"Forest\"\n",
            "        },\n",
            "        {\n",
            "            \"name\": \"Alice's Adventures in Wonderland\",\n",
            "            \"description\": \"A worn copy of 'Alice's Adventures in Wonderland' always found in the backpack.\",\n",
            "            \"start_place_name\": \"Backpack\",\n",
            "            \"end_place_name\": \"Backpack\"\n",
            "        },\n",
            "        {\n",
            "            \"name\": \"Silver Compass\",\n",
            "            \"description\": \"A small, silver compass in the backpack that points towards adventure.\",\n",
            "            \"start_place_name\": \"Backpack\",\n",
            "            \"end_place_name\": \"Backpack\"\n",
            "        },\n",
            "        {\n",
            "            \"name\": \"Grey Stones\",\n",
            "            \"description\": \"A collection of smooth, grey stones in the backpack that resonate with different emotions.\",\n",
            "            \"start_place_name\": \"Backpack\",\n",
            "            \"end_place_name\": \"Backpack\"\n",
            "        },\n",
            "        {\n",
            "            \"name\": \"Acorn\",\n",
            "            \"description\": \"A seed of possibility that is a doorway to the forest.\",\n",
            "            \"start_place_name\": \"Backpack\",\n",
            "            \"end_place_name\": \"Forest\"\n",
            "        },\n",
            "        {\n",
            "            \"name\": \"Walking Stick\",\n",
            "            \"description\": \"Gnarled walking stick used by Silas.\",\n",
            "            \"start_place_name\": \"Unknown\",\n",
            "            \"end_place_name\": \"Forest\"\n",
            "        }\n",
            "    ],\n",
            "    \"relationships\": [\n",
            "        {\n",
            "            \"person_1_name\": \"Lila\",\n",
            "            \"person_2_name\": \"Aunt Millie\",\n",
            "            \"relationship\": \"Niece-Aunt\"\n",
            "        },\n",
            "        {\n",
            "            \"person_1_name\": \"Lila\",\n",
            "            \"person_2_name\": \"David\",\n",
            "            \"relationship\": \"Daughter-Father\"\n",
            "        },\n",
            "        {\n",
            "            \"person_1_name\": \"Lila\",\n",
            "            \"person_2_name\": \"Maria\",\n",
            "            \"relationship\": \"Daughter-Mother\"\n",
            "        },\n",
            "        {\n",
            "            \"person_1_name\": \"Lila\",\n",
            "            \"person_2_name\": \"Silas\",\n",
            "            \"relationship\": \"Mentor-Mentee\"\n",
            "        },\n",
            "        {\n",
            "            \"person_1_name\": \"David\",\n",
            "            \"person_2_name\": \"Maria\",\n",
            "            \"relationship\": \"Husband-Wife\"\n",
            "        }\n",
            "    ]\n",
            "}\n"
          ]
        }
      ]
    },
    {
      "cell_type": "code",
      "source": [
        "Person = {\n",
        "\n",
        "    \"type\": \"OBJECT\",\n",
        "    \"properties\": {\n",
        "        \"character_name\": {\n",
        "            \"type\": \"STRING\",\n",
        "            \"description\": \"Character name\",\n",
        "        },\n",
        "        \"character_description\": {\n",
        "            \"type\": \"STRING\",\n",
        "            \"description\": \"Character description\",\n",
        "        }\n",
        "    },\n",
        "    \"required\": [\"character_name\", \"character_description\"]\n",
        "}"
      ],
      "metadata": {
        "id": "EwYGMNlv1kpu"
      },
      "execution_count": 14,
      "outputs": []
    },
    {
      "cell_type": "code",
      "source": [
        "Relationships = {\n",
        "    \"type\": \"OBJECT\",\n",
        "    \"properties\": {\n",
        "        \"first_character\": {\n",
        "            \"type\": \"STRING\",\n",
        "            \"description\": \"First character name\",\n",
        "        },\n",
        "        \"second_character\": {\n",
        "            \"type\": \"STRING\",\n",
        "            \"description\": \"Second character name\",\n",
        "        },\n",
        "        \"relationship\": {\n",
        "            \"type\": \"STRING\",\n",
        "            \"description\": \"Familiar elationship between first and second character\",\n",
        "        }\n",
        "    },\n",
        "    \"required\": [\"first_character\", \"second_character\", \"relationship\"]\n",
        "}"
      ],
      "metadata": {
        "id": "sRv-TkaP2U5g"
      },
      "execution_count": 15,
      "outputs": []
    },
    {
      "cell_type": "code",
      "source": [
        "Places = {\n",
        "    \"type\": \"OBJECT\",\n",
        "    \"properties\": {\n",
        "        \"place_name\": {\n",
        "            \"type\": \"STRING\",\n",
        "            \"description\": \"Place name\",\n",
        "        },\n",
        "        \"place_description\": {\n",
        "            \"type\": \"STRING\",\n",
        "            \"description\": \"Place description\",\n",
        "        }\n",
        "    },\n",
        "    \"required\": [\"place_name\", \"place_description\"]\n",
        "}"
      ],
      "metadata": {
        "id": "218qxqGAtLZv"
      },
      "execution_count": 16,
      "outputs": []
    },
    {
      "cell_type": "code",
      "source": [
        "Things = {\n",
        "    \"type\": \"OBJECT\",\n",
        "    \"properties\": {\n",
        "        \"thing_name\": {\n",
        "            \"type\": \"STRING\",\n",
        "            \"description\": \"Thing name\",\n",
        "        },\n",
        "        \"thing_description\": {\n",
        "            \"type\": \"STRING\",\n",
        "            \"description\": \"Thing description\",\n",
        "        }\n",
        "    },\n",
        "    \"required\": [\"thing_name\", \"thing_description\"]\n",
        "}"
      ],
      "metadata": {
        "id": "c7wxqG-YtNqq"
      },
      "execution_count": 17,
      "outputs": []
    },
    {
      "cell_type": "code",
      "source": [
        "get_people = types.FunctionDeclaration(\n",
        "    name=\"get_people\",\n",
        "    description=\"Get information about characters\",\n",
        "    parameters=Person,\n",
        ")\n",
        "\n",
        "get_relationships = types.FunctionDeclaration(\n",
        "    name=\"get_relationships\",\n",
        "    description=\"Get information about relationships between people\",\n",
        "    parameters=Relationships\n",
        ")\n",
        "\n",
        "get_places = types.FunctionDeclaration(\n",
        "    name=\"get_places\",\n",
        "    description=\"Get information about places\",\n",
        "    parameters=Places\n",
        ")\n",
        "\n",
        "get_things = types.FunctionDeclaration(\n",
        "    name=\"get_things\",\n",
        "    description=\"Get information about things\",\n",
        "    parameters=Things\n",
        ")\n",
        "\n",
        "story_tools = types.Tool(\n",
        "    function_declarations=[get_people, get_relationships, get_places, get_things],\n",
        ")"
      ],
      "metadata": {
        "id": "M3N-IyN2tQXk"
      },
      "execution_count": 18,
      "outputs": []
    },
    {
      "cell_type": "code",
      "source": [
        "MODEL_ID=\"gemini-2.0-flash\"\n",
        "prompt = f\"\"\"\n",
        "{story}\n",
        "\n",
        "Please add the people, places, things, and relationships from this story to the database\n",
        "\"\"\"\n",
        "\n",
        "result = client.models.generate_content(\n",
        "    model=MODEL_ID,\n",
        "    contents=prompt,\n",
        "    config=types.GenerateContentConfig(\n",
        "        tools=[story_tools],\n",
        "        temperature=0\n",
        "        )\n",
        ")"
      ],
      "metadata": {
        "id": "BeO4LdnWtRx1"
      },
      "execution_count": 19,
      "outputs": []
    },
    {
      "cell_type": "code",
      "source": [
        "result.candidates[0].content.parts[0].function_call"
      ],
      "metadata": {
        "colab": {
          "base_uri": "https://localhost:8080/"
        },
        "id": "d0AlcilhtlpG",
        "outputId": "a1758505-0dc8-4ab4-f131-0a375939b1b2"
      },
      "execution_count": 20,
      "outputs": [
        {
          "output_type": "execute_result",
          "data": {
            "text/plain": [
              "FunctionCall(id=None, args={'character_description': 'a girl who dreams of escaping her small town and discovers a magical backpack', 'character_name': 'Lila'}, name='get_people')"
            ]
          },
          "metadata": {},
          "execution_count": 20
        }
      ]
    },
    {
      "cell_type": "code",
      "source": [
        "for part in result.candidates[0].content.parts:\n",
        "  print(json.dumps(part.function_call.args, indent=4))"
      ],
      "metadata": {
        "colab": {
          "base_uri": "https://localhost:8080/"
        },
        "id": "XXcCxl8Dttf5",
        "outputId": "1e4ad7eb-fac6-4570-d89f-80c09cd4fb90"
      },
      "execution_count": 21,
      "outputs": [
        {
          "output_type": "stream",
          "name": "stdout",
          "text": [
            "{\n",
            "    \"character_description\": \"a girl who dreams of escaping her small town and discovers a magical backpack\",\n",
            "    \"character_name\": \"Lila\"\n",
            "}\n",
            "{\n",
            "    \"character_description\": \"Lila's eccentric aunt who left her the magical backpack\",\n",
            "    \"character_name\": \"Aunt Millie\"\n",
            "}\n",
            "{\n",
            "    \"character_name\": \"David\",\n",
            "    \"character_description\": \"Lila's father who works at the local mine\"\n",
            "}\n",
            "{\n",
            "    \"character_description\": \"Lila's mother who is a talented seamstress\",\n",
            "    \"character_name\": \"Maria\"\n",
            "}\n",
            "{\n",
            "    \"character_name\": \"Silas\",\n",
            "    \"character_description\": \"an old man who is a guardian of the magical connections between places\"\n",
            "}\n",
            "{\n",
            "    \"character_description\": \"a gruff sheriff in Dust Devil, Arizona\",\n",
            "    \"character_name\": \"Earl\"\n",
            "}\n",
            "{\n",
            "    \"place_description\": \"a dusty, forgotten corner of Arizona\",\n",
            "    \"place_name\": \"Dust Devil\"\n",
            "}\n",
            "{\n",
            "    \"place_description\": \"a vibrant green forest filled with towering trees and the sound of rushing water\",\n",
            "    \"place_name\": \"forest\"\n",
            "}\n",
            "{\n",
            "    \"thing_name\": \"backpack\",\n",
            "    \"thing_description\": \"a battered, leather backpack that contains magical items and answers to the heart\"\n",
            "}\n",
            "{\n",
            "    \"thing_name\": \"acorn\",\n",
            "    \"thing_description\": \"a seed of possibility, a doorway to the forest\"\n",
            "}\n",
            "{\n",
            "    \"thing_name\": \"compass\",\n",
            "    \"thing_description\": \"a small, silver compass that pointed not north, but towards the greatest adventure\"\n",
            "}\n",
            "{\n",
            "    \"thing_name\": \"stones\",\n",
            "    \"thing_description\": \"a collection of smooth, grey stones that felt warm to the touch, each resonating with a different emotion\"\n",
            "}\n",
            "{\n",
            "    \"second_character\": \"David\",\n",
            "    \"relationship\": \"daughter\",\n",
            "    \"first_character\": \"Lila\"\n",
            "}\n",
            "{\n",
            "    \"relationship\": \"daughter\",\n",
            "    \"first_character\": \"Lila\",\n",
            "    \"second_character\": \"Maria\"\n",
            "}\n",
            "{\n",
            "    \"second_character\": \"Aunt Millie\",\n",
            "    \"first_character\": \"Lila\",\n",
            "    \"relationship\": \"niece\"\n",
            "}\n",
            "{\n",
            "    \"first_character\": \"Lila\",\n",
            "    \"second_character\": \"Silas\",\n",
            "    \"relationship\": \"friend\"\n",
            "}\n",
            "{\n",
            "    \"relationship\": \"husband\",\n",
            "    \"first_character\": \"David\",\n",
            "    \"second_character\": \"Maria\"\n",
            "}\n"
          ]
        }
      ]
    },
    {
      "cell_type": "markdown",
      "source": [
        "## Langchain"
      ],
      "metadata": {
        "id": "q-C95aJaVrok"
      }
    },
    {
      "cell_type": "markdown",
      "source": [
        "Packages"
      ],
      "metadata": {
        "id": "_20BHWG1Vlno"
      }
    },
    {
      "cell_type": "code",
      "source": [
        "client = genai.Client(api_key= mygeminikey)"
      ],
      "metadata": {
        "id": "Q7CvD4qh1pQF"
      },
      "execution_count": 22,
      "outputs": []
    },
    {
      "cell_type": "code",
      "source": [
        "prompt = 'can u tell me total number of country in asia? give me top 10 country nmaes'"
      ],
      "metadata": {
        "id": "_I1sTTDH2MCF"
      },
      "execution_count": 23,
      "outputs": []
    },
    {
      "cell_type": "code",
      "source": [
        "response = client.models.generate_content(\n",
        "  model = 'gemini-2.0-flash' ,\n",
        "  contents = prompt,\n",
        ")\n",
        "print(response.text.strip()),"
      ],
      "metadata": {
        "colab": {
          "base_uri": "https://localhost:8080/"
        },
        "id": "DKBx_ldg2b_H",
        "outputId": "6a42f222-f31f-42a0-be1d-1b5d5c820576"
      },
      "execution_count": 24,
      "outputs": [
        {
          "output_type": "stream",
          "name": "stdout",
          "text": [
            "There is no single, universally agreed-upon list of countries in Asia, as different organizations use different definitions. However, most commonly accepted lists include **48 countries** in Asia.\n",
            "\n",
            "Here are the top 10 largest countries in Asia by land area:\n",
            "\n",
            "1.  **Russia** (Note: Only the Asian portion is counted for area calculations here)\n",
            "2.  **China**\n",
            "3.  **India**\n",
            "4.  **Kazakhstan** (Note: A portion of Kazakhstan is in Europe)\n",
            "5.  **Saudi Arabia**\n",
            "6.  **Indonesia** (Note: A portion of Indonesia is in Oceania)\n",
            "7.  **Pakistan**\n",
            "8.  **Mongolia**\n",
            "9.  **Iran**\n",
            "10. **Myanmar (Burma)**\n"
          ]
        },
        {
          "output_type": "execute_result",
          "data": {
            "text/plain": [
              "(None,)"
            ]
          },
          "metadata": {},
          "execution_count": 24
        }
      ]
    },
    {
      "cell_type": "code",
      "source": [
        "prompt2=\"can you tell me a capital of india?\""
      ],
      "metadata": {
        "id": "Ti4kV60o2lxX"
      },
      "execution_count": 25,
      "outputs": []
    },
    {
      "cell_type": "code",
      "source": [
        "response = client.models.generate_content(\n",
        "    model = 'gemini-2.0-flash',\n",
        "    contents = prompt2,\n",
        ")\n",
        "print(response.text.strip())"
      ],
      "metadata": {
        "colab": {
          "base_uri": "https://localhost:8080/"
        },
        "id": "V42v2BJ_8I4Q",
        "outputId": "c28a1167-6ba8-4426-855a-06dd1bf81550"
      },
      "execution_count": 26,
      "outputs": [
        {
          "output_type": "stream",
          "name": "stdout",
          "text": [
            "The capital of India is **New Delhi**.\n"
          ]
        }
      ]
    },
    {
      "cell_type": "markdown",
      "source": [
        "### Prompt Templates"
      ],
      "metadata": {
        "id": "w-qIMG7-99bW"
      }
    },
    {
      "cell_type": "code",
      "source": [
        "!pip install langchain-google-genai\n",
        "from langchain_google_genai import ChatGoogleGenerativeAI\n",
        "from langchain.prompts import PromptTemplate"
      ],
      "metadata": {
        "id": "H_hMKWRxBKs6",
        "colab": {
          "base_uri": "https://localhost:8080/",
          "height": 1000
        },
        "outputId": "08b497de-5cc4-4605-e98d-f5740363908f"
      },
      "execution_count": 29,
      "outputs": [
        {
          "output_type": "stream",
          "name": "stdout",
          "text": [
            "Collecting langchain-google-genai\n",
            "  Downloading langchain_google_genai-2.0.11-py3-none-any.whl.metadata (3.6 kB)\n",
            "Collecting filetype<2.0.0,>=1.2.0 (from langchain-google-genai)\n",
            "  Downloading filetype-1.2.0-py2.py3-none-any.whl.metadata (6.5 kB)\n",
            "Collecting google-ai-generativelanguage<0.7.0,>=0.6.16 (from langchain-google-genai)\n",
            "  Downloading google_ai_generativelanguage-0.6.16-py3-none-any.whl.metadata (5.7 kB)\n",
            "Requirement already satisfied: langchain-core<0.4.0,>=0.3.37 in /usr/local/lib/python3.11/dist-packages (from langchain-google-genai) (0.3.37)\n",
            "Requirement already satisfied: pydantic<3,>=2 in /usr/local/lib/python3.11/dist-packages (from langchain-google-genai) (2.10.6)\n",
            "Requirement already satisfied: google-api-core!=2.0.*,!=2.1.*,!=2.10.*,!=2.2.*,!=2.3.*,!=2.4.*,!=2.5.*,!=2.6.*,!=2.7.*,!=2.8.*,!=2.9.*,<3.0.0dev,>=1.34.1 in /usr/local/lib/python3.11/dist-packages (from google-api-core[grpc]!=2.0.*,!=2.1.*,!=2.10.*,!=2.2.*,!=2.3.*,!=2.4.*,!=2.5.*,!=2.6.*,!=2.7.*,!=2.8.*,!=2.9.*,<3.0.0dev,>=1.34.1->google-ai-generativelanguage<0.7.0,>=0.6.16->langchain-google-genai) (2.24.1)\n",
            "Requirement already satisfied: google-auth!=2.24.0,!=2.25.0,<3.0.0dev,>=2.14.1 in /usr/local/lib/python3.11/dist-packages (from google-ai-generativelanguage<0.7.0,>=0.6.16->langchain-google-genai) (2.27.0)\n",
            "Requirement already satisfied: proto-plus<2.0.0dev,>=1.22.3 in /usr/local/lib/python3.11/dist-packages (from google-ai-generativelanguage<0.7.0,>=0.6.16->langchain-google-genai) (1.26.0)\n",
            "Requirement already satisfied: protobuf!=4.21.0,!=4.21.1,!=4.21.2,!=4.21.3,!=4.21.4,!=4.21.5,<6.0.0dev,>=3.20.2 in /usr/local/lib/python3.11/dist-packages (from google-ai-generativelanguage<0.7.0,>=0.6.16->langchain-google-genai) (4.25.6)\n",
            "Requirement already satisfied: langsmith<0.4,>=0.1.125 in /usr/local/lib/python3.11/dist-packages (from langchain-core<0.4.0,>=0.3.37->langchain-google-genai) (0.3.9)\n",
            "Requirement already satisfied: tenacity!=8.4.0,<10.0.0,>=8.1.0 in /usr/local/lib/python3.11/dist-packages (from langchain-core<0.4.0,>=0.3.37->langchain-google-genai) (9.0.0)\n",
            "Requirement already satisfied: jsonpatch<2.0,>=1.33 in /usr/local/lib/python3.11/dist-packages (from langchain-core<0.4.0,>=0.3.37->langchain-google-genai) (1.33)\n",
            "Requirement already satisfied: PyYAML>=5.3 in /usr/local/lib/python3.11/dist-packages (from langchain-core<0.4.0,>=0.3.37->langchain-google-genai) (6.0.2)\n",
            "Requirement already satisfied: packaging<25,>=23.2 in /usr/local/lib/python3.11/dist-packages (from langchain-core<0.4.0,>=0.3.37->langchain-google-genai) (24.2)\n",
            "Requirement already satisfied: typing-extensions>=4.7 in /usr/local/lib/python3.11/dist-packages (from langchain-core<0.4.0,>=0.3.37->langchain-google-genai) (4.12.2)\n",
            "Requirement already satisfied: annotated-types>=0.6.0 in /usr/local/lib/python3.11/dist-packages (from pydantic<3,>=2->langchain-google-genai) (0.7.0)\n",
            "Requirement already satisfied: pydantic-core==2.27.2 in /usr/local/lib/python3.11/dist-packages (from pydantic<3,>=2->langchain-google-genai) (2.27.2)\n",
            "Requirement already satisfied: googleapis-common-protos<2.0.dev0,>=1.56.2 in /usr/local/lib/python3.11/dist-packages (from google-api-core!=2.0.*,!=2.1.*,!=2.10.*,!=2.2.*,!=2.3.*,!=2.4.*,!=2.5.*,!=2.6.*,!=2.7.*,!=2.8.*,!=2.9.*,<3.0.0dev,>=1.34.1->google-api-core[grpc]!=2.0.*,!=2.1.*,!=2.10.*,!=2.2.*,!=2.3.*,!=2.4.*,!=2.5.*,!=2.6.*,!=2.7.*,!=2.8.*,!=2.9.*,<3.0.0dev,>=1.34.1->google-ai-generativelanguage<0.7.0,>=0.6.16->langchain-google-genai) (1.68.0)\n",
            "Requirement already satisfied: requests<3.0.0.dev0,>=2.18.0 in /usr/local/lib/python3.11/dist-packages (from google-api-core!=2.0.*,!=2.1.*,!=2.10.*,!=2.2.*,!=2.3.*,!=2.4.*,!=2.5.*,!=2.6.*,!=2.7.*,!=2.8.*,!=2.9.*,<3.0.0dev,>=1.34.1->google-api-core[grpc]!=2.0.*,!=2.1.*,!=2.10.*,!=2.2.*,!=2.3.*,!=2.4.*,!=2.5.*,!=2.6.*,!=2.7.*,!=2.8.*,!=2.9.*,<3.0.0dev,>=1.34.1->google-ai-generativelanguage<0.7.0,>=0.6.16->langchain-google-genai) (2.32.3)\n",
            "Requirement already satisfied: grpcio<2.0dev,>=1.33.2 in /usr/local/lib/python3.11/dist-packages (from google-api-core[grpc]!=2.0.*,!=2.1.*,!=2.10.*,!=2.2.*,!=2.3.*,!=2.4.*,!=2.5.*,!=2.6.*,!=2.7.*,!=2.8.*,!=2.9.*,<3.0.0dev,>=1.34.1->google-ai-generativelanguage<0.7.0,>=0.6.16->langchain-google-genai) (1.70.0)\n",
            "Requirement already satisfied: grpcio-status<2.0.dev0,>=1.33.2 in /usr/local/lib/python3.11/dist-packages (from google-api-core[grpc]!=2.0.*,!=2.1.*,!=2.10.*,!=2.2.*,!=2.3.*,!=2.4.*,!=2.5.*,!=2.6.*,!=2.7.*,!=2.8.*,!=2.9.*,<3.0.0dev,>=1.34.1->google-ai-generativelanguage<0.7.0,>=0.6.16->langchain-google-genai) (1.62.3)\n",
            "Requirement already satisfied: cachetools<6.0,>=2.0.0 in /usr/local/lib/python3.11/dist-packages (from google-auth!=2.24.0,!=2.25.0,<3.0.0dev,>=2.14.1->google-ai-generativelanguage<0.7.0,>=0.6.16->langchain-google-genai) (5.5.2)\n",
            "Requirement already satisfied: pyasn1-modules>=0.2.1 in /usr/local/lib/python3.11/dist-packages (from google-auth!=2.24.0,!=2.25.0,<3.0.0dev,>=2.14.1->google-ai-generativelanguage<0.7.0,>=0.6.16->langchain-google-genai) (0.4.1)\n",
            "Requirement already satisfied: rsa<5,>=3.1.4 in /usr/local/lib/python3.11/dist-packages (from google-auth!=2.24.0,!=2.25.0,<3.0.0dev,>=2.14.1->google-ai-generativelanguage<0.7.0,>=0.6.16->langchain-google-genai) (4.9)\n",
            "Requirement already satisfied: jsonpointer>=1.9 in /usr/local/lib/python3.11/dist-packages (from jsonpatch<2.0,>=1.33->langchain-core<0.4.0,>=0.3.37->langchain-google-genai) (3.0.0)\n",
            "Requirement already satisfied: httpx<1,>=0.23.0 in /usr/local/lib/python3.11/dist-packages (from langsmith<0.4,>=0.1.125->langchain-core<0.4.0,>=0.3.37->langchain-google-genai) (0.28.1)\n",
            "Requirement already satisfied: orjson<4.0.0,>=3.9.14 in /usr/local/lib/python3.11/dist-packages (from langsmith<0.4,>=0.1.125->langchain-core<0.4.0,>=0.3.37->langchain-google-genai) (3.10.15)\n",
            "Requirement already satisfied: requests-toolbelt<2.0.0,>=1.0.0 in /usr/local/lib/python3.11/dist-packages (from langsmith<0.4,>=0.1.125->langchain-core<0.4.0,>=0.3.37->langchain-google-genai) (1.0.0)\n",
            "Requirement already satisfied: zstandard<0.24.0,>=0.23.0 in /usr/local/lib/python3.11/dist-packages (from langsmith<0.4,>=0.1.125->langchain-core<0.4.0,>=0.3.37->langchain-google-genai) (0.23.0)\n",
            "Requirement already satisfied: anyio in /usr/local/lib/python3.11/dist-packages (from httpx<1,>=0.23.0->langsmith<0.4,>=0.1.125->langchain-core<0.4.0,>=0.3.37->langchain-google-genai) (3.7.1)\n",
            "Requirement already satisfied: certifi in /usr/local/lib/python3.11/dist-packages (from httpx<1,>=0.23.0->langsmith<0.4,>=0.1.125->langchain-core<0.4.0,>=0.3.37->langchain-google-genai) (2025.1.31)\n",
            "Requirement already satisfied: httpcore==1.* in /usr/local/lib/python3.11/dist-packages (from httpx<1,>=0.23.0->langsmith<0.4,>=0.1.125->langchain-core<0.4.0,>=0.3.37->langchain-google-genai) (1.0.7)\n",
            "Requirement already satisfied: idna in /usr/local/lib/python3.11/dist-packages (from httpx<1,>=0.23.0->langsmith<0.4,>=0.1.125->langchain-core<0.4.0,>=0.3.37->langchain-google-genai) (3.10)\n",
            "Requirement already satisfied: h11<0.15,>=0.13 in /usr/local/lib/python3.11/dist-packages (from httpcore==1.*->httpx<1,>=0.23.0->langsmith<0.4,>=0.1.125->langchain-core<0.4.0,>=0.3.37->langchain-google-genai) (0.14.0)\n",
            "Requirement already satisfied: pyasn1<0.7.0,>=0.4.6 in /usr/local/lib/python3.11/dist-packages (from pyasn1-modules>=0.2.1->google-auth!=2.24.0,!=2.25.0,<3.0.0dev,>=2.14.1->google-ai-generativelanguage<0.7.0,>=0.6.16->langchain-google-genai) (0.6.1)\n",
            "Requirement already satisfied: charset-normalizer<4,>=2 in /usr/local/lib/python3.11/dist-packages (from requests<3.0.0.dev0,>=2.18.0->google-api-core!=2.0.*,!=2.1.*,!=2.10.*,!=2.2.*,!=2.3.*,!=2.4.*,!=2.5.*,!=2.6.*,!=2.7.*,!=2.8.*,!=2.9.*,<3.0.0dev,>=1.34.1->google-api-core[grpc]!=2.0.*,!=2.1.*,!=2.10.*,!=2.2.*,!=2.3.*,!=2.4.*,!=2.5.*,!=2.6.*,!=2.7.*,!=2.8.*,!=2.9.*,<3.0.0dev,>=1.34.1->google-ai-generativelanguage<0.7.0,>=0.6.16->langchain-google-genai) (3.4.1)\n",
            "Requirement already satisfied: urllib3<3,>=1.21.1 in /usr/local/lib/python3.11/dist-packages (from requests<3.0.0.dev0,>=2.18.0->google-api-core!=2.0.*,!=2.1.*,!=2.10.*,!=2.2.*,!=2.3.*,!=2.4.*,!=2.5.*,!=2.6.*,!=2.7.*,!=2.8.*,!=2.9.*,<3.0.0dev,>=1.34.1->google-api-core[grpc]!=2.0.*,!=2.1.*,!=2.10.*,!=2.2.*,!=2.3.*,!=2.4.*,!=2.5.*,!=2.6.*,!=2.7.*,!=2.8.*,!=2.9.*,<3.0.0dev,>=1.34.1->google-ai-generativelanguage<0.7.0,>=0.6.16->langchain-google-genai) (2.3.0)\n",
            "Requirement already satisfied: sniffio>=1.1 in /usr/local/lib/python3.11/dist-packages (from anyio->httpx<1,>=0.23.0->langsmith<0.4,>=0.1.125->langchain-core<0.4.0,>=0.3.37->langchain-google-genai) (1.3.1)\n",
            "Downloading langchain_google_genai-2.0.11-py3-none-any.whl (39 kB)\n",
            "Downloading filetype-1.2.0-py2.py3-none-any.whl (19 kB)\n",
            "Downloading google_ai_generativelanguage-0.6.16-py3-none-any.whl (1.4 MB)\n",
            "\u001b[2K   \u001b[90m━━━━━━━━━━━━━━━━━━━━━━━━━━━━━━━━━━━━━━━━\u001b[0m \u001b[32m1.4/1.4 MB\u001b[0m \u001b[31m22.1 MB/s\u001b[0m eta \u001b[36m0:00:00\u001b[0m\n",
            "\u001b[?25hInstalling collected packages: filetype, google-ai-generativelanguage, langchain-google-genai\n",
            "  Attempting uninstall: google-ai-generativelanguage\n",
            "    Found existing installation: google-ai-generativelanguage 0.6.15\n",
            "    Uninstalling google-ai-generativelanguage-0.6.15:\n",
            "      Successfully uninstalled google-ai-generativelanguage-0.6.15\n",
            "\u001b[31mERROR: pip's dependency resolver does not currently take into account all the packages that are installed. This behaviour is the source of the following dependency conflicts.\n",
            "google-generativeai 0.8.4 requires google-ai-generativelanguage==0.6.15, but you have google-ai-generativelanguage 0.6.16 which is incompatible.\u001b[0m\u001b[31m\n",
            "\u001b[0mSuccessfully installed filetype-1.2.0 google-ai-generativelanguage-0.6.16 langchain-google-genai-2.0.11\n"
          ]
        },
        {
          "output_type": "display_data",
          "data": {
            "application/vnd.colab-display-data+json": {
              "pip_warning": {
                "packages": [
                  "google"
                ]
              },
              "id": "f2d3d0c9cc4940a889b47b6e2a6f984d"
            }
          },
          "metadata": {}
        }
      ]
    },
    {
      "cell_type": "code",
      "source": [
        "prompt_template_name = PromptTemplate(\n",
        "    input_variables = [\"country\"],\n",
        "    template=\"can you tell me the capital of {country}?\"\n",
        ")"
      ],
      "metadata": {
        "id": "tDlRFkxl-ffp"
      },
      "execution_count": 31,
      "outputs": []
    },
    {
      "cell_type": "code",
      "source": [
        "prompt1 = prompt_template_name.format(country=\"india\")"
      ],
      "metadata": {
        "id": "3j2-jkuj-m4h"
      },
      "execution_count": 32,
      "outputs": []
    },
    {
      "cell_type": "code",
      "source": [
        "prompt2 = prompt_template_name.format(country = 'china')"
      ],
      "metadata": {
        "id": "D1_CpMC5-RjX"
      },
      "execution_count": 33,
      "outputs": []
    },
    {
      "cell_type": "code",
      "source": [
        "# client,predict(propmt1).strip()"
      ],
      "metadata": {
        "id": "A1aeFK-SF9jb"
      },
      "execution_count": 34,
      "outputs": []
    },
    {
      "cell_type": "code",
      "source": [
        "response = client.models.generate_content(\n",
        "      model = 'gemini-2.0-flash' ,\n",
        "      contents = prompt1,\n",
        "    )\n",
        "print(response.text.strip())"
      ],
      "metadata": {
        "colab": {
          "base_uri": "https://localhost:8080/"
        },
        "id": "xvWvjTInGh14",
        "outputId": "a32847d0-bde4-4bbd-f49d-38d2227a78a0"
      },
      "execution_count": 35,
      "outputs": [
        {
          "output_type": "stream",
          "name": "stdout",
          "text": [
            "The capital of India is **New Delhi**.\n"
          ]
        }
      ]
    },
    {
      "cell_type": "code",
      "source": [
        "  prompt = PromptTemplate.from_template('what is a good name for a company makes a {product}')"
      ],
      "metadata": {
        "id": "3VKBFP85HS98"
      },
      "execution_count": 36,
      "outputs": []
    },
    {
      "cell_type": "code",
      "source": [
        "prompt3 = prompt.format(product = 'toys')"
      ],
      "metadata": {
        "id": "lIh33cM2Hwrv"
      },
      "execution_count": 37,
      "outputs": []
    },
    {
      "cell_type": "code",
      "source": [
        "response = client.models.generate_content(\n",
        "    model = 'gemini-2.0-flash',\n",
        "    contents = prompt3,\n",
        ")\n",
        "print(response.text.strip())"
      ],
      "metadata": {
        "colab": {
          "base_uri": "https://localhost:8080/"
        },
        "id": "RgkLw-3EIA5-",
        "outputId": "7a99dace-667d-4b60-f1c3-a09187590149"
      },
      "execution_count": 38,
      "outputs": [
        {
          "output_type": "stream",
          "name": "stdout",
          "text": [
            "Okay, to give you the *best* name, I need a little more information about the toys your company will make.  Tell me about:\n",
            "\n",
            "*   **Target Audience:** Who are you selling to? (Babies, toddlers, preschoolers, older kids, adults?)\n",
            "*   **Toy Type:** What kind of toys will you be making? (Educational toys, plush toys, construction toys, dolls, board games, outdoor toys, STEM toys, arts & crafts, etc.)\n",
            "*   **Brand Values:** What feeling or message do you want your brand to convey? (Fun, educational, imaginative, eco-friendly, innovative, classic, etc.)\n",
            "*   **Price Point:** Will your toys be budget-friendly, mid-range, or high-end?\n",
            "*   **Company Style:** Modern, whimsical, classic, serious?\n",
            "\n",
            "In the meantime, here are some general ideas, broken down by category:\n",
            "\n",
            "**General/Playful:**\n",
            "\n",
            "*   Playful Pals\n",
            "*   Toytopia\n",
            "*   Wonder Works Toys\n",
            "*   Giggle Gear\n",
            "*   Happy Haven Toys\n",
            "*   The Toy Box Co.\n",
            "*   Playtime Productions\n",
            "*   Whimsy & Wonder Toys\n",
            "*   Joyful Junction Toys\n",
            "*   Imagination Station\n",
            "\n",
            "**Creative/Imaginative:**\n",
            "\n",
            "*   Dream Weaver Toys\n",
            "*   Story Spark Toys\n",
            "*   Imagineering Labs\n",
            "*   The Creative Cubby\n",
            "*   Kaleidoscope Toys\n",
            "*   Enchanted Emporium Toys\n",
            "*   Artful Antics\n",
            "*   The Imagination Factory\n",
            "*   Create & Play Co.\n",
            "*   Future Foundry Toys\n",
            "\n",
            "**Educational/Smart:**\n",
            "\n",
            "*   Brainy Blocks\n",
            "*   Clever Creations\n",
            "*   Little Learners Toys\n",
            "*   Smart Start Toys\n",
            "*   Curiosity Corner\n",
            "*   Explore & Learn Toys\n",
            "*   The Knowledge Nook\n",
            "*   Discovery Den Toys\n",
            "*   Think Tank Toys\n",
            "*   Future Genius Toys\n",
            "\n",
            "**Nature-Inspired/Eco-Friendly:**\n",
            "\n",
            "*   Green Sprout Toys\n",
            "*   Woodland Wonders\n",
            "*   Earthbound Toys\n",
            "*   The Nature Nook\n",
            "*   Little Acorn Toys\n",
            "*   Branch & Bloom Toys\n",
            "*   Rooted in Play\n",
            "*   Sustainable Smiles\n",
            "*   Eco-Play Co.\n",
            "*   The Giving Tree Toys\n",
            "\n",
            "**Modern/Minimalist:**\n",
            "\n",
            "*   Play Haus\n",
            "*   Toy Lab\n",
            "*   The Play Co.\n",
            "*   Modern Play\n",
            "*   Form & Function Toys\n",
            "*   Object Play\n",
            "*   The Minimalist Toy\n",
            "*   Simple Joys Toys\n",
            "*   Studio Play\n",
            "*   Kindred Play\n",
            "\n",
            "**Using Your Name (or a Character Name):**\n",
            "\n",
            "*   (Your Last Name) Toys\n",
            "*   (Your First Name) & Co. Toys\n",
            "*   (Character Name) Creations\n",
            "*   The (Character Name) Collection\n",
            "\n",
            "**Tips for Choosing:**\n",
            "\n",
            "*   **Keep it Short and Memorable:** Easy to say, spell, and remember.\n",
            "*   **Check Availability:** Make sure the name and a related domain name (.com, .net, etc.) are available. Also, check for trademark conflicts.\n",
            "*   **Say it Out Loud:** Does it sound good?\n",
            "*   **Get Feedback:** Ask friends, family, or potential customers what they think.\n",
            "*   **Consider a Tagline:** A short phrase that complements the name and explains what you do (e.g., \"Wonder Works Toys: Building Imaginations\").\n",
            "\n",
            "Once you give me a little more information, I can give you more tailored suggestions.\n"
          ]
        }
      ]
    },
    {
      "cell_type": "markdown",
      "source": [
        "### Summarize large documents using langchain"
      ],
      "metadata": {
        "id": "uHCFBREG8n3B"
      }
    },
    {
      "cell_type": "code",
      "source": [
        "!pip install langchain-core\n",
        "!pip install langchain\n",
        "!pip install langchain-google-genai\n",
        "!pip install langchain-community"
      ],
      "metadata": {
        "colab": {
          "base_uri": "https://localhost:8080/"
        },
        "id": "e3PRpqTu0gUy",
        "outputId": "7869b8d4-3369-4731-f75f-9f26d3cff063"
      },
      "execution_count": 39,
      "outputs": [
        {
          "output_type": "stream",
          "name": "stdout",
          "text": [
            "Requirement already satisfied: langchain-core in /usr/local/lib/python3.11/dist-packages (0.3.37)\n",
            "Requirement already satisfied: langsmith<0.4,>=0.1.125 in /usr/local/lib/python3.11/dist-packages (from langchain-core) (0.3.9)\n",
            "Requirement already satisfied: tenacity!=8.4.0,<10.0.0,>=8.1.0 in /usr/local/lib/python3.11/dist-packages (from langchain-core) (9.0.0)\n",
            "Requirement already satisfied: jsonpatch<2.0,>=1.33 in /usr/local/lib/python3.11/dist-packages (from langchain-core) (1.33)\n",
            "Requirement already satisfied: PyYAML>=5.3 in /usr/local/lib/python3.11/dist-packages (from langchain-core) (6.0.2)\n",
            "Requirement already satisfied: packaging<25,>=23.2 in /usr/local/lib/python3.11/dist-packages (from langchain-core) (24.2)\n",
            "Requirement already satisfied: typing-extensions>=4.7 in /usr/local/lib/python3.11/dist-packages (from langchain-core) (4.12.2)\n",
            "Requirement already satisfied: pydantic<3.0.0,>=2.5.2 in /usr/local/lib/python3.11/dist-packages (from langchain-core) (2.10.6)\n",
            "Requirement already satisfied: jsonpointer>=1.9 in /usr/local/lib/python3.11/dist-packages (from jsonpatch<2.0,>=1.33->langchain-core) (3.0.0)\n",
            "Requirement already satisfied: httpx<1,>=0.23.0 in /usr/local/lib/python3.11/dist-packages (from langsmith<0.4,>=0.1.125->langchain-core) (0.28.1)\n",
            "Requirement already satisfied: orjson<4.0.0,>=3.9.14 in /usr/local/lib/python3.11/dist-packages (from langsmith<0.4,>=0.1.125->langchain-core) (3.10.15)\n",
            "Requirement already satisfied: requests<3,>=2 in /usr/local/lib/python3.11/dist-packages (from langsmith<0.4,>=0.1.125->langchain-core) (2.32.3)\n",
            "Requirement already satisfied: requests-toolbelt<2.0.0,>=1.0.0 in /usr/local/lib/python3.11/dist-packages (from langsmith<0.4,>=0.1.125->langchain-core) (1.0.0)\n",
            "Requirement already satisfied: zstandard<0.24.0,>=0.23.0 in /usr/local/lib/python3.11/dist-packages (from langsmith<0.4,>=0.1.125->langchain-core) (0.23.0)\n",
            "Requirement already satisfied: annotated-types>=0.6.0 in /usr/local/lib/python3.11/dist-packages (from pydantic<3.0.0,>=2.5.2->langchain-core) (0.7.0)\n",
            "Requirement already satisfied: pydantic-core==2.27.2 in /usr/local/lib/python3.11/dist-packages (from pydantic<3.0.0,>=2.5.2->langchain-core) (2.27.2)\n",
            "Requirement already satisfied: anyio in /usr/local/lib/python3.11/dist-packages (from httpx<1,>=0.23.0->langsmith<0.4,>=0.1.125->langchain-core) (3.7.1)\n",
            "Requirement already satisfied: certifi in /usr/local/lib/python3.11/dist-packages (from httpx<1,>=0.23.0->langsmith<0.4,>=0.1.125->langchain-core) (2025.1.31)\n",
            "Requirement already satisfied: httpcore==1.* in /usr/local/lib/python3.11/dist-packages (from httpx<1,>=0.23.0->langsmith<0.4,>=0.1.125->langchain-core) (1.0.7)\n",
            "Requirement already satisfied: idna in /usr/local/lib/python3.11/dist-packages (from httpx<1,>=0.23.0->langsmith<0.4,>=0.1.125->langchain-core) (3.10)\n",
            "Requirement already satisfied: h11<0.15,>=0.13 in /usr/local/lib/python3.11/dist-packages (from httpcore==1.*->httpx<1,>=0.23.0->langsmith<0.4,>=0.1.125->langchain-core) (0.14.0)\n",
            "Requirement already satisfied: charset-normalizer<4,>=2 in /usr/local/lib/python3.11/dist-packages (from requests<3,>=2->langsmith<0.4,>=0.1.125->langchain-core) (3.4.1)\n",
            "Requirement already satisfied: urllib3<3,>=1.21.1 in /usr/local/lib/python3.11/dist-packages (from requests<3,>=2->langsmith<0.4,>=0.1.125->langchain-core) (2.3.0)\n",
            "Requirement already satisfied: sniffio>=1.1 in /usr/local/lib/python3.11/dist-packages (from anyio->httpx<1,>=0.23.0->langsmith<0.4,>=0.1.125->langchain-core) (1.3.1)\n",
            "Requirement already satisfied: langchain in /usr/local/lib/python3.11/dist-packages (0.3.19)\n",
            "Requirement already satisfied: langchain-core<1.0.0,>=0.3.35 in /usr/local/lib/python3.11/dist-packages (from langchain) (0.3.37)\n",
            "Requirement already satisfied: langchain-text-splitters<1.0.0,>=0.3.6 in /usr/local/lib/python3.11/dist-packages (from langchain) (0.3.6)\n",
            "Requirement already satisfied: langsmith<0.4,>=0.1.17 in /usr/local/lib/python3.11/dist-packages (from langchain) (0.3.9)\n",
            "Requirement already satisfied: pydantic<3.0.0,>=2.7.4 in /usr/local/lib/python3.11/dist-packages (from langchain) (2.10.6)\n",
            "Requirement already satisfied: SQLAlchemy<3,>=1.4 in /usr/local/lib/python3.11/dist-packages (from langchain) (2.0.38)\n",
            "Requirement already satisfied: requests<3,>=2 in /usr/local/lib/python3.11/dist-packages (from langchain) (2.32.3)\n",
            "Requirement already satisfied: PyYAML>=5.3 in /usr/local/lib/python3.11/dist-packages (from langchain) (6.0.2)\n",
            "Requirement already satisfied: aiohttp<4.0.0,>=3.8.3 in /usr/local/lib/python3.11/dist-packages (from langchain) (3.11.12)\n",
            "Requirement already satisfied: tenacity!=8.4.0,<10,>=8.1.0 in /usr/local/lib/python3.11/dist-packages (from langchain) (9.0.0)\n",
            "Requirement already satisfied: numpy<2,>=1.26.4 in /usr/local/lib/python3.11/dist-packages (from langchain) (1.26.4)\n",
            "Requirement already satisfied: aiohappyeyeballs>=2.3.0 in /usr/local/lib/python3.11/dist-packages (from aiohttp<4.0.0,>=3.8.3->langchain) (2.4.6)\n",
            "Requirement already satisfied: aiosignal>=1.1.2 in /usr/local/lib/python3.11/dist-packages (from aiohttp<4.0.0,>=3.8.3->langchain) (1.3.2)\n",
            "Requirement already satisfied: attrs>=17.3.0 in /usr/local/lib/python3.11/dist-packages (from aiohttp<4.0.0,>=3.8.3->langchain) (25.1.0)\n",
            "Requirement already satisfied: frozenlist>=1.1.1 in /usr/local/lib/python3.11/dist-packages (from aiohttp<4.0.0,>=3.8.3->langchain) (1.5.0)\n",
            "Requirement already satisfied: multidict<7.0,>=4.5 in /usr/local/lib/python3.11/dist-packages (from aiohttp<4.0.0,>=3.8.3->langchain) (6.1.0)\n",
            "Requirement already satisfied: propcache>=0.2.0 in /usr/local/lib/python3.11/dist-packages (from aiohttp<4.0.0,>=3.8.3->langchain) (0.3.0)\n",
            "Requirement already satisfied: yarl<2.0,>=1.17.0 in /usr/local/lib/python3.11/dist-packages (from aiohttp<4.0.0,>=3.8.3->langchain) (1.18.3)\n",
            "Requirement already satisfied: jsonpatch<2.0,>=1.33 in /usr/local/lib/python3.11/dist-packages (from langchain-core<1.0.0,>=0.3.35->langchain) (1.33)\n",
            "Requirement already satisfied: packaging<25,>=23.2 in /usr/local/lib/python3.11/dist-packages (from langchain-core<1.0.0,>=0.3.35->langchain) (24.2)\n",
            "Requirement already satisfied: typing-extensions>=4.7 in /usr/local/lib/python3.11/dist-packages (from langchain-core<1.0.0,>=0.3.35->langchain) (4.12.2)\n",
            "Requirement already satisfied: httpx<1,>=0.23.0 in /usr/local/lib/python3.11/dist-packages (from langsmith<0.4,>=0.1.17->langchain) (0.28.1)\n",
            "Requirement already satisfied: orjson<4.0.0,>=3.9.14 in /usr/local/lib/python3.11/dist-packages (from langsmith<0.4,>=0.1.17->langchain) (3.10.15)\n",
            "Requirement already satisfied: requests-toolbelt<2.0.0,>=1.0.0 in /usr/local/lib/python3.11/dist-packages (from langsmith<0.4,>=0.1.17->langchain) (1.0.0)\n",
            "Requirement already satisfied: zstandard<0.24.0,>=0.23.0 in /usr/local/lib/python3.11/dist-packages (from langsmith<0.4,>=0.1.17->langchain) (0.23.0)\n",
            "Requirement already satisfied: annotated-types>=0.6.0 in /usr/local/lib/python3.11/dist-packages (from pydantic<3.0.0,>=2.7.4->langchain) (0.7.0)\n",
            "Requirement already satisfied: pydantic-core==2.27.2 in /usr/local/lib/python3.11/dist-packages (from pydantic<3.0.0,>=2.7.4->langchain) (2.27.2)\n",
            "Requirement already satisfied: charset-normalizer<4,>=2 in /usr/local/lib/python3.11/dist-packages (from requests<3,>=2->langchain) (3.4.1)\n",
            "Requirement already satisfied: idna<4,>=2.5 in /usr/local/lib/python3.11/dist-packages (from requests<3,>=2->langchain) (3.10)\n",
            "Requirement already satisfied: urllib3<3,>=1.21.1 in /usr/local/lib/python3.11/dist-packages (from requests<3,>=2->langchain) (2.3.0)\n",
            "Requirement already satisfied: certifi>=2017.4.17 in /usr/local/lib/python3.11/dist-packages (from requests<3,>=2->langchain) (2025.1.31)\n",
            "Requirement already satisfied: greenlet!=0.4.17 in /usr/local/lib/python3.11/dist-packages (from SQLAlchemy<3,>=1.4->langchain) (3.1.1)\n",
            "Requirement already satisfied: anyio in /usr/local/lib/python3.11/dist-packages (from httpx<1,>=0.23.0->langsmith<0.4,>=0.1.17->langchain) (3.7.1)\n",
            "Requirement already satisfied: httpcore==1.* in /usr/local/lib/python3.11/dist-packages (from httpx<1,>=0.23.0->langsmith<0.4,>=0.1.17->langchain) (1.0.7)\n",
            "Requirement already satisfied: h11<0.15,>=0.13 in /usr/local/lib/python3.11/dist-packages (from httpcore==1.*->httpx<1,>=0.23.0->langsmith<0.4,>=0.1.17->langchain) (0.14.0)\n",
            "Requirement already satisfied: jsonpointer>=1.9 in /usr/local/lib/python3.11/dist-packages (from jsonpatch<2.0,>=1.33->langchain-core<1.0.0,>=0.3.35->langchain) (3.0.0)\n",
            "Requirement already satisfied: sniffio>=1.1 in /usr/local/lib/python3.11/dist-packages (from anyio->httpx<1,>=0.23.0->langsmith<0.4,>=0.1.17->langchain) (1.3.1)\n",
            "Requirement already satisfied: langchain-google-genai in /usr/local/lib/python3.11/dist-packages (2.0.11)\n",
            "Requirement already satisfied: filetype<2.0.0,>=1.2.0 in /usr/local/lib/python3.11/dist-packages (from langchain-google-genai) (1.2.0)\n",
            "Requirement already satisfied: google-ai-generativelanguage<0.7.0,>=0.6.16 in /usr/local/lib/python3.11/dist-packages (from langchain-google-genai) (0.6.16)\n",
            "Requirement already satisfied: langchain-core<0.4.0,>=0.3.37 in /usr/local/lib/python3.11/dist-packages (from langchain-google-genai) (0.3.37)\n",
            "Requirement already satisfied: pydantic<3,>=2 in /usr/local/lib/python3.11/dist-packages (from langchain-google-genai) (2.10.6)\n",
            "Requirement already satisfied: google-api-core!=2.0.*,!=2.1.*,!=2.10.*,!=2.2.*,!=2.3.*,!=2.4.*,!=2.5.*,!=2.6.*,!=2.7.*,!=2.8.*,!=2.9.*,<3.0.0dev,>=1.34.1 in /usr/local/lib/python3.11/dist-packages (from google-api-core[grpc]!=2.0.*,!=2.1.*,!=2.10.*,!=2.2.*,!=2.3.*,!=2.4.*,!=2.5.*,!=2.6.*,!=2.7.*,!=2.8.*,!=2.9.*,<3.0.0dev,>=1.34.1->google-ai-generativelanguage<0.7.0,>=0.6.16->langchain-google-genai) (2.24.1)\n",
            "Requirement already satisfied: google-auth!=2.24.0,!=2.25.0,<3.0.0dev,>=2.14.1 in /usr/local/lib/python3.11/dist-packages (from google-ai-generativelanguage<0.7.0,>=0.6.16->langchain-google-genai) (2.27.0)\n",
            "Requirement already satisfied: proto-plus<2.0.0dev,>=1.22.3 in /usr/local/lib/python3.11/dist-packages (from google-ai-generativelanguage<0.7.0,>=0.6.16->langchain-google-genai) (1.26.0)\n",
            "Requirement already satisfied: protobuf!=4.21.0,!=4.21.1,!=4.21.2,!=4.21.3,!=4.21.4,!=4.21.5,<6.0.0dev,>=3.20.2 in /usr/local/lib/python3.11/dist-packages (from google-ai-generativelanguage<0.7.0,>=0.6.16->langchain-google-genai) (4.25.6)\n",
            "Requirement already satisfied: langsmith<0.4,>=0.1.125 in /usr/local/lib/python3.11/dist-packages (from langchain-core<0.4.0,>=0.3.37->langchain-google-genai) (0.3.9)\n",
            "Requirement already satisfied: tenacity!=8.4.0,<10.0.0,>=8.1.0 in /usr/local/lib/python3.11/dist-packages (from langchain-core<0.4.0,>=0.3.37->langchain-google-genai) (9.0.0)\n",
            "Requirement already satisfied: jsonpatch<2.0,>=1.33 in /usr/local/lib/python3.11/dist-packages (from langchain-core<0.4.0,>=0.3.37->langchain-google-genai) (1.33)\n",
            "Requirement already satisfied: PyYAML>=5.3 in /usr/local/lib/python3.11/dist-packages (from langchain-core<0.4.0,>=0.3.37->langchain-google-genai) (6.0.2)\n",
            "Requirement already satisfied: packaging<25,>=23.2 in /usr/local/lib/python3.11/dist-packages (from langchain-core<0.4.0,>=0.3.37->langchain-google-genai) (24.2)\n",
            "Requirement already satisfied: typing-extensions>=4.7 in /usr/local/lib/python3.11/dist-packages (from langchain-core<0.4.0,>=0.3.37->langchain-google-genai) (4.12.2)\n",
            "Requirement already satisfied: annotated-types>=0.6.0 in /usr/local/lib/python3.11/dist-packages (from pydantic<3,>=2->langchain-google-genai) (0.7.0)\n",
            "Requirement already satisfied: pydantic-core==2.27.2 in /usr/local/lib/python3.11/dist-packages (from pydantic<3,>=2->langchain-google-genai) (2.27.2)\n",
            "Requirement already satisfied: googleapis-common-protos<2.0.dev0,>=1.56.2 in /usr/local/lib/python3.11/dist-packages (from google-api-core!=2.0.*,!=2.1.*,!=2.10.*,!=2.2.*,!=2.3.*,!=2.4.*,!=2.5.*,!=2.6.*,!=2.7.*,!=2.8.*,!=2.9.*,<3.0.0dev,>=1.34.1->google-api-core[grpc]!=2.0.*,!=2.1.*,!=2.10.*,!=2.2.*,!=2.3.*,!=2.4.*,!=2.5.*,!=2.6.*,!=2.7.*,!=2.8.*,!=2.9.*,<3.0.0dev,>=1.34.1->google-ai-generativelanguage<0.7.0,>=0.6.16->langchain-google-genai) (1.68.0)\n",
            "Requirement already satisfied: requests<3.0.0.dev0,>=2.18.0 in /usr/local/lib/python3.11/dist-packages (from google-api-core!=2.0.*,!=2.1.*,!=2.10.*,!=2.2.*,!=2.3.*,!=2.4.*,!=2.5.*,!=2.6.*,!=2.7.*,!=2.8.*,!=2.9.*,<3.0.0dev,>=1.34.1->google-api-core[grpc]!=2.0.*,!=2.1.*,!=2.10.*,!=2.2.*,!=2.3.*,!=2.4.*,!=2.5.*,!=2.6.*,!=2.7.*,!=2.8.*,!=2.9.*,<3.0.0dev,>=1.34.1->google-ai-generativelanguage<0.7.0,>=0.6.16->langchain-google-genai) (2.32.3)\n",
            "Requirement already satisfied: grpcio<2.0dev,>=1.33.2 in /usr/local/lib/python3.11/dist-packages (from google-api-core[grpc]!=2.0.*,!=2.1.*,!=2.10.*,!=2.2.*,!=2.3.*,!=2.4.*,!=2.5.*,!=2.6.*,!=2.7.*,!=2.8.*,!=2.9.*,<3.0.0dev,>=1.34.1->google-ai-generativelanguage<0.7.0,>=0.6.16->langchain-google-genai) (1.70.0)\n",
            "Requirement already satisfied: grpcio-status<2.0.dev0,>=1.33.2 in /usr/local/lib/python3.11/dist-packages (from google-api-core[grpc]!=2.0.*,!=2.1.*,!=2.10.*,!=2.2.*,!=2.3.*,!=2.4.*,!=2.5.*,!=2.6.*,!=2.7.*,!=2.8.*,!=2.9.*,<3.0.0dev,>=1.34.1->google-ai-generativelanguage<0.7.0,>=0.6.16->langchain-google-genai) (1.62.3)\n",
            "Requirement already satisfied: cachetools<6.0,>=2.0.0 in /usr/local/lib/python3.11/dist-packages (from google-auth!=2.24.0,!=2.25.0,<3.0.0dev,>=2.14.1->google-ai-generativelanguage<0.7.0,>=0.6.16->langchain-google-genai) (5.5.2)\n",
            "Requirement already satisfied: pyasn1-modules>=0.2.1 in /usr/local/lib/python3.11/dist-packages (from google-auth!=2.24.0,!=2.25.0,<3.0.0dev,>=2.14.1->google-ai-generativelanguage<0.7.0,>=0.6.16->langchain-google-genai) (0.4.1)\n",
            "Requirement already satisfied: rsa<5,>=3.1.4 in /usr/local/lib/python3.11/dist-packages (from google-auth!=2.24.0,!=2.25.0,<3.0.0dev,>=2.14.1->google-ai-generativelanguage<0.7.0,>=0.6.16->langchain-google-genai) (4.9)\n",
            "Requirement already satisfied: jsonpointer>=1.9 in /usr/local/lib/python3.11/dist-packages (from jsonpatch<2.0,>=1.33->langchain-core<0.4.0,>=0.3.37->langchain-google-genai) (3.0.0)\n",
            "Requirement already satisfied: httpx<1,>=0.23.0 in /usr/local/lib/python3.11/dist-packages (from langsmith<0.4,>=0.1.125->langchain-core<0.4.0,>=0.3.37->langchain-google-genai) (0.28.1)\n",
            "Requirement already satisfied: orjson<4.0.0,>=3.9.14 in /usr/local/lib/python3.11/dist-packages (from langsmith<0.4,>=0.1.125->langchain-core<0.4.0,>=0.3.37->langchain-google-genai) (3.10.15)\n",
            "Requirement already satisfied: requests-toolbelt<2.0.0,>=1.0.0 in /usr/local/lib/python3.11/dist-packages (from langsmith<0.4,>=0.1.125->langchain-core<0.4.0,>=0.3.37->langchain-google-genai) (1.0.0)\n",
            "Requirement already satisfied: zstandard<0.24.0,>=0.23.0 in /usr/local/lib/python3.11/dist-packages (from langsmith<0.4,>=0.1.125->langchain-core<0.4.0,>=0.3.37->langchain-google-genai) (0.23.0)\n",
            "Requirement already satisfied: anyio in /usr/local/lib/python3.11/dist-packages (from httpx<1,>=0.23.0->langsmith<0.4,>=0.1.125->langchain-core<0.4.0,>=0.3.37->langchain-google-genai) (3.7.1)\n",
            "Requirement already satisfied: certifi in /usr/local/lib/python3.11/dist-packages (from httpx<1,>=0.23.0->langsmith<0.4,>=0.1.125->langchain-core<0.4.0,>=0.3.37->langchain-google-genai) (2025.1.31)\n",
            "Requirement already satisfied: httpcore==1.* in /usr/local/lib/python3.11/dist-packages (from httpx<1,>=0.23.0->langsmith<0.4,>=0.1.125->langchain-core<0.4.0,>=0.3.37->langchain-google-genai) (1.0.7)\n",
            "Requirement already satisfied: idna in /usr/local/lib/python3.11/dist-packages (from httpx<1,>=0.23.0->langsmith<0.4,>=0.1.125->langchain-core<0.4.0,>=0.3.37->langchain-google-genai) (3.10)\n",
            "Requirement already satisfied: h11<0.15,>=0.13 in /usr/local/lib/python3.11/dist-packages (from httpcore==1.*->httpx<1,>=0.23.0->langsmith<0.4,>=0.1.125->langchain-core<0.4.0,>=0.3.37->langchain-google-genai) (0.14.0)\n",
            "Requirement already satisfied: pyasn1<0.7.0,>=0.4.6 in /usr/local/lib/python3.11/dist-packages (from pyasn1-modules>=0.2.1->google-auth!=2.24.0,!=2.25.0,<3.0.0dev,>=2.14.1->google-ai-generativelanguage<0.7.0,>=0.6.16->langchain-google-genai) (0.6.1)\n",
            "Requirement already satisfied: charset-normalizer<4,>=2 in /usr/local/lib/python3.11/dist-packages (from requests<3.0.0.dev0,>=2.18.0->google-api-core!=2.0.*,!=2.1.*,!=2.10.*,!=2.2.*,!=2.3.*,!=2.4.*,!=2.5.*,!=2.6.*,!=2.7.*,!=2.8.*,!=2.9.*,<3.0.0dev,>=1.34.1->google-api-core[grpc]!=2.0.*,!=2.1.*,!=2.10.*,!=2.2.*,!=2.3.*,!=2.4.*,!=2.5.*,!=2.6.*,!=2.7.*,!=2.8.*,!=2.9.*,<3.0.0dev,>=1.34.1->google-ai-generativelanguage<0.7.0,>=0.6.16->langchain-google-genai) (3.4.1)\n",
            "Requirement already satisfied: urllib3<3,>=1.21.1 in /usr/local/lib/python3.11/dist-packages (from requests<3.0.0.dev0,>=2.18.0->google-api-core!=2.0.*,!=2.1.*,!=2.10.*,!=2.2.*,!=2.3.*,!=2.4.*,!=2.5.*,!=2.6.*,!=2.7.*,!=2.8.*,!=2.9.*,<3.0.0dev,>=1.34.1->google-api-core[grpc]!=2.0.*,!=2.1.*,!=2.10.*,!=2.2.*,!=2.3.*,!=2.4.*,!=2.5.*,!=2.6.*,!=2.7.*,!=2.8.*,!=2.9.*,<3.0.0dev,>=1.34.1->google-ai-generativelanguage<0.7.0,>=0.6.16->langchain-google-genai) (2.3.0)\n",
            "Requirement already satisfied: sniffio>=1.1 in /usr/local/lib/python3.11/dist-packages (from anyio->httpx<1,>=0.23.0->langsmith<0.4,>=0.1.125->langchain-core<0.4.0,>=0.3.37->langchain-google-genai) (1.3.1)\n",
            "Collecting langchain-community\n",
            "  Downloading langchain_community-0.3.18-py3-none-any.whl.metadata (2.4 kB)\n",
            "Requirement already satisfied: langchain-core<1.0.0,>=0.3.37 in /usr/local/lib/python3.11/dist-packages (from langchain-community) (0.3.37)\n",
            "Requirement already satisfied: langchain<1.0.0,>=0.3.19 in /usr/local/lib/python3.11/dist-packages (from langchain-community) (0.3.19)\n",
            "Requirement already satisfied: SQLAlchemy<3,>=1.4 in /usr/local/lib/python3.11/dist-packages (from langchain-community) (2.0.38)\n",
            "Requirement already satisfied: requests<3,>=2 in /usr/local/lib/python3.11/dist-packages (from langchain-community) (2.32.3)\n",
            "Requirement already satisfied: PyYAML>=5.3 in /usr/local/lib/python3.11/dist-packages (from langchain-community) (6.0.2)\n",
            "Requirement already satisfied: aiohttp<4.0.0,>=3.8.3 in /usr/local/lib/python3.11/dist-packages (from langchain-community) (3.11.12)\n",
            "Requirement already satisfied: tenacity!=8.4.0,<10,>=8.1.0 in /usr/local/lib/python3.11/dist-packages (from langchain-community) (9.0.0)\n",
            "Collecting dataclasses-json<0.7,>=0.5.7 (from langchain-community)\n",
            "  Downloading dataclasses_json-0.6.7-py3-none-any.whl.metadata (25 kB)\n",
            "Collecting pydantic-settings<3.0.0,>=2.4.0 (from langchain-community)\n",
            "  Downloading pydantic_settings-2.8.0-py3-none-any.whl.metadata (3.5 kB)\n",
            "Requirement already satisfied: langsmith<0.4,>=0.1.125 in /usr/local/lib/python3.11/dist-packages (from langchain-community) (0.3.9)\n",
            "Collecting httpx-sse<1.0.0,>=0.4.0 (from langchain-community)\n",
            "  Downloading httpx_sse-0.4.0-py3-none-any.whl.metadata (9.0 kB)\n",
            "Requirement already satisfied: numpy<2,>=1.26.4 in /usr/local/lib/python3.11/dist-packages (from langchain-community) (1.26.4)\n",
            "Requirement already satisfied: aiohappyeyeballs>=2.3.0 in /usr/local/lib/python3.11/dist-packages (from aiohttp<4.0.0,>=3.8.3->langchain-community) (2.4.6)\n",
            "Requirement already satisfied: aiosignal>=1.1.2 in /usr/local/lib/python3.11/dist-packages (from aiohttp<4.0.0,>=3.8.3->langchain-community) (1.3.2)\n",
            "Requirement already satisfied: attrs>=17.3.0 in /usr/local/lib/python3.11/dist-packages (from aiohttp<4.0.0,>=3.8.3->langchain-community) (25.1.0)\n",
            "Requirement already satisfied: frozenlist>=1.1.1 in /usr/local/lib/python3.11/dist-packages (from aiohttp<4.0.0,>=3.8.3->langchain-community) (1.5.0)\n",
            "Requirement already satisfied: multidict<7.0,>=4.5 in /usr/local/lib/python3.11/dist-packages (from aiohttp<4.0.0,>=3.8.3->langchain-community) (6.1.0)\n",
            "Requirement already satisfied: propcache>=0.2.0 in /usr/local/lib/python3.11/dist-packages (from aiohttp<4.0.0,>=3.8.3->langchain-community) (0.3.0)\n",
            "Requirement already satisfied: yarl<2.0,>=1.17.0 in /usr/local/lib/python3.11/dist-packages (from aiohttp<4.0.0,>=3.8.3->langchain-community) (1.18.3)\n",
            "Collecting marshmallow<4.0.0,>=3.18.0 (from dataclasses-json<0.7,>=0.5.7->langchain-community)\n",
            "  Downloading marshmallow-3.26.1-py3-none-any.whl.metadata (7.3 kB)\n",
            "Collecting typing-inspect<1,>=0.4.0 (from dataclasses-json<0.7,>=0.5.7->langchain-community)\n",
            "  Downloading typing_inspect-0.9.0-py3-none-any.whl.metadata (1.5 kB)\n",
            "Requirement already satisfied: langchain-text-splitters<1.0.0,>=0.3.6 in /usr/local/lib/python3.11/dist-packages (from langchain<1.0.0,>=0.3.19->langchain-community) (0.3.6)\n",
            "Requirement already satisfied: pydantic<3.0.0,>=2.7.4 in /usr/local/lib/python3.11/dist-packages (from langchain<1.0.0,>=0.3.19->langchain-community) (2.10.6)\n",
            "Requirement already satisfied: jsonpatch<2.0,>=1.33 in /usr/local/lib/python3.11/dist-packages (from langchain-core<1.0.0,>=0.3.37->langchain-community) (1.33)\n",
            "Requirement already satisfied: packaging<25,>=23.2 in /usr/local/lib/python3.11/dist-packages (from langchain-core<1.0.0,>=0.3.37->langchain-community) (24.2)\n",
            "Requirement already satisfied: typing-extensions>=4.7 in /usr/local/lib/python3.11/dist-packages (from langchain-core<1.0.0,>=0.3.37->langchain-community) (4.12.2)\n",
            "Requirement already satisfied: httpx<1,>=0.23.0 in /usr/local/lib/python3.11/dist-packages (from langsmith<0.4,>=0.1.125->langchain-community) (0.28.1)\n",
            "Requirement already satisfied: orjson<4.0.0,>=3.9.14 in /usr/local/lib/python3.11/dist-packages (from langsmith<0.4,>=0.1.125->langchain-community) (3.10.15)\n",
            "Requirement already satisfied: requests-toolbelt<2.0.0,>=1.0.0 in /usr/local/lib/python3.11/dist-packages (from langsmith<0.4,>=0.1.125->langchain-community) (1.0.0)\n",
            "Requirement already satisfied: zstandard<0.24.0,>=0.23.0 in /usr/local/lib/python3.11/dist-packages (from langsmith<0.4,>=0.1.125->langchain-community) (0.23.0)\n",
            "Collecting python-dotenv>=0.21.0 (from pydantic-settings<3.0.0,>=2.4.0->langchain-community)\n",
            "  Downloading python_dotenv-1.0.1-py3-none-any.whl.metadata (23 kB)\n",
            "Requirement already satisfied: charset-normalizer<4,>=2 in /usr/local/lib/python3.11/dist-packages (from requests<3,>=2->langchain-community) (3.4.1)\n",
            "Requirement already satisfied: idna<4,>=2.5 in /usr/local/lib/python3.11/dist-packages (from requests<3,>=2->langchain-community) (3.10)\n",
            "Requirement already satisfied: urllib3<3,>=1.21.1 in /usr/local/lib/python3.11/dist-packages (from requests<3,>=2->langchain-community) (2.3.0)\n",
            "Requirement already satisfied: certifi>=2017.4.17 in /usr/local/lib/python3.11/dist-packages (from requests<3,>=2->langchain-community) (2025.1.31)\n",
            "Requirement already satisfied: greenlet!=0.4.17 in /usr/local/lib/python3.11/dist-packages (from SQLAlchemy<3,>=1.4->langchain-community) (3.1.1)\n",
            "Requirement already satisfied: anyio in /usr/local/lib/python3.11/dist-packages (from httpx<1,>=0.23.0->langsmith<0.4,>=0.1.125->langchain-community) (3.7.1)\n",
            "Requirement already satisfied: httpcore==1.* in /usr/local/lib/python3.11/dist-packages (from httpx<1,>=0.23.0->langsmith<0.4,>=0.1.125->langchain-community) (1.0.7)\n",
            "Requirement already satisfied: h11<0.15,>=0.13 in /usr/local/lib/python3.11/dist-packages (from httpcore==1.*->httpx<1,>=0.23.0->langsmith<0.4,>=0.1.125->langchain-community) (0.14.0)\n",
            "Requirement already satisfied: jsonpointer>=1.9 in /usr/local/lib/python3.11/dist-packages (from jsonpatch<2.0,>=1.33->langchain-core<1.0.0,>=0.3.37->langchain-community) (3.0.0)\n",
            "Requirement already satisfied: annotated-types>=0.6.0 in /usr/local/lib/python3.11/dist-packages (from pydantic<3.0.0,>=2.7.4->langchain<1.0.0,>=0.3.19->langchain-community) (0.7.0)\n",
            "Requirement already satisfied: pydantic-core==2.27.2 in /usr/local/lib/python3.11/dist-packages (from pydantic<3.0.0,>=2.7.4->langchain<1.0.0,>=0.3.19->langchain-community) (2.27.2)\n",
            "Collecting mypy-extensions>=0.3.0 (from typing-inspect<1,>=0.4.0->dataclasses-json<0.7,>=0.5.7->langchain-community)\n",
            "  Downloading mypy_extensions-1.0.0-py3-none-any.whl.metadata (1.1 kB)\n",
            "Requirement already satisfied: sniffio>=1.1 in /usr/local/lib/python3.11/dist-packages (from anyio->httpx<1,>=0.23.0->langsmith<0.4,>=0.1.125->langchain-community) (1.3.1)\n",
            "Downloading langchain_community-0.3.18-py3-none-any.whl (2.5 MB)\n",
            "\u001b[2K   \u001b[90m━━━━━━━━━━━━━━━━━━━━━━━━━━━━━━━━━━━━━━━━\u001b[0m \u001b[32m2.5/2.5 MB\u001b[0m \u001b[31m34.6 MB/s\u001b[0m eta \u001b[36m0:00:00\u001b[0m\n",
            "\u001b[?25hDownloading dataclasses_json-0.6.7-py3-none-any.whl (28 kB)\n",
            "Downloading httpx_sse-0.4.0-py3-none-any.whl (7.8 kB)\n",
            "Downloading pydantic_settings-2.8.0-py3-none-any.whl (30 kB)\n",
            "Downloading marshmallow-3.26.1-py3-none-any.whl (50 kB)\n",
            "\u001b[2K   \u001b[90m━━━━━━━━━━━━━━━━━━━━━━━━━━━━━━━━━━━━━━━━\u001b[0m \u001b[32m50.9/50.9 kB\u001b[0m \u001b[31m4.2 MB/s\u001b[0m eta \u001b[36m0:00:00\u001b[0m\n",
            "\u001b[?25hDownloading python_dotenv-1.0.1-py3-none-any.whl (19 kB)\n",
            "Downloading typing_inspect-0.9.0-py3-none-any.whl (8.8 kB)\n",
            "Downloading mypy_extensions-1.0.0-py3-none-any.whl (4.7 kB)\n",
            "Installing collected packages: python-dotenv, mypy-extensions, marshmallow, httpx-sse, typing-inspect, pydantic-settings, dataclasses-json, langchain-community\n",
            "Successfully installed dataclasses-json-0.6.7 httpx-sse-0.4.0 langchain-community-0.3.18 marshmallow-3.26.1 mypy-extensions-1.0.0 pydantic-settings-2.8.0 python-dotenv-1.0.1 typing-inspect-0.9.0\n"
          ]
        }
      ]
    },
    {
      "cell_type": "code",
      "source": [
        "from langchain import PromptTemplate\n",
        "from langchain.document_loaders import WebBaseLoader\n",
        "from langchain.schema import StrOutputParser\n",
        "from langchain.schema.prompt_template import format_document"
      ],
      "metadata": {
        "id": "brL9zers1A9G",
        "colab": {
          "base_uri": "https://localhost:8080/"
        },
        "outputId": "a6e4fe79-f210-4538-f62b-c3458d72af54"
      },
      "execution_count": 40,
      "outputs": [
        {
          "output_type": "stream",
          "name": "stderr",
          "text": [
            "WARNING:langchain_community.utils.user_agent:USER_AGENT environment variable not set, consider setting it to identify your requests.\n"
          ]
        }
      ]
    },
    {
      "source": [
        "import os\n",
        "\n",
        "#  directly access the mygeminikey variable\n",
        "GOOGLE_API_KEY = mygeminikey  #  'mygeminikey' holds your API key\n",
        "\n",
        "os.environ[\"GOOGLE_API_KEY\"] = GOOGLE_API_KEY"
      ],
      "cell_type": "code",
      "metadata": {
        "id": "-KP1IvVbR1xt"
      },
      "execution_count": 41,
      "outputs": []
    },
    {
      "cell_type": "code",
      "source": [
        "from langchain_google_genai import ChatGoogleGenerativeAI\n",
        "llm = ChatGoogleGenerativeAI(model=\"gemini-2.0-flash\")"
      ],
      "metadata": {
        "id": "JkhiSV05-DG0"
      },
      "execution_count": 42,
      "outputs": []
    },
    {
      "cell_type": "markdown",
      "source": [
        " we are going to summarize the text from a website using the Gemini model integrated through LangChain."
      ],
      "metadata": {
        "id": "2--S7w1jMDdA"
      }
    },
    {
      "cell_type": "code",
      "source": [
        "loader = WebBaseLoader(\"https://blog.google/technology/ai/google-gemini-ai/#sundar-note\")\n",
        "docs = loader.load()"
      ],
      "metadata": {
        "id": "0e3AZQIyMI1S"
      },
      "execution_count": 43,
      "outputs": []
    },
    {
      "cell_type": "code",
      "source": [
        "# client = genai.Client(api_key= mygeminikey)"
      ],
      "metadata": {
        "id": "3S5Oyyw9PbOM"
      },
      "execution_count": 44,
      "outputs": []
    },
    {
      "cell_type": "markdown",
      "source": [
        "Creating prompts for summarization"
      ],
      "metadata": {
        "id": "tQj9CT8L9aSP"
      }
    },
    {
      "cell_type": "code",
      "source": [
        "doc_prompt = PromptTemplate.from_template('{page_content}')\n",
        "\n",
        "llm_prompt_template = \"\"\"Write a concise summary of the following: \"{text}\" CONCISE SUMMARY: \"\"\"\n",
        "\n",
        "llm_prompt = PromptTemplate.from_template(llm_prompt_template)\n",
        "print(llm_prompt)"
      ],
      "metadata": {
        "colab": {
          "base_uri": "https://localhost:8080/"
        },
        "id": "KjJ0N9VNM5bT",
        "outputId": "688694aa-e40d-491b-c683-5fbaa7e834c5"
      },
      "execution_count": 45,
      "outputs": [
        {
          "output_type": "stream",
          "name": "stdout",
          "text": [
            "input_variables=['text'] input_types={} partial_variables={} template='Write a concise summary of the following: \"{text}\" CONCISE SUMMARY: '\n"
          ]
        }
      ]
    },
    {
      "cell_type": "markdown",
      "source": [
        "\n",
        "Create Stuff documents chain using LCEL.\n",
        " This is called a chain because you are chaining\n",
        " together different elements with the LLM.\n",
        " In the following example, to create stuff chain,\n",
        " you will combine content, prompt, LLM model and\n",
        " output parser together like a chain using LCEL.\n"
      ],
      "metadata": {
        "id": "JvfhZ5gZOolA"
      }
    },
    {
      "cell_type": "code",
      "source": [
        "stuff_chain = (\n",
        "    # Extract data from the documents and add to the key `text`.\n",
        "    {\n",
        "        \"text\": lambda docs: \"\\n\\n\".join(\n",
        "            format_document(doc, doc_prompt) for doc in docs\n",
        "        )\n",
        "    }\n",
        "    | llm_prompt         # Prompt for Gemini\n",
        "    | llm                # Gemini API function\n",
        "    | StrOutputParser()  # output parser\n",
        ")"
      ],
      "metadata": {
        "id": "3_ptoQ1eN6Zq"
      },
      "execution_count": 46,
      "outputs": []
    },
    {
      "cell_type": "code",
      "source": [
        "# invoke to get the summary\n",
        "stuff_chain.invoke(docs)"
      ],
      "metadata": {
        "colab": {
          "base_uri": "https://localhost:8080/",
          "height": 192
        },
        "id": "tEiZQvarO6C0",
        "outputId": "cac0a481-b38d-4104-bdb6-bd0b56967ea8"
      },
      "execution_count": 47,
      "outputs": [
        {
          "output_type": "execute_result",
          "data": {
            "text/plain": [
              "'Google introduces Gemini, its \"most capable and general AI model yet,\" designed to be multimodal, understanding and combining text, code, audio, image, and video. Gemini 1.0 comes in three sizes: Ultra (for complex tasks), Pro (for scaling), and Nano (for on-device tasks). Gemini Ultra outperforms human experts on the MMLU benchmark and achieves state-of-the-art results on 30 of 32 widely used academic benchmarks. Gemini Pro is now used in Bard, and Gemini Nano powers features on Pixel 8 Pro. Developers can access Gemini Pro via the Gemini API. Gemini Ultra will be available to select customers and experts for early experimentation and feedback before a broader release. Google emphasizes responsible AI development with comprehensive safety evaluations and collaborations with experts and organizations.'"
            ],
            "application/vnd.google.colaboratory.intrinsic+json": {
              "type": "string"
            }
          },
          "metadata": {},
          "execution_count": 47
        }
      ]
    },
    {
      "cell_type": "markdown",
      "source": [
        "### Agents"
      ],
      "metadata": {
        "id": "BCLb4byJhJho"
      }
    },
    {
      "cell_type": "markdown",
      "source": [
        "The best way to call genai"
      ],
      "metadata": {
        "id": "WxjhCCQdi0zF"
      }
    },
    {
      "cell_type": "code",
      "source": [
        "import google.generativeai as genai\n",
        "genai.configure(api_key = mygeminikey)\n",
        "client = genai.GenerativeModel(\"gemini-2.0-flash\")\n",
        "# prompt = \"     \"\n",
        "# model.generate_content(promptname)"
      ],
      "metadata": {
        "id": "M_K53_pThv_z"
      },
      "execution_count": 72,
      "outputs": []
    },
    {
      "cell_type": "code",
      "source": [
        "prompt5 = \"can you tell me who won the recent cricket world cup and in which year?\""
      ],
      "metadata": {
        "id": "zsSEtS-9h4Ur"
      },
      "execution_count": 53,
      "outputs": []
    },
    {
      "cell_type": "code",
      "source": [
        "client.generate_content(prompt5)"
      ],
      "metadata": {
        "colab": {
          "base_uri": "https://localhost:8080/",
          "height": 486
        },
        "id": "DcI4FOOXkXeT",
        "outputId": "32dcf64b-b251-4901-aff2-ebd0c6f644d8"
      },
      "execution_count": 73,
      "outputs": [
        {
          "output_type": "execute_result",
          "data": {
            "text/plain": [
              "response:\n",
              "GenerateContentResponse(\n",
              "    done=True,\n",
              "    iterator=None,\n",
              "    result=protos.GenerateContentResponse({\n",
              "      \"candidates\": [\n",
              "        {\n",
              "          \"content\": {\n",
              "            \"parts\": [\n",
              "              {\n",
              "                \"text\": \"Australia won the recent Cricket World Cup in **2023**.\\n\"\n",
              "              }\n",
              "            ],\n",
              "            \"role\": \"model\"\n",
              "          },\n",
              "          \"finish_reason\": \"STOP\",\n",
              "          \"avg_logprobs\": -0.024759823083877565\n",
              "        }\n",
              "      ],\n",
              "      \"usage_metadata\": {\n",
              "        \"prompt_token_count\": 16,\n",
              "        \"candidates_token_count\": 15,\n",
              "        \"total_token_count\": 31\n",
              "      },\n",
              "      \"model_version\": \"gemini-2.0-flash\"\n",
              "    }),\n",
              ")"
            ]
          },
          "metadata": {},
          "execution_count": 73
        }
      ]
    },
    {
      "cell_type": "code",
      "source": [
        "# using agents to fetch real time data\n",
        "!pip install google-search-results"
      ],
      "metadata": {
        "colab": {
          "base_uri": "https://localhost:8080/"
        },
        "id": "jpU_ZySQkfFP",
        "outputId": "53f4a7ac-4db4-46e1-e1e1-59fc56c8a841"
      },
      "execution_count": 60,
      "outputs": [
        {
          "output_type": "stream",
          "name": "stdout",
          "text": [
            "Requirement already satisfied: google-search-results in /usr/local/lib/python3.11/dist-packages (2.4.2)\n",
            "Requirement already satisfied: requests in /usr/local/lib/python3.11/dist-packages (from google-search-results) (2.32.3)\n",
            "Requirement already satisfied: charset-normalizer<4,>=2 in /usr/local/lib/python3.11/dist-packages (from requests->google-search-results) (3.4.1)\n",
            "Requirement already satisfied: idna<4,>=2.5 in /usr/local/lib/python3.11/dist-packages (from requests->google-search-results) (3.10)\n",
            "Requirement already satisfied: urllib3<3,>=1.21.1 in /usr/local/lib/python3.11/dist-packages (from requests->google-search-results) (2.3.0)\n",
            "Requirement already satisfied: certifi>=2017.4.17 in /usr/local/lib/python3.11/dist-packages (from requests->google-search-results) (2025.1.31)\n"
          ]
        }
      ]
    },
    {
      "cell_type": "code",
      "source": [
        "serp_api_key = \"\n",
        "\""
      ],
      "metadata": {
        "id": "k9RN5mNik1CJ"
      },
      "execution_count": 68,
      "outputs": []
    },
    {
      "cell_type": "code",
      "source": [
        "from langchain.agents import AgentType\n",
        "from langchain.agents import load_tools\n",
        "from langchain.agents import initialize_agent\n",
        "from langchain_google_genai import ChatGoogleGenerativeAI"
      ],
      "metadata": {
        "id": "m-SNk6-ElH9r"
      },
      "execution_count": 63,
      "outputs": []
    },
    {
      "cell_type": "markdown",
      "source": [
        "define genrative ai model initialization"
      ],
      "metadata": {
        "id": "CXfLDqAHlaaX"
      }
    },
    {
      "source": [
        "llm = ChatGoogleGenerativeAI(model=\"gemini-2.0-flash\")"
      ],
      "cell_type": "code",
      "metadata": {
        "id": "CaoeB9jPo-jm"
      },
      "execution_count": 78,
      "outputs": []
    },
    {
      "cell_type": "code",
      "source": [
        "tool = load_tools(['serpapi'], serpapi_api_key = serp_api_key, llm = llm)"
      ],
      "metadata": {
        "id": "8ryZH7N8l3cl"
      },
      "execution_count": 79,
      "outputs": []
    },
    {
      "cell_type": "code",
      "source": [
        "agent = initialize_agent(tool, llm, agent = AgentType.ZERO_SHOT_REACT_DESCRIPTION, verbose = True)"
      ],
      "metadata": {
        "id": "HbywiGAdmmKq"
      },
      "execution_count": 81,
      "outputs": []
    },
    {
      "cell_type": "code",
      "source": [
        "agent.run(\"can u tell who won the cricket worldcup recently?\")"
      ],
      "metadata": {
        "colab": {
          "base_uri": "https://localhost:8080/",
          "height": 281
        },
        "id": "INR8f5kLm1S4",
        "outputId": "38b7e072-280d-4b2f-9adf-35cf6a9c5a66"
      },
      "execution_count": 82,
      "outputs": [
        {
          "output_type": "stream",
          "name": "stderr",
          "text": [
            "<ipython-input-82-e749dbc56b3e>:1: LangChainDeprecationWarning: The method `Chain.run` was deprecated in langchain 0.1.0 and will be removed in 1.0. Use :meth:`~invoke` instead.\n",
            "  agent.run(\"can u tell who won the cricket worldcup recently?\")\n"
          ]
        },
        {
          "output_type": "stream",
          "name": "stdout",
          "text": [
            "\n",
            "\n",
            "\u001b[1m> Entering new AgentExecutor chain...\u001b[0m\n",
            "\u001b[32;1m\u001b[1;3mI need to find out who won the most recent Cricket World Cup. I will use the search tool to get this information.\n",
            "Action: Search\n",
            "Action Input: \"who won cricket world cup 2023\"\u001b[0m\n",
            "Observation: \u001b[36;1m\u001b[1;3m{'title': 'ICC Cricket World Cup', 'thumbnail': 'https://serpapi.com/searches/67bf6618ea49ab518a0e3571/images/344c848196f7e0948b3619704f8657d01ccf8281cbf5123aa5a50d083253697b.png', 'games': [{'tournament': 'ICC Cricket World Cup', 'venue': 'Narendra Modi Stadium', 'venue_kgmid': '/m/06m73y', 'date': 'Nov 19, 23', 'teams': [{'name': 'India', 'score': '240 (50)', 'kgmid': '/m/024nj1', 'thumbnail': 'https://serpapi.com/searches/67bf6618ea49ab518a0e3571/images/344c848196f7e09407efc52b073b4c2a14d6c552c86e79f90d185a3e32ba02c7d7a531623fa271d80fdf295b769a99f7.png'}, {'name': 'Australia', 'score': '241/4 (43)', 'kgmid': '/m/020wyp', 'thumbnail': 'https://serpapi.com/searches/67bf6618ea49ab518a0e3571/images/344c848196f7e09407efc52b073b4c2a14d6c552c86e79f91e71b15cd0ed4c8b9d002c7069a2d733f318b02dd08876e6.png'}], 'status': 'AUS won by 6 wickets (42 balls left)'}, {'tournament': 'ICC Cricket World Cup', 'venue': 'Eden Gardens', 'venue_kgmid': '/m/04jf9x', 'date': 'Nov 16, 23', 'teams': [{'name': 'South Africa', 'score': '212 (49.4)', 'kgmid': '/m/038zy5', 'thumbnail': 'https://serpapi.com/searches/67bf6618ea49ab518a0e3571/images/344c848196f7e09407efc52b073b4c2aec57524372516de6803ac6fb50d13691ad2d1b0bab4c7b113d2b4e7908265cbb.png'}, {'name': 'Australia', 'score': '215/7 (47.2)', 'kgmid': '/m/020wyp', 'thumbnail': 'https://serpapi.com/searches/67bf6618ea49ab518a0e3571/images/344c848196f7e09407efc52b073b4c2aec57524372516de607309d7d7a1775372bd635cd8e56da3db73033c7970f10ba.png'}], 'status': 'AUS won by 3 wickets (16 balls left)'}, {'tournament': 'ICC Cricket World Cup', 'venue': 'Wankhede Stadium', 'venue_kgmid': '/m/05f74n', 'date': 'Nov 15, 23', 'teams': [{'name': 'India', 'score': '397/4 (50)', 'kgmid': '/m/024nj1', 'thumbnail': 'https://serpapi.com/searches/67bf6618ea49ab518a0e3571/images/344c848196f7e09407efc52b073b4c2a10a36cc269a3f621526cf98bc9004b2999f731d9978e03938828350b4e5fc4aa.png'}, {'name': 'New Zealand', 'score': '327 (48.5)', 'kgmid': '/m/02fbb5', 'thumbnail': 'https://serpapi.com/searches/67bf6618ea49ab518a0e3571/images/344c848196f7e09407efc52b073b4c2a10a36cc269a3f62198677971e0a22ddd10227bc94f168dd45e83f62c1b1a75ad.png'}], 'status': 'IND won by 70 runs'}, {'tournament': 'ICC Cricket World Cup', 'venue': 'M. Chinnaswamy Stadium', 'venue_kgmid': '/m/06m6yw', 'date': 'Nov 12, 23', 'teams': [{'name': 'India', 'score': '410/4 (50)', 'kgmid': '/m/024nj1', 'thumbnail': 'https://serpapi.com/searches/67bf6618ea49ab518a0e3571/images/344c848196f7e09407efc52b073b4c2a50b76f3d4fc89881323419668cf61640c442fb2be0dda67a76caa8a9b9dc47eb.png'}, {'name': 'Netherlands', 'score': '250 (47.5)', 'kgmid': '/m/06rmgh', 'thumbnail': 'https://serpapi.com/searches/67bf6618ea49ab518a0e3571/images/344c848196f7e09407efc52b073b4c2a50b76f3d4fc89881d0b1314cd1feaa6d3a08d39a275e82cd91060b15d6751885.png'}], 'status': 'IND won by 160 runs'}, {'tournament': 'ICC Cricket World Cup', 'venue': 'Eden Gardens', 'venue_kgmid': '/m/04jf9x', 'date': 'Nov 11, 23', 'teams': [{'name': 'England', 'score': '337/9 (50)', 'kgmid': '/m/038zh6', 'thumbnail': 'https://serpapi.com/searches/67bf6618ea49ab518a0e3571/images/344c848196f7e09407efc52b073b4c2ae9346c4d504ad6fd91fac79ceed28aaabf9a520cc6a19cf6453b3de346bf6978.png'}, {'name': 'Pakistan', 'score': '244 (43.3)', 'kgmid': '/m/038_0z', 'thumbnail': 'https://serpapi.com/searches/67bf6618ea49ab518a0e3571/images/344c848196f7e09407efc52b073b4c2ae9346c4d504ad6fd1106f85d120e5d9b30b4bf267bb3d7b3845103a3e870176a.png'}], 'status': 'ENG won by 93 runs'}, {'tournament': 'ICC Cricket World Cup', 'venue': 'Maharashtra Cricket Association Stadium', 'venue_kgmid': '/m/04n5lw_', 'date': 'Nov 11, 23', 'teams': [{'name': 'Bangladesh', 'score': '306/8 (50)', 'kgmid': '/m/038_6w', 'thumbnail': 'https://serpapi.com/searches/67bf6618ea49ab518a0e3571/images/344c848196f7e09407efc52b073b4c2a6d1103f43ed28a139297fcadfb176b1be0b0bee0e8a4c1d94be9f635b1eedec0.png'}, {'name': 'Australia', 'score': '307/2 (44.4)', 'kgmid': '/m/020wyp', 'thumbnail': 'https://serpapi.com/searches/67bf6618ea49ab518a0e3571/images/344c848196f7e09407efc52b073b4c2a6d1103f43ed28a1397eb60b247cbdf7ed54017aebaf99ed8d94b64e656bc9f11.png'}], 'status': 'AUS won by 8 wickets (32 balls left)'}]}\u001b[0m\n",
            "Thought:\u001b[32;1m\u001b[1;3mThe search result shows that Australia won the Cricket World Cup 2023 by defeating India in the final.\n",
            "Final Answer: Australia won the Cricket World Cup 2023.\u001b[0m\n",
            "\n",
            "\u001b[1m> Finished chain.\u001b[0m\n"
          ]
        },
        {
          "output_type": "execute_result",
          "data": {
            "text/plain": [
              "'Australia won the Cricket World Cup 2023.'"
            ],
            "application/vnd.google.colaboratory.intrinsic+json": {
              "type": "string"
            }
          },
          "metadata": {},
          "execution_count": 82
        }
      ]
    },
    {
      "cell_type": "code",
      "source": [
        "agent.run(\"can you tell 5 top current affairs?\")"
      ],
      "metadata": {
        "colab": {
          "base_uri": "https://localhost:8080/",
          "height": 663
        },
        "id": "FAcVQ4wBnC9X",
        "outputId": "a1185f14-d991-46c0-bc7b-886ae814a314"
      },
      "execution_count": 83,
      "outputs": [
        {
          "output_type": "stream",
          "name": "stdout",
          "text": [
            "\n",
            "\n",
            "\u001b[1m> Entering new AgentExecutor chain...\u001b[0m\n",
            "\u001b[32;1m\u001b[1;3mI need to find five current affairs. I will use the search tool to find the top current events.\n",
            "Action: Search\n",
            "Action Input: \"top 5 current events\"\u001b[0m\n",
            "Observation: \u001b[36;1m\u001b[1;3mTop News\u001b[0m\n",
            "Thought:\u001b[32;1m\u001b[1;3mI need to refine my search to be more specific and to find actual events. I will search for recent news headlines.\n",
            "Action: Search\n",
            "Action Input: \"recent news headlines\"\u001b[0m\n",
            "Observation: \u001b[36;1m\u001b[1;3m[{'title': \"'Buffy' and 'Gossip Girl' actress Michelle Trachtenberg dead at 39\", 'link': 'https://abcnews.go.com/GMA/Culture/buffy-gossip-girl-actress-michelle-trachtenberg-dead-39/story?id=119215091', 'source': 'ABC News', 'date': '1 hour ago', 'thumbnail': 'https://serpapi.com/searches/67bf6695b1cad9f7508c15c5/images/984506cd61bc2ab11ab250f3029360df1712f5704b9b68ca.jpeg'}, {'title': 'The Trump administration sets the stage for large-scale federal worker layoffs in a new memo', 'link': 'https://apnews.com/article/trump-elon-musk-federal-workers-layoffs-d295d4bb2cdd5023c27d9cb03754e81b', 'source': 'AP News', 'date': '27 minutes ago', 'thumbnail': 'https://serpapi.com/searches/67bf6695b1cad9f7508c15c5/images/984506cd61bc2ab1e075ae56617217100e53d43755966150.jpeg'}, {'title': 'Ukraine-Russia war latest: Trump says Zelensky will sign minerals deal on Friday but US won’t guarantee security', 'link': 'https://www.independent.co.uk/news/world/europe/ukraine-russia-war-trump-zelensky-minerals-deal-map-latest-news-b2704825.html', 'source': 'The Independent', 'date': '27 minutes ago', 'thumbnail': 'https://serpapi.com/searches/67bf6695b1cad9f7508c15c5/images/984506cd61bc2ab167e5e241075f736b6dadd1bc5b881019.jpeg', 'live': True}, {'title': \"US Supreme Court seems poised to lower bar for 'reverse discrimination' suits\", 'link': 'https://www.reuters.com/legal/straight-womans-reverse-discrimination-case-goes-us-supreme-court-2025-02-26/', 'source': 'Reuters', 'date': '37 minutes ago', 'thumbnail': 'https://serpapi.com/searches/67bf6695b1cad9f7508c15c5/images/984506cd61bc2ab15377efee8ff7d9a4e7eece853c965bf0.jpeg'}, {'title': '‘Trump Gaza is finally here!’: US president promotes Gaza plan in AI video', 'link': 'https://www.cnn.com/2025/02/26/world/trump-promotes-gaza-plan-ai-video-intl/index.html', 'source': 'CNN', 'date': '43 minutes ago', 'thumbnail': 'https://serpapi.com/searches/67bf6695b1cad9f7508c15c5/images/984506cd61bc2ab1a3d0e603d740704790592a54b1ad6fe3.jpeg'}, {'title': 'Trump proposes selling $5 million ‘gold cards’ to wealthy immigrants', 'link': 'https://www.washingtonpost.com/immigration/2025/02/25/trump-gold-cards-wealthy-immigrants-united-states/', 'source': 'The Washington Post', 'date': '11 hours ago', 'thumbnail': 'https://serpapi.com/searches/67bf6695b1cad9f7508c15c5/images/984506cd61bc2ab109044e15b5ab2a7ef13d3a8cf0334f0a.jpeg'}]\u001b[0m\n",
            "Thought:\u001b[32;1m\u001b[1;3mHere are five current affairs based on the search results:\n",
            "\n",
            "1.  **Death of Michelle Trachtenberg:** Actress Michelle Trachtenberg, known for roles in \"Buffy the Vampire Slayer\" and \"Gossip Girl,\" has reportedly passed away at 39.\n",
            "2.  **Potential Federal Worker Layoffs:** The Trump administration is reportedly setting the stage for large-scale federal worker layoffs.\n",
            "3.  **Ukraine-Russia War:** Developments in the Ukraine-Russia war continue, with reports of Trump stating Zelensky will sign a minerals deal but the US won't guarantee security.\n",
            "4.  **Supreme Court Reverse Discrimination Case:** The US Supreme Court appears poised to lower the bar for \"reverse discrimination\" suits.\n",
            "5.  **Trump's Gaza Plan:** Trump is promoting a Gaza plan in an AI video.\n",
            "Final Answer: Here are five current affairs based on the search results:\n",
            "\n",
            "1.  **Death of Michelle Trachtenberg:** Actress Michelle Trachtenberg, known for roles in \"Buffy the Vampire Slayer\" and \"Gossip Girl,\" has reportedly passed away at 39.\n",
            "2.  **Potential Federal Worker Layoffs:** The Trump administration is reportedly setting the stage for large-scale federal worker layoffs.\n",
            "3.  **Ukraine-Russia War:** Developments in the Ukraine-Russia war continue, with reports of Trump stating Zelensky will sign a minerals deal but the US won't guarantee security.\n",
            "4.  **Supreme Court Reverse Discrimination Case:** The US Supreme Court appears poised to lower the bar for \"reverse discrimination\" suits.\n",
            "5.  **Trump's Gaza Plan:** Trump is promoting a Gaza plan in an AI video.\u001b[0m\n",
            "\n",
            "\u001b[1m> Finished chain.\u001b[0m\n"
          ]
        },
        {
          "output_type": "execute_result",
          "data": {
            "text/plain": [
              "'Here are five current affairs based on the search results:\\n\\n1.  **Death of Michelle Trachtenberg:** Actress Michelle Trachtenberg, known for roles in \"Buffy the Vampire Slayer\" and \"Gossip Girl,\" has reportedly passed away at 39.\\n2.  **Potential Federal Worker Layoffs:** The Trump administration is reportedly setting the stage for large-scale federal worker layoffs.\\n3.  **Ukraine-Russia War:** Developments in the Ukraine-Russia war continue, with reports of Trump stating Zelensky will sign a minerals deal but the US won\\'t guarantee security.\\n4.  **Supreme Court Reverse Discrimination Case:** The US Supreme Court appears poised to lower the bar for \"reverse discrimination\" suits.\\n5.  **Trump\\'s Gaza Plan:** Trump is promoting a Gaza plan in an AI video.'"
            ],
            "application/vnd.google.colaboratory.intrinsic+json": {
              "type": "string"
            }
          },
          "metadata": {},
          "execution_count": 83
        }
      ]
    },
    {
      "cell_type": "code",
      "source": [
        "!pip install wikipedia"
      ],
      "metadata": {
        "colab": {
          "base_uri": "https://localhost:8080/"
        },
        "id": "TtaTCRp4qIr_",
        "outputId": "fa0b4714-2662-4cf6-db95-2c63dce02d5a"
      },
      "execution_count": 84,
      "outputs": [
        {
          "output_type": "stream",
          "name": "stdout",
          "text": [
            "Collecting wikipedia\n",
            "  Downloading wikipedia-1.4.0.tar.gz (27 kB)\n",
            "  Preparing metadata (setup.py) ... \u001b[?25l\u001b[?25hdone\n",
            "Requirement already satisfied: beautifulsoup4 in /usr/local/lib/python3.11/dist-packages (from wikipedia) (4.13.3)\n",
            "Requirement already satisfied: requests<3.0.0,>=2.0.0 in /usr/local/lib/python3.11/dist-packages (from wikipedia) (2.32.3)\n",
            "Requirement already satisfied: charset-normalizer<4,>=2 in /usr/local/lib/python3.11/dist-packages (from requests<3.0.0,>=2.0.0->wikipedia) (3.4.1)\n",
            "Requirement already satisfied: idna<4,>=2.5 in /usr/local/lib/python3.11/dist-packages (from requests<3.0.0,>=2.0.0->wikipedia) (3.10)\n",
            "Requirement already satisfied: urllib3<3,>=1.21.1 in /usr/local/lib/python3.11/dist-packages (from requests<3.0.0,>=2.0.0->wikipedia) (2.3.0)\n",
            "Requirement already satisfied: certifi>=2017.4.17 in /usr/local/lib/python3.11/dist-packages (from requests<3.0.0,>=2.0.0->wikipedia) (2025.1.31)\n",
            "Requirement already satisfied: soupsieve>1.2 in /usr/local/lib/python3.11/dist-packages (from beautifulsoup4->wikipedia) (2.6)\n",
            "Requirement already satisfied: typing-extensions>=4.0.0 in /usr/local/lib/python3.11/dist-packages (from beautifulsoup4->wikipedia) (4.12.2)\n",
            "Building wheels for collected packages: wikipedia\n",
            "  Building wheel for wikipedia (setup.py) ... \u001b[?25l\u001b[?25hdone\n",
            "  Created wheel for wikipedia: filename=wikipedia-1.4.0-py3-none-any.whl size=11679 sha256=730d65047c656958e007289c3247b5ae4627e2b514c66d9b048addc5e5283149\n",
            "  Stored in directory: /root/.cache/pip/wheels/8f/ab/cb/45ccc40522d3a1c41e1d2ad53b8f33a62f394011ec38cd71c6\n",
            "Successfully built wikipedia\n",
            "Installing collected packages: wikipedia\n",
            "Successfully installed wikipedia-1.4.0\n"
          ]
        }
      ]
    },
    {
      "cell_type": "code",
      "source": [
        "tool = load_tools(['wikipedia'], llm = llm)\n",
        "agent = initialize_agent(tool, llm, agent = AgentType.ZERO_SHOT_REACT_DESCRIPTION, verbose = True)"
      ],
      "metadata": {
        "id": "TcfYduWZqX7V"
      },
      "execution_count": 85,
      "outputs": []
    },
    {
      "cell_type": "code",
      "source": [
        "agent.run('can you tell me about this recent cricket worldcup?')"
      ],
      "metadata": {
        "colab": {
          "base_uri": "https://localhost:8080/",
          "height": 524
        },
        "id": "ayxl1uslqu9F",
        "outputId": "0e774e9f-12eb-4ce1-b389-79ee5c3c9cd3"
      },
      "execution_count": 86,
      "outputs": [
        {
          "output_type": "stream",
          "name": "stdout",
          "text": [
            "\n",
            "\n",
            "\u001b[1m> Entering new AgentExecutor chain...\u001b[0m\n",
            "\u001b[32;1m\u001b[1;3mI need to find out which cricket world cup is being referred to as \"recent\" and then provide information about it. Since I don't have specific information about the current date, I will assume the most recent one is the 2023 Cricket World Cup.\n",
            "Action: wikipedia\n",
            "Action Input: 2023 Cricket World Cup\u001b[0m\n",
            "Observation: \u001b[36;1m\u001b[1;3mPage: 2023 Cricket World Cup\n",
            "Summary: The 2023 ICC Men's Cricket World Cup was the 13th edition of the ICC Men's Cricket World Cup, a quadrennial One Day International (ODI) cricket tournament organized by the International Cricket Council (ICC). It was hosted from 5 October to 19 November 2023 across ten venues in India. This was the fourth World Cup held in India, but the first where India was the sole host.\n",
            "The tournament was contested by ten national teams, maintaining the same format used in 2019. After six weeks of round-robin matches, India, South Africa, Australia, and New Zealand finished as the top four and qualified for the knockout stage. In the knockout stage, India and Australia beat New Zealand and South Africa, respectively, to advance to the final, played on 19 November at the Narendra Modi Stadium in Ahmedabad. Australia won the final by six wickets, winning their sixth Cricket World Cup title.\n",
            "Virat Kohli was named the player of the tournament and also scored the most runs, while Mohammed Shami was the leading wicket-taker. A total of 1,250,307 spectators attended the matches, the highest number in any Cricket World Cup to date. The tournament final set viewership records in India, drawing 518 million viewers, with a peak of 57 million streaming viewers.\n",
            "\n",
            "Page: Cricket World Cup\n",
            "Summary: The ICC Men's Cricket World Cup is the quadrennial international championship of One Day International cricket. The event is organised by the sport's governing body, the International Cricket Council (ICC), every four years, with preliminary qualification rounds leading up to a finals tournament. The tournament is one of the world's most viewed sporting events and considered the \"flagship event of the international cricket calendar\" by the ICC. It is widely considered the pinnacle championship of the sport of cricket.\n",
            "The first Cricket World Cup was organised in England in June 1975, with the first ODI cricket match having been played only four years earlier. However, a separate Women's Cricket World Cup had been held two years before the first men's tournament, and a tournament involving multiple international teams had been held as early as 1912, when a triangular tournament of Test matches was played between Australia, England and South Africa. The first three World Cups were held in England. From the 1987 tournament onwards, hosting has been shared between countries under an unofficial rotation system, with fourteen ICC members having hosted at least one match in the tournament.\n",
            "The current format involves a qualification phase, which takes place over the preceding three years, to determine which teams qualify for the tournament phase. In the tournament phase, 10 teams, including the automatically qualifying host nation, compete for the title at venues within the host nation over about a month. In the 2027 World Cup, the format will be changed to accommodate an expanded 14-team final competition.\n",
            "A total of twenty teams have competed in the 13 editions of the tournament, with ten teams competing in the recent 2023 tournament. Australia has won the tournament six times, India and West Indies twice each, while Pakistan, Sri Lanka and England have won it once each. The best performance by a non-full-member team came when Kenya made the semi-finals of the 2003 tournament.\n",
            "Australia are the current champions after winning the 2023 World Cup in India. The subsequent 2027 World Cup will be held jointly in South Africa, Zimbabwe and Namibia.\n",
            "\n",
            "Page: 2023 Cricket World Cup squads\n",
            "Summary: This is a list of the squads picked for the 2023 Cricket World Cup. The 10 participating nations were instructed to finalise their 15-player squads prior to 28 September 2023, with any replacements after this date requiring approval from the International Cricket Council. All squads were announced by 26 September 2023. The oldest player of the tournament was Dutch player Wesley Barresi, who was 39 years old, while the youngest was Afghan spinner \u001b[0m\n",
            "Thought:\u001b[32;1m\u001b[1;3mI now have a good overview of the 2023 Cricket World Cup.\n",
            "Final Answer: The 2023 ICC Men's Cricket World Cup was the 13th edition and was held in India from October 5 to November 19, 2023. Ten teams participated, and Australia won the final against India by six wickets, securing their sixth World Cup title. Virat Kohli was named player of the tournament, and the event set viewership records in India.\u001b[0m\n",
            "\n",
            "\u001b[1m> Finished chain.\u001b[0m\n"
          ]
        },
        {
          "output_type": "execute_result",
          "data": {
            "text/plain": [
              "\"The 2023 ICC Men's Cricket World Cup was the 13th edition and was held in India from October 5 to November 19, 2023. Ten teams participated, and Australia won the final against India by six wickets, securing their sixth World Cup title. Virat Kohli was named player of the tournament, and the event set viewership records in India.\""
            ],
            "application/vnd.google.colaboratory.intrinsic+json": {
              "type": "string"
            }
          },
          "metadata": {},
          "execution_count": 86
        }
      ]
    },
    {
      "cell_type": "markdown",
      "source": [
        "### Chain"
      ],
      "metadata": {
        "id": "XR4MWmuJq3u-"
      }
    },
    {
      "cell_type": "code",
      "source": [],
      "metadata": {
        "id": "Q3BKa3EtrHzq"
      },
      "execution_count": null,
      "outputs": []
    }
  ]
}